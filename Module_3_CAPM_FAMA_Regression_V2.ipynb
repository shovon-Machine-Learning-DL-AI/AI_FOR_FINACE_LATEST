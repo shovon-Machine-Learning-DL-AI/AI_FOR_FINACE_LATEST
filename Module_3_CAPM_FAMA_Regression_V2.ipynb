{
 "cells": [
  {
   "cell_type": "markdown",
   "metadata": {},
   "source": [
    "<img src=\"img/CAPM_M3.png\"/>"
   ]
  },
  {
   "cell_type": "markdown",
   "metadata": {},
   "source": [
    "<div class=\"alert alert-block alert-info\">\n",
    "<b><span style=\"font-family:Comic Sans MS\">Capital Assets Pricing Model</span></b>\n",
    "</div>"
   ]
  },
  {
   "cell_type": "code",
   "execution_count": 1,
   "metadata": {},
   "outputs": [],
   "source": [
    "# import libraries\n",
    "import pandas as pd\n",
    "import statsmodels.api as sm"
   ]
  },
  {
   "cell_type": "code",
   "execution_count": 2,
   "metadata": {},
   "outputs": [],
   "source": [
    "'''\n",
    "Download monthly prices of Facebook and S&P 500 Index from 2016-04 to 2021-03\n",
    "CSV file downloaded from Yahoo finance Site\n",
    "start period: Apr-2016 \n",
    "end period: Mar-2021\n",
    "period format: DD/MM/YEAR\n",
    "'''\n",
    "fb = pd.read_csv('/Users/shovonsengupta/Desktop/All/EC-Council Course/AI_for_Finance/Section_3_Linearity and Non-Linearity in Finance/dataset/FB_prices_2016_2021.csv', parse_dates=True, index_col='Date',)\n",
    "sp_500 = pd.read_csv('/Users/shovonsengupta/Desktop/All/EC-Council Course/AI_for_Finance/Section_3_Linearity and Non-Linearity in Finance/dataset/^GSPC.csv', parse_dates=True, index_col='Date')"
   ]
  },
  {
   "cell_type": "code",
   "execution_count": 3,
   "metadata": {},
   "outputs": [
    {
     "data": {
      "text/html": [
       "<div>\n",
       "<style scoped>\n",
       "    .dataframe tbody tr th:only-of-type {\n",
       "        vertical-align: middle;\n",
       "    }\n",
       "\n",
       "    .dataframe tbody tr th {\n",
       "        vertical-align: top;\n",
       "    }\n",
       "\n",
       "    .dataframe thead th {\n",
       "        text-align: right;\n",
       "    }\n",
       "</style>\n",
       "<table border=\"1\" class=\"dataframe\">\n",
       "  <thead>\n",
       "    <tr style=\"text-align: right;\">\n",
       "      <th></th>\n",
       "      <th>Open</th>\n",
       "      <th>High</th>\n",
       "      <th>Low</th>\n",
       "      <th>Close</th>\n",
       "      <th>Adj Close</th>\n",
       "      <th>Volume</th>\n",
       "    </tr>\n",
       "    <tr>\n",
       "      <th>Date</th>\n",
       "      <th></th>\n",
       "      <th></th>\n",
       "      <th></th>\n",
       "      <th></th>\n",
       "      <th></th>\n",
       "      <th></th>\n",
       "    </tr>\n",
       "  </thead>\n",
       "  <tbody>\n",
       "    <tr>\n",
       "      <th>2016-04-01</th>\n",
       "      <td>113.750000</td>\n",
       "      <td>120.790001</td>\n",
       "      <td>106.309998</td>\n",
       "      <td>117.580002</td>\n",
       "      <td>117.580002</td>\n",
       "      <td>741613800</td>\n",
       "    </tr>\n",
       "    <tr>\n",
       "      <th>2016-05-01</th>\n",
       "      <td>117.830002</td>\n",
       "      <td>121.080002</td>\n",
       "      <td>115.879997</td>\n",
       "      <td>118.809998</td>\n",
       "      <td>118.809998</td>\n",
       "      <td>460544200</td>\n",
       "    </tr>\n",
       "    <tr>\n",
       "      <th>2016-06-01</th>\n",
       "      <td>118.500000</td>\n",
       "      <td>119.440002</td>\n",
       "      <td>108.230003</td>\n",
       "      <td>114.279999</td>\n",
       "      <td>114.279999</td>\n",
       "      <td>450876100</td>\n",
       "    </tr>\n",
       "    <tr>\n",
       "      <th>2016-07-01</th>\n",
       "      <td>114.199997</td>\n",
       "      <td>128.330002</td>\n",
       "      <td>112.970001</td>\n",
       "      <td>123.940002</td>\n",
       "      <td>123.940002</td>\n",
       "      <td>470108600</td>\n",
       "    </tr>\n",
       "    <tr>\n",
       "      <th>2016-08-01</th>\n",
       "      <td>123.849998</td>\n",
       "      <td>126.730003</td>\n",
       "      <td>122.070000</td>\n",
       "      <td>126.120003</td>\n",
       "      <td>126.120003</td>\n",
       "      <td>365670900</td>\n",
       "    </tr>\n",
       "  </tbody>\n",
       "</table>\n",
       "</div>"
      ],
      "text/plain": [
       "                  Open        High         Low       Close   Adj Close  \\\n",
       "Date                                                                     \n",
       "2016-04-01  113.750000  120.790001  106.309998  117.580002  117.580002   \n",
       "2016-05-01  117.830002  121.080002  115.879997  118.809998  118.809998   \n",
       "2016-06-01  118.500000  119.440002  108.230003  114.279999  114.279999   \n",
       "2016-07-01  114.199997  128.330002  112.970001  123.940002  123.940002   \n",
       "2016-08-01  123.849998  126.730003  122.070000  126.120003  126.120003   \n",
       "\n",
       "               Volume  \n",
       "Date                   \n",
       "2016-04-01  741613800  \n",
       "2016-05-01  460544200  \n",
       "2016-06-01  450876100  \n",
       "2016-07-01  470108600  \n",
       "2016-08-01  365670900  "
      ]
     },
     "execution_count": 3,
     "metadata": {},
     "output_type": "execute_result"
    }
   ],
   "source": [
    "fb.head()"
   ]
  },
  {
   "cell_type": "code",
   "execution_count": 4,
   "metadata": {},
   "outputs": [
    {
     "data": {
      "text/html": [
       "<div>\n",
       "<style scoped>\n",
       "    .dataframe tbody tr th:only-of-type {\n",
       "        vertical-align: middle;\n",
       "    }\n",
       "\n",
       "    .dataframe tbody tr th {\n",
       "        vertical-align: top;\n",
       "    }\n",
       "\n",
       "    .dataframe thead th {\n",
       "        text-align: right;\n",
       "    }\n",
       "</style>\n",
       "<table border=\"1\" class=\"dataframe\">\n",
       "  <thead>\n",
       "    <tr style=\"text-align: right;\">\n",
       "      <th></th>\n",
       "      <th>Open</th>\n",
       "      <th>High</th>\n",
       "      <th>Low</th>\n",
       "      <th>Close</th>\n",
       "      <th>Adj Close</th>\n",
       "      <th>Volume</th>\n",
       "    </tr>\n",
       "    <tr>\n",
       "      <th>Date</th>\n",
       "      <th></th>\n",
       "      <th></th>\n",
       "      <th></th>\n",
       "      <th></th>\n",
       "      <th></th>\n",
       "      <th></th>\n",
       "    </tr>\n",
       "  </thead>\n",
       "  <tbody>\n",
       "    <tr>\n",
       "      <th>2016-04-01</th>\n",
       "      <td>2056.62</td>\n",
       "      <td>2111.05</td>\n",
       "      <td>2033.80</td>\n",
       "      <td>2065.30</td>\n",
       "      <td>2065.30</td>\n",
       "      <td>8.112499e+10</td>\n",
       "    </tr>\n",
       "    <tr>\n",
       "      <th>2017-04-01</th>\n",
       "      <td>2362.34</td>\n",
       "      <td>2398.16</td>\n",
       "      <td>2328.95</td>\n",
       "      <td>2384.20</td>\n",
       "      <td>2384.20</td>\n",
       "      <td>6.526567e+10</td>\n",
       "    </tr>\n",
       "    <tr>\n",
       "      <th>2018-04-01</th>\n",
       "      <td>2633.45</td>\n",
       "      <td>2717.49</td>\n",
       "      <td>2553.80</td>\n",
       "      <td>2648.05</td>\n",
       "      <td>2648.05</td>\n",
       "      <td>6.964859e+10</td>\n",
       "    </tr>\n",
       "    <tr>\n",
       "      <th>2019-04-01</th>\n",
       "      <td>2848.63</td>\n",
       "      <td>2949.52</td>\n",
       "      <td>2848.63</td>\n",
       "      <td>2945.83</td>\n",
       "      <td>2945.83</td>\n",
       "      <td>6.960484e+10</td>\n",
       "    </tr>\n",
       "    <tr>\n",
       "      <th>2020-04-01</th>\n",
       "      <td>2498.08</td>\n",
       "      <td>2954.86</td>\n",
       "      <td>2447.49</td>\n",
       "      <td>2912.43</td>\n",
       "      <td>2912.43</td>\n",
       "      <td>1.231634e+11</td>\n",
       "    </tr>\n",
       "  </tbody>\n",
       "</table>\n",
       "</div>"
      ],
      "text/plain": [
       "               Open     High      Low    Close  Adj Close        Volume\n",
       "Date                                                                   \n",
       "2016-04-01  2056.62  2111.05  2033.80  2065.30    2065.30  8.112499e+10\n",
       "2017-04-01  2362.34  2398.16  2328.95  2384.20    2384.20  6.526567e+10\n",
       "2018-04-01  2633.45  2717.49  2553.80  2648.05    2648.05  6.964859e+10\n",
       "2019-04-01  2848.63  2949.52  2848.63  2945.83    2945.83  6.960484e+10\n",
       "2020-04-01  2498.08  2954.86  2447.49  2912.43    2912.43  1.231634e+11"
      ]
     },
     "execution_count": 4,
     "metadata": {},
     "output_type": "execute_result"
    }
   ],
   "source": [
    "sp_500.head()"
   ]
  },
  {
   "cell_type": "code",
   "execution_count": 7,
   "metadata": {},
   "outputs": [
    {
     "name": "stdout",
     "output_type": "stream",
     "text": [
      "(61, 6)\n",
      "(61, 6)\n"
     ]
    }
   ],
   "source": [
    "print(fb.shape)\n",
    "print(sp_500.shape)"
   ]
  },
  {
   "cell_type": "code",
   "execution_count": 5,
   "metadata": {},
   "outputs": [],
   "source": [
    "# joining the closing prices of the two datasets \n",
    "monthly_prices = pd.concat([fb['Close'], sp_500['Close']], axis=1)\n",
    "monthly_prices.columns = ['FB', 'SP_500']"
   ]
  },
  {
   "cell_type": "code",
   "execution_count": 6,
   "metadata": {},
   "outputs": [
    {
     "data": {
      "text/html": [
       "<div>\n",
       "<style scoped>\n",
       "    .dataframe tbody tr th:only-of-type {\n",
       "        vertical-align: middle;\n",
       "    }\n",
       "\n",
       "    .dataframe tbody tr th {\n",
       "        vertical-align: top;\n",
       "    }\n",
       "\n",
       "    .dataframe thead th {\n",
       "        text-align: right;\n",
       "    }\n",
       "</style>\n",
       "<table border=\"1\" class=\"dataframe\">\n",
       "  <thead>\n",
       "    <tr style=\"text-align: right;\">\n",
       "      <th></th>\n",
       "      <th>FB</th>\n",
       "      <th>SP_500</th>\n",
       "    </tr>\n",
       "    <tr>\n",
       "      <th>Date</th>\n",
       "      <th></th>\n",
       "      <th></th>\n",
       "    </tr>\n",
       "  </thead>\n",
       "  <tbody>\n",
       "    <tr>\n",
       "      <th>2016-04-01</th>\n",
       "      <td>117.580002</td>\n",
       "      <td>2065.30</td>\n",
       "    </tr>\n",
       "    <tr>\n",
       "      <th>2016-05-01</th>\n",
       "      <td>118.809998</td>\n",
       "      <td>2096.95</td>\n",
       "    </tr>\n",
       "    <tr>\n",
       "      <th>2016-06-01</th>\n",
       "      <td>114.279999</td>\n",
       "      <td>2098.86</td>\n",
       "    </tr>\n",
       "    <tr>\n",
       "      <th>2016-07-01</th>\n",
       "      <td>123.940002</td>\n",
       "      <td>2173.60</td>\n",
       "    </tr>\n",
       "    <tr>\n",
       "      <th>2016-08-01</th>\n",
       "      <td>126.120003</td>\n",
       "      <td>2170.95</td>\n",
       "    </tr>\n",
       "  </tbody>\n",
       "</table>\n",
       "</div>"
      ],
      "text/plain": [
       "                    FB   SP_500\n",
       "Date                           \n",
       "2016-04-01  117.580002  2065.30\n",
       "2016-05-01  118.809998  2096.95\n",
       "2016-06-01  114.279999  2098.86\n",
       "2016-07-01  123.940002  2173.60\n",
       "2016-08-01  126.120003  2170.95"
      ]
     },
     "execution_count": 6,
     "metadata": {},
     "output_type": "execute_result"
    }
   ],
   "source": [
    "# check the head of the dataframe\n",
    "monthly_prices.head()"
   ]
  },
  {
   "cell_type": "code",
   "execution_count": 7,
   "metadata": {},
   "outputs": [
    {
     "data": {
      "text/html": [
       "<div>\n",
       "<style scoped>\n",
       "    .dataframe tbody tr th:only-of-type {\n",
       "        vertical-align: middle;\n",
       "    }\n",
       "\n",
       "    .dataframe tbody tr th {\n",
       "        vertical-align: top;\n",
       "    }\n",
       "\n",
       "    .dataframe thead th {\n",
       "        text-align: right;\n",
       "    }\n",
       "</style>\n",
       "<table border=\"1\" class=\"dataframe\">\n",
       "  <thead>\n",
       "    <tr style=\"text-align: right;\">\n",
       "      <th></th>\n",
       "      <th>FB</th>\n",
       "      <th>SP_500</th>\n",
       "    </tr>\n",
       "    <tr>\n",
       "      <th>Date</th>\n",
       "      <th></th>\n",
       "      <th></th>\n",
       "    </tr>\n",
       "  </thead>\n",
       "  <tbody>\n",
       "    <tr>\n",
       "      <th>2020-12-01</th>\n",
       "      <td>273.160004</td>\n",
       "      <td>3756.07</td>\n",
       "    </tr>\n",
       "    <tr>\n",
       "      <th>2021-01-01</th>\n",
       "      <td>258.329987</td>\n",
       "      <td>3714.24</td>\n",
       "    </tr>\n",
       "    <tr>\n",
       "      <th>2021-02-01</th>\n",
       "      <td>257.619995</td>\n",
       "      <td>3811.15</td>\n",
       "    </tr>\n",
       "    <tr>\n",
       "      <th>2021-03-01</th>\n",
       "      <td>290.109985</td>\n",
       "      <td>3943.34</td>\n",
       "    </tr>\n",
       "    <tr>\n",
       "      <th>2021-03-19</th>\n",
       "      <td>290.109985</td>\n",
       "      <td>3913.10</td>\n",
       "    </tr>\n",
       "  </tbody>\n",
       "</table>\n",
       "</div>"
      ],
      "text/plain": [
       "                    FB   SP_500\n",
       "Date                           \n",
       "2020-12-01  273.160004  3756.07\n",
       "2021-01-01  258.329987  3714.24\n",
       "2021-02-01  257.619995  3811.15\n",
       "2021-03-01  290.109985  3943.34\n",
       "2021-03-19  290.109985  3913.10"
      ]
     },
     "execution_count": 7,
     "metadata": {},
     "output_type": "execute_result"
    }
   ],
   "source": [
    "monthly_prices.tail()"
   ]
  },
  {
   "cell_type": "code",
   "execution_count": 8,
   "metadata": {},
   "outputs": [
    {
     "data": {
      "text/html": [
       "<div>\n",
       "<style scoped>\n",
       "    .dataframe tbody tr th:only-of-type {\n",
       "        vertical-align: middle;\n",
       "    }\n",
       "\n",
       "    .dataframe tbody tr th {\n",
       "        vertical-align: top;\n",
       "    }\n",
       "\n",
       "    .dataframe thead th {\n",
       "        text-align: right;\n",
       "    }\n",
       "</style>\n",
       "<table border=\"1\" class=\"dataframe\">\n",
       "  <thead>\n",
       "    <tr style=\"text-align: right;\">\n",
       "      <th></th>\n",
       "      <th>FB</th>\n",
       "      <th>SP_500</th>\n",
       "    </tr>\n",
       "    <tr>\n",
       "      <th>Date</th>\n",
       "      <th></th>\n",
       "      <th></th>\n",
       "    </tr>\n",
       "  </thead>\n",
       "  <tbody>\n",
       "    <tr>\n",
       "      <th>2016-05-01</th>\n",
       "      <td>0.010461</td>\n",
       "      <td>0.015325</td>\n",
       "    </tr>\n",
       "    <tr>\n",
       "      <th>2016-06-01</th>\n",
       "      <td>-0.038128</td>\n",
       "      <td>0.000911</td>\n",
       "    </tr>\n",
       "    <tr>\n",
       "      <th>2016-07-01</th>\n",
       "      <td>0.084529</td>\n",
       "      <td>0.035610</td>\n",
       "    </tr>\n",
       "    <tr>\n",
       "      <th>2016-08-01</th>\n",
       "      <td>0.017589</td>\n",
       "      <td>-0.001219</td>\n",
       "    </tr>\n",
       "    <tr>\n",
       "      <th>2016-09-01</th>\n",
       "      <td>0.017047</td>\n",
       "      <td>-0.001234</td>\n",
       "    </tr>\n",
       "  </tbody>\n",
       "</table>\n",
       "</div>"
      ],
      "text/plain": [
       "                  FB    SP_500\n",
       "Date                          \n",
       "2016-05-01  0.010461  0.015325\n",
       "2016-06-01 -0.038128  0.000911\n",
       "2016-07-01  0.084529  0.035610\n",
       "2016-08-01  0.017589 -0.001219\n",
       "2016-09-01  0.017047 -0.001234"
      ]
     },
     "execution_count": 8,
     "metadata": {},
     "output_type": "execute_result"
    }
   ],
   "source": [
    "# calculate monthly returns\n",
    "monthly_returns = monthly_prices.pct_change(1)\n",
    "clean_monthly_returns = monthly_returns.dropna(axis=0)  # drop first missing row\n",
    "clean_monthly_returns.head()"
   ]
  },
  {
   "cell_type": "code",
   "execution_count": 9,
   "metadata": {},
   "outputs": [
    {
     "name": "stdout",
     "output_type": "stream",
     "text": [
      "                            OLS Regression Results                            \n",
      "==============================================================================\n",
      "Dep. Variable:                     FB   R-squared:                       0.453\n",
      "Model:                            OLS   Adj. R-squared:                  0.444\n",
      "Method:                 Least Squares   F-statistic:                     48.03\n",
      "Date:                Mon, 22 Mar 2021   Prob (F-statistic):           3.84e-09\n",
      "Time:                        19:11:41   Log-Likelihood:                 83.824\n",
      "No. Observations:                  60   AIC:                            -163.6\n",
      "Df Residuals:                      58   BIC:                            -159.5\n",
      "Df Model:                           1                                         \n",
      "Covariance Type:            nonrobust                                         \n",
      "==============================================================================\n",
      "                 coef    std err          t      P>|t|      [0.025      0.975]\n",
      "------------------------------------------------------------------------------\n",
      "const          0.0034      0.008      0.421      0.676      -0.013       0.020\n",
      "SP_500         1.2794      0.185      6.930      0.000       0.910       1.649\n",
      "==============================================================================\n",
      "Omnibus:                        1.461   Durbin-Watson:                   2.054\n",
      "Prob(Omnibus):                  0.482   Jarque-Bera (JB):                0.758\n",
      "Skew:                          -0.057   Prob(JB):                        0.684\n",
      "Kurtosis:                       3.539   Cond. No.                         23.5\n",
      "==============================================================================\n",
      "\n",
      "Warnings:\n",
      "[1] Standard Errors assume that the covariance matrix of the errors is correctly specified.\n"
     ]
    }
   ],
   "source": [
    "# split dependent and independent variable\n",
    "X = clean_monthly_returns['SP_500']\n",
    "y = clean_monthly_returns['FB']\n",
    "\n",
    "# Add a constant to the independent value\n",
    "X1 = sm.add_constant(X)\n",
    "\n",
    "# make regression model \n",
    "model = sm.OLS(y, X1)\n",
    "\n",
    "# fit model and print results\n",
    "results = model.fit()\n",
    "print(results.summary())"
   ]
  },
  {
   "cell_type": "markdown",
   "metadata": {},
   "source": [
    "<img src=\"img/FB_Beta_M3.png\"/>"
   ]
  },
  {
   "cell_type": "markdown",
   "metadata": {},
   "source": [
    "<div class=\"alert alert-block alert-info\">\n",
    "<b><span style=\"font-family:Comic Sans MS\">From CAPM to the Fama-French Factor Model</span></b>\n",
    "</div>"
   ]
  },
  {
   "cell_type": "markdown",
   "metadata": {},
   "source": [
    "<img src=\"img/FAMA_M3.png\"/>"
   ]
  },
  {
   "cell_type": "code",
   "execution_count": 10,
   "metadata": {},
   "outputs": [],
   "source": [
    "# !pip install linearmodels"
   ]
  },
  {
   "cell_type": "markdown",
   "metadata": {},
   "source": [
    "<div class=\"alert alert-block alert-info\">\n",
    "<b><span style=\"font-family:Comic Sans MS\">Implementing the Fama-French Factor Model</span></b>\n",
    "</div>"
   ]
  },
  {
   "cell_type": "code",
   "execution_count": 11,
   "metadata": {},
   "outputs": [],
   "source": [
    "import pandas as pd\n",
    "import yfinance as yf\n",
    "import statsmodels.formula.api as smf"
   ]
  },
  {
   "cell_type": "markdown",
   "metadata": {},
   "source": [
    "__Download data from prof. French's website:!__"
   ]
  },
  {
   "cell_type": "code",
   "execution_count": 82,
   "metadata": {},
   "outputs": [],
   "source": [
    "RISKY_ASSET = 'FB'\n",
    "START_DATE = '2010-10-30'\n",
    "END_DATE = '2020-10-30'"
   ]
  },
  {
   "cell_type": "code",
   "execution_count": 83,
   "metadata": {},
   "outputs": [],
   "source": [
    "# F-F_Research_Data_Factors.CSV\n",
    "# Load data from the source CSV file and keep only the monthly data:\n",
    "# load data from csv\n",
    "factor_df = pd.read_csv('/Users/shovonsengupta/Desktop/All/EC-Council Course/AI_for_Finance/Section_3_Linearity and Non-Linearity in Finance/dataset/F-F_Research_Data_Factors.csv', skiprows=3)\n",
    "\n",
    "# identify where the annual data starts\n",
    "STR_TO_MATCH = ' Annual Factors: January-December '\n",
    "indices = factor_df.iloc[:, 0] == STR_TO_MATCH\n",
    "start_of_annual = factor_df[indices].index[0]\n",
    "\n",
    "# keep only monthly data\n",
    "factor_df = factor_df[factor_df.index < start_of_annual]"
   ]
  },
  {
   "cell_type": "code",
   "execution_count": 84,
   "metadata": {},
   "outputs": [
    {
     "data": {
      "text/html": [
       "<div>\n",
       "<style scoped>\n",
       "    .dataframe tbody tr th:only-of-type {\n",
       "        vertical-align: middle;\n",
       "    }\n",
       "\n",
       "    .dataframe tbody tr th {\n",
       "        vertical-align: top;\n",
       "    }\n",
       "\n",
       "    .dataframe thead th {\n",
       "        text-align: right;\n",
       "    }\n",
       "</style>\n",
       "<table border=\"1\" class=\"dataframe\">\n",
       "  <thead>\n",
       "    <tr style=\"text-align: right;\">\n",
       "      <th></th>\n",
       "      <th>Unnamed: 0</th>\n",
       "      <th>Mkt-RF</th>\n",
       "      <th>SMB</th>\n",
       "      <th>HML</th>\n",
       "      <th>RF</th>\n",
       "    </tr>\n",
       "  </thead>\n",
       "  <tbody>\n",
       "    <tr>\n",
       "      <th>0</th>\n",
       "      <td>192607</td>\n",
       "      <td>2.96</td>\n",
       "      <td>-2.30</td>\n",
       "      <td>-2.87</td>\n",
       "      <td>0.22</td>\n",
       "    </tr>\n",
       "    <tr>\n",
       "      <th>1</th>\n",
       "      <td>192608</td>\n",
       "      <td>2.64</td>\n",
       "      <td>-1.40</td>\n",
       "      <td>4.19</td>\n",
       "      <td>0.25</td>\n",
       "    </tr>\n",
       "    <tr>\n",
       "      <th>2</th>\n",
       "      <td>192609</td>\n",
       "      <td>0.36</td>\n",
       "      <td>-1.32</td>\n",
       "      <td>0.01</td>\n",
       "      <td>0.23</td>\n",
       "    </tr>\n",
       "    <tr>\n",
       "      <th>3</th>\n",
       "      <td>192610</td>\n",
       "      <td>-3.24</td>\n",
       "      <td>0.04</td>\n",
       "      <td>0.51</td>\n",
       "      <td>0.32</td>\n",
       "    </tr>\n",
       "    <tr>\n",
       "      <th>4</th>\n",
       "      <td>192611</td>\n",
       "      <td>2.53</td>\n",
       "      <td>-0.20</td>\n",
       "      <td>-0.35</td>\n",
       "      <td>0.31</td>\n",
       "    </tr>\n",
       "  </tbody>\n",
       "</table>\n",
       "</div>"
      ],
      "text/plain": [
       "  Unnamed: 0    Mkt-RF       SMB       HML        RF\n",
       "0     192607      2.96     -2.30     -2.87      0.22\n",
       "1     192608      2.64     -1.40      4.19      0.25\n",
       "2     192609      0.36     -1.32      0.01      0.23\n",
       "3     192610     -3.24      0.04      0.51      0.32\n",
       "4     192611      2.53     -0.20     -0.35      0.31"
      ]
     },
     "execution_count": 84,
     "metadata": {},
     "output_type": "execute_result"
    }
   ],
   "source": [
    "factor_df.head()"
   ]
  },
  {
   "cell_type": "code",
   "execution_count": 85,
   "metadata": {},
   "outputs": [
    {
     "data": {
      "text/plain": [
       "(1121, 5)"
      ]
     },
     "execution_count": 85,
     "metadata": {},
     "output_type": "execute_result"
    }
   ],
   "source": [
    "factor_df.shape"
   ]
  },
  {
   "cell_type": "code",
   "execution_count": 86,
   "metadata": {},
   "outputs": [
    {
     "data": {
      "text/html": [
       "<div>\n",
       "<style scoped>\n",
       "    .dataframe tbody tr th:only-of-type {\n",
       "        vertical-align: middle;\n",
       "    }\n",
       "\n",
       "    .dataframe tbody tr th {\n",
       "        vertical-align: top;\n",
       "    }\n",
       "\n",
       "    .dataframe thead th {\n",
       "        text-align: right;\n",
       "    }\n",
       "</style>\n",
       "<table border=\"1\" class=\"dataframe\">\n",
       "  <thead>\n",
       "    <tr style=\"text-align: right;\">\n",
       "      <th></th>\n",
       "      <th>Unnamed: 0</th>\n",
       "      <th>Mkt-RF</th>\n",
       "      <th>SMB</th>\n",
       "      <th>HML</th>\n",
       "      <th>RF</th>\n",
       "    </tr>\n",
       "  </thead>\n",
       "  <tbody>\n",
       "    <tr>\n",
       "      <th>1116</th>\n",
       "      <td>201907</td>\n",
       "      <td>1.19</td>\n",
       "      <td>-2.07</td>\n",
       "      <td>0.14</td>\n",
       "      <td>0.19</td>\n",
       "    </tr>\n",
       "    <tr>\n",
       "      <th>1117</th>\n",
       "      <td>201908</td>\n",
       "      <td>-2.58</td>\n",
       "      <td>-2.41</td>\n",
       "      <td>-4.99</td>\n",
       "      <td>0.16</td>\n",
       "    </tr>\n",
       "    <tr>\n",
       "      <th>1118</th>\n",
       "      <td>201909</td>\n",
       "      <td>1.44</td>\n",
       "      <td>-0.90</td>\n",
       "      <td>6.71</td>\n",
       "      <td>0.18</td>\n",
       "    </tr>\n",
       "    <tr>\n",
       "      <th>1119</th>\n",
       "      <td>201910</td>\n",
       "      <td>2.06</td>\n",
       "      <td>0.25</td>\n",
       "      <td>-2.07</td>\n",
       "      <td>0.15</td>\n",
       "    </tr>\n",
       "    <tr>\n",
       "      <th>1120</th>\n",
       "      <td>201911</td>\n",
       "      <td>3.87</td>\n",
       "      <td>0.86</td>\n",
       "      <td>-1.88</td>\n",
       "      <td>0.12</td>\n",
       "    </tr>\n",
       "  </tbody>\n",
       "</table>\n",
       "</div>"
      ],
      "text/plain": [
       "     Unnamed: 0    Mkt-RF       SMB       HML        RF\n",
       "1116     201907      1.19     -2.07      0.14      0.19\n",
       "1117     201908     -2.58     -2.41     -4.99      0.16\n",
       "1118     201909      1.44     -0.90      6.71      0.18\n",
       "1119     201910      2.06      0.25     -2.07      0.15\n",
       "1120     201911      3.87      0.86     -1.88      0.12"
      ]
     },
     "execution_count": 86,
     "metadata": {},
     "output_type": "execute_result"
    }
   ],
   "source": [
    "factor_df.tail()"
   ]
  },
  {
   "cell_type": "code",
   "execution_count": 87,
   "metadata": {},
   "outputs": [],
   "source": [
    "# Rename columns of the DataFrame, set a datetime index and filter by dates:\n",
    "# rename columns\n",
    "factor_df.columns = ['date', 'mkt', 'smb', 'hml', 'rf']\n",
    "\n",
    "# convert strings to datetime\n",
    "factor_df['date'] = pd.to_datetime(factor_df['date'], \n",
    "                                   format='%Y%m').dt.strftime(\"%Y-%m\")\n",
    "\n",
    "# set index\n",
    "factor_df = factor_df.set_index('date')\n",
    "\n",
    "# filter only required dates\n",
    "factor_df = factor_df.loc[START_DATE:END_DATE]"
   ]
  },
  {
   "cell_type": "code",
   "execution_count": 88,
   "metadata": {},
   "outputs": [
    {
     "data": {
      "text/plain": [
       "(109, 4)"
      ]
     },
     "execution_count": 88,
     "metadata": {},
     "output_type": "execute_result"
    }
   ],
   "source": [
    "factor_df.shape"
   ]
  },
  {
   "cell_type": "code",
   "execution_count": 89,
   "metadata": {},
   "outputs": [
    {
     "data": {
      "text/html": [
       "<div>\n",
       "<style scoped>\n",
       "    .dataframe tbody tr th:only-of-type {\n",
       "        vertical-align: middle;\n",
       "    }\n",
       "\n",
       "    .dataframe tbody tr th {\n",
       "        vertical-align: top;\n",
       "    }\n",
       "\n",
       "    .dataframe thead th {\n",
       "        text-align: right;\n",
       "    }\n",
       "</style>\n",
       "<table border=\"1\" class=\"dataframe\">\n",
       "  <thead>\n",
       "    <tr style=\"text-align: right;\">\n",
       "      <th></th>\n",
       "      <th>mkt</th>\n",
       "      <th>smb</th>\n",
       "      <th>hml</th>\n",
       "      <th>rf</th>\n",
       "    </tr>\n",
       "    <tr>\n",
       "      <th>date</th>\n",
       "      <th></th>\n",
       "      <th></th>\n",
       "      <th></th>\n",
       "      <th></th>\n",
       "    </tr>\n",
       "  </thead>\n",
       "  <tbody>\n",
       "    <tr>\n",
       "      <th>2010-11</th>\n",
       "      <td>0.60</td>\n",
       "      <td>3.70</td>\n",
       "      <td>-0.90</td>\n",
       "      <td>0.01</td>\n",
       "    </tr>\n",
       "    <tr>\n",
       "      <th>2010-12</th>\n",
       "      <td>6.82</td>\n",
       "      <td>0.69</td>\n",
       "      <td>3.82</td>\n",
       "      <td>0.01</td>\n",
       "    </tr>\n",
       "    <tr>\n",
       "      <th>2011-01</th>\n",
       "      <td>1.99</td>\n",
       "      <td>-2.47</td>\n",
       "      <td>0.82</td>\n",
       "      <td>0.01</td>\n",
       "    </tr>\n",
       "    <tr>\n",
       "      <th>2011-02</th>\n",
       "      <td>3.49</td>\n",
       "      <td>1.53</td>\n",
       "      <td>1.10</td>\n",
       "      <td>0.01</td>\n",
       "    </tr>\n",
       "    <tr>\n",
       "      <th>2011-03</th>\n",
       "      <td>0.45</td>\n",
       "      <td>2.60</td>\n",
       "      <td>-1.58</td>\n",
       "      <td>0.01</td>\n",
       "    </tr>\n",
       "  </tbody>\n",
       "</table>\n",
       "</div>"
      ],
      "text/plain": [
       "              mkt       smb       hml        rf\n",
       "date                                           \n",
       "2010-11      0.60      3.70     -0.90      0.01\n",
       "2010-12      6.82      0.69      3.82      0.01\n",
       "2011-01      1.99     -2.47      0.82      0.01\n",
       "2011-02      3.49      1.53      1.10      0.01\n",
       "2011-03      0.45      2.60     -1.58      0.01"
      ]
     },
     "execution_count": 89,
     "metadata": {},
     "output_type": "execute_result"
    }
   ],
   "source": [
    "factor_df.head()"
   ]
  },
  {
   "cell_type": "code",
   "execution_count": 90,
   "metadata": {},
   "outputs": [
    {
     "data": {
      "text/html": [
       "<div>\n",
       "<style scoped>\n",
       "    .dataframe tbody tr th:only-of-type {\n",
       "        vertical-align: middle;\n",
       "    }\n",
       "\n",
       "    .dataframe tbody tr th {\n",
       "        vertical-align: top;\n",
       "    }\n",
       "\n",
       "    .dataframe thead th {\n",
       "        text-align: right;\n",
       "    }\n",
       "</style>\n",
       "<table border=\"1\" class=\"dataframe\">\n",
       "  <thead>\n",
       "    <tr style=\"text-align: right;\">\n",
       "      <th></th>\n",
       "      <th>mkt</th>\n",
       "      <th>smb</th>\n",
       "      <th>hml</th>\n",
       "      <th>rf</th>\n",
       "    </tr>\n",
       "    <tr>\n",
       "      <th>date</th>\n",
       "      <th></th>\n",
       "      <th></th>\n",
       "      <th></th>\n",
       "      <th></th>\n",
       "    </tr>\n",
       "  </thead>\n",
       "  <tbody>\n",
       "    <tr>\n",
       "      <th>2019-07</th>\n",
       "      <td>1.19</td>\n",
       "      <td>-2.07</td>\n",
       "      <td>0.14</td>\n",
       "      <td>0.19</td>\n",
       "    </tr>\n",
       "    <tr>\n",
       "      <th>2019-08</th>\n",
       "      <td>-2.58</td>\n",
       "      <td>-2.41</td>\n",
       "      <td>-4.99</td>\n",
       "      <td>0.16</td>\n",
       "    </tr>\n",
       "    <tr>\n",
       "      <th>2019-09</th>\n",
       "      <td>1.44</td>\n",
       "      <td>-0.90</td>\n",
       "      <td>6.71</td>\n",
       "      <td>0.18</td>\n",
       "    </tr>\n",
       "    <tr>\n",
       "      <th>2019-10</th>\n",
       "      <td>2.06</td>\n",
       "      <td>0.25</td>\n",
       "      <td>-2.07</td>\n",
       "      <td>0.15</td>\n",
       "    </tr>\n",
       "    <tr>\n",
       "      <th>2019-11</th>\n",
       "      <td>3.87</td>\n",
       "      <td>0.86</td>\n",
       "      <td>-1.88</td>\n",
       "      <td>0.12</td>\n",
       "    </tr>\n",
       "  </tbody>\n",
       "</table>\n",
       "</div>"
      ],
      "text/plain": [
       "              mkt       smb       hml        rf\n",
       "date                                           \n",
       "2019-07      1.19     -2.07      0.14      0.19\n",
       "2019-08     -2.58     -2.41     -4.99      0.16\n",
       "2019-09      1.44     -0.90      6.71      0.18\n",
       "2019-10      2.06      0.25     -2.07      0.15\n",
       "2019-11      3.87      0.86     -1.88      0.12"
      ]
     },
     "execution_count": 90,
     "metadata": {},
     "output_type": "execute_result"
    }
   ],
   "source": [
    "factor_df.tail()"
   ]
  },
  {
   "cell_type": "code",
   "execution_count": 91,
   "metadata": {},
   "outputs": [
    {
     "data": {
      "text/html": [
       "<div>\n",
       "<style scoped>\n",
       "    .dataframe tbody tr th:only-of-type {\n",
       "        vertical-align: middle;\n",
       "    }\n",
       "\n",
       "    .dataframe tbody tr th {\n",
       "        vertical-align: top;\n",
       "    }\n",
       "\n",
       "    .dataframe thead th {\n",
       "        text-align: right;\n",
       "    }\n",
       "</style>\n",
       "<table border=\"1\" class=\"dataframe\">\n",
       "  <thead>\n",
       "    <tr style=\"text-align: right;\">\n",
       "      <th></th>\n",
       "      <th>mkt</th>\n",
       "      <th>smb</th>\n",
       "      <th>hml</th>\n",
       "      <th>rf</th>\n",
       "    </tr>\n",
       "    <tr>\n",
       "      <th>date</th>\n",
       "      <th></th>\n",
       "      <th></th>\n",
       "      <th></th>\n",
       "      <th></th>\n",
       "    </tr>\n",
       "  </thead>\n",
       "  <tbody>\n",
       "    <tr>\n",
       "      <th>2010-11</th>\n",
       "      <td>0.0060</td>\n",
       "      <td>0.0370</td>\n",
       "      <td>-0.0090</td>\n",
       "      <td>0.0001</td>\n",
       "    </tr>\n",
       "    <tr>\n",
       "      <th>2010-12</th>\n",
       "      <td>0.0682</td>\n",
       "      <td>0.0069</td>\n",
       "      <td>0.0382</td>\n",
       "      <td>0.0001</td>\n",
       "    </tr>\n",
       "    <tr>\n",
       "      <th>2011-01</th>\n",
       "      <td>0.0199</td>\n",
       "      <td>-0.0247</td>\n",
       "      <td>0.0082</td>\n",
       "      <td>0.0001</td>\n",
       "    </tr>\n",
       "    <tr>\n",
       "      <th>2011-02</th>\n",
       "      <td>0.0349</td>\n",
       "      <td>0.0153</td>\n",
       "      <td>0.0110</td>\n",
       "      <td>0.0001</td>\n",
       "    </tr>\n",
       "    <tr>\n",
       "      <th>2011-03</th>\n",
       "      <td>0.0045</td>\n",
       "      <td>0.0260</td>\n",
       "      <td>-0.0158</td>\n",
       "      <td>0.0001</td>\n",
       "    </tr>\n",
       "  </tbody>\n",
       "</table>\n",
       "</div>"
      ],
      "text/plain": [
       "            mkt     smb     hml      rf\n",
       "date                                   \n",
       "2010-11  0.0060  0.0370 -0.0090  0.0001\n",
       "2010-12  0.0682  0.0069  0.0382  0.0001\n",
       "2011-01  0.0199 -0.0247  0.0082  0.0001\n",
       "2011-02  0.0349  0.0153  0.0110  0.0001\n",
       "2011-03  0.0045  0.0260 -0.0158  0.0001"
      ]
     },
     "execution_count": 91,
     "metadata": {},
     "output_type": "execute_result"
    }
   ],
   "source": [
    "# Convert the values to numeric and divide by 100\n",
    "factor_df = factor_df.apply(pd.to_numeric, errors='coerce').div(100)\n",
    "factor_df.head()"
   ]
  },
  {
   "cell_type": "code",
   "execution_count": 92,
   "metadata": {},
   "outputs": [
    {
     "name": "stdout",
     "output_type": "stream",
     "text": [
      "Downloaded 2127 rows of data.\n"
     ]
    }
   ],
   "source": [
    "# Download the prices of the risky asset\n",
    "asset_df = yf.download(RISKY_ASSET,\n",
    "                       start=START_DATE,\n",
    "                       end=END_DATE,\n",
    "                       adjusted=True,\n",
    "                       progress=False)\n",
    "\n",
    "print(f'Downloaded {asset_df.shape[0]} rows of data.')"
   ]
  },
  {
   "cell_type": "code",
   "execution_count": 93,
   "metadata": {},
   "outputs": [
    {
     "data": {
      "text/plain": [
       "Date\n",
       "2012-06    0.050676\n",
       "2012-07   -0.301929\n",
       "2012-08   -0.168125\n",
       "2012-09    0.199336\n",
       "2012-10   -0.025392\n",
       "Name: rtn, dtype: float64"
      ]
     },
     "execution_count": 93,
     "metadata": {},
     "output_type": "execute_result"
    }
   ],
   "source": [
    "# Calculate monthly returns on the risky asset:\n",
    "y = asset_df['Adj Close'].resample('M').last().pct_change().dropna()\n",
    "\n",
    "y.index = y.index.strftime('%Y-%m')\n",
    "y.name = 'rtn'\n",
    "y.head()"
   ]
  },
  {
   "cell_type": "code",
   "execution_count": 94,
   "metadata": {},
   "outputs": [],
   "source": [
    "# Merge the datasets and calculate excess returns:\n",
    "ff_data = factor_df.join(y)\n",
    "ff_data['excess_rtn'] = ff_data.rtn - ff_data.rf"
   ]
  },
  {
   "cell_type": "code",
   "execution_count": 95,
   "metadata": {},
   "outputs": [
    {
     "name": "stdout",
     "output_type": "stream",
     "text": [
      "                            OLS Regression Results                            \n",
      "==============================================================================\n",
      "Dep. Variable:             excess_rtn   R-squared:                       0.147\n",
      "Model:                            OLS   Adj. R-squared:                  0.117\n",
      "Method:                 Least Squares   F-statistic:                     4.932\n",
      "Date:                Mon, 22 Mar 2021   Prob (F-statistic):            0.00330\n",
      "Time:                        19:36:56   Log-Likelihood:                 82.857\n",
      "No. Observations:                  90   AIC:                            -157.7\n",
      "Df Residuals:                      86   BIC:                            -147.7\n",
      "Df Model:                           3                                         \n",
      "Covariance Type:            nonrobust                                         \n",
      "==============================================================================\n",
      "                 coef    std err          t      P>|t|      [0.025      0.975]\n",
      "------------------------------------------------------------------------------\n",
      "Intercept      0.0134      0.011      1.198      0.234      -0.009       0.036\n",
      "mkt            1.0083      0.336      3.005      0.003       0.341       1.675\n",
      "smb            0.2102      0.477      0.441      0.661      -0.738       1.159\n",
      "hml           -0.8860      0.438     -2.021      0.046      -1.758      -0.014\n",
      "==============================================================================\n",
      "Omnibus:                       22.704   Durbin-Watson:                   1.902\n",
      "Prob(Omnibus):                  0.000   Jarque-Bera (JB):               68.148\n",
      "Skew:                           0.746   Prob(JB):                     1.59e-15\n",
      "Kurtosis:                       6.993   Cond. No.                         48.0\n",
      "==============================================================================\n",
      "\n",
      "Warnings:\n",
      "[1] Standard Errors assume that the covariance matrix of the errors is correctly specified.\n"
     ]
    }
   ],
   "source": [
    "# Estimate the three-factor model:\n",
    "# define and fit the regression model \n",
    "ff_model = smf.ols(formula='excess_rtn ~ mkt + smb + hml', \n",
    "                   data=ff_data).fit()\n",
    "\n",
    "# print results \n",
    "print(ff_model.summary())"
   ]
  },
  {
   "cell_type": "markdown",
   "metadata": {},
   "source": [
    "__Bonus components__"
   ]
  },
  {
   "cell_type": "code",
   "execution_count": 31,
   "metadata": {},
   "outputs": [],
   "source": [
    "# Import the libraries:\n",
    "from pandas_datareader.famafrench import get_available_datasets\n",
    "import pandas_datareader.data as web"
   ]
  },
  {
   "cell_type": "code",
   "execution_count": 32,
   "metadata": {},
   "outputs": [
    {
     "data": {
      "text/plain": [
       "['F-F_Research_Data_Factors',\n",
       " 'F-F_Research_Data_Factors_weekly',\n",
       " 'F-F_Research_Data_Factors_daily',\n",
       " 'F-F_Research_Data_5_Factors_2x3',\n",
       " 'F-F_Research_Data_5_Factors_2x3_daily']"
      ]
     },
     "execution_count": 32,
     "metadata": {},
     "output_type": "execute_result"
    }
   ],
   "source": [
    "# Print available datasets (here only first 5):\n",
    "get_available_datasets()[:5]"
   ]
  },
  {
   "cell_type": "code",
   "execution_count": 33,
   "metadata": {},
   "outputs": [],
   "source": [
    "# Download the selected dataset\n",
    "ff_dict = web.DataReader('F-F_Research_Data_Factors', 'famafrench', \n",
    "                         start='2013-01-01')"
   ]
  },
  {
   "cell_type": "code",
   "execution_count": 34,
   "metadata": {},
   "outputs": [
    {
     "data": {
      "text/plain": [
       "dict_keys([0, 1, 'DESCR'])"
      ]
     },
     "execution_count": 34,
     "metadata": {},
     "output_type": "execute_result"
    }
   ],
   "source": [
    "ff_dict.keys()"
   ]
  },
  {
   "cell_type": "code",
   "execution_count": 35,
   "metadata": {},
   "outputs": [
    {
     "name": "stdout",
     "output_type": "stream",
     "text": [
      "F-F Research Data Factors\n",
      "-------------------------\n",
      "\n",
      "This file was created by CMPT_ME_BEME_RETS using the 202102 CRSP database. The 1-month TBill return is from Ibbotson and Associates, Inc. Copyright 2021 Kenneth R. French\n",
      "\n",
      "  0 : (98 rows x 4 cols)\n",
      "  1 : Annual Factors: January-December (8 rows x 4 cols)\n"
     ]
    }
   ],
   "source": [
    "print(ff_dict['DESCR'])"
   ]
  },
  {
   "cell_type": "code",
   "execution_count": 36,
   "metadata": {},
   "outputs": [
    {
     "data": {
      "text/html": [
       "<div>\n",
       "<style scoped>\n",
       "    .dataframe tbody tr th:only-of-type {\n",
       "        vertical-align: middle;\n",
       "    }\n",
       "\n",
       "    .dataframe tbody tr th {\n",
       "        vertical-align: top;\n",
       "    }\n",
       "\n",
       "    .dataframe thead th {\n",
       "        text-align: right;\n",
       "    }\n",
       "</style>\n",
       "<table border=\"1\" class=\"dataframe\">\n",
       "  <thead>\n",
       "    <tr style=\"text-align: right;\">\n",
       "      <th></th>\n",
       "      <th>Mkt-RF</th>\n",
       "      <th>SMB</th>\n",
       "      <th>HML</th>\n",
       "      <th>RF</th>\n",
       "    </tr>\n",
       "    <tr>\n",
       "      <th>Date</th>\n",
       "      <th></th>\n",
       "      <th></th>\n",
       "      <th></th>\n",
       "      <th></th>\n",
       "    </tr>\n",
       "  </thead>\n",
       "  <tbody>\n",
       "    <tr>\n",
       "      <th>2013-01</th>\n",
       "      <td>5.57</td>\n",
       "      <td>0.36</td>\n",
       "      <td>0.98</td>\n",
       "      <td>0.0</td>\n",
       "    </tr>\n",
       "    <tr>\n",
       "      <th>2013-02</th>\n",
       "      <td>1.29</td>\n",
       "      <td>-0.42</td>\n",
       "      <td>0.13</td>\n",
       "      <td>0.0</td>\n",
       "    </tr>\n",
       "    <tr>\n",
       "      <th>2013-03</th>\n",
       "      <td>4.03</td>\n",
       "      <td>0.75</td>\n",
       "      <td>-0.23</td>\n",
       "      <td>0.0</td>\n",
       "    </tr>\n",
       "    <tr>\n",
       "      <th>2013-04</th>\n",
       "      <td>1.55</td>\n",
       "      <td>-2.40</td>\n",
       "      <td>0.53</td>\n",
       "      <td>0.0</td>\n",
       "    </tr>\n",
       "    <tr>\n",
       "      <th>2013-05</th>\n",
       "      <td>2.80</td>\n",
       "      <td>1.66</td>\n",
       "      <td>2.61</td>\n",
       "      <td>0.0</td>\n",
       "    </tr>\n",
       "  </tbody>\n",
       "</table>\n",
       "</div>"
      ],
      "text/plain": [
       "         Mkt-RF   SMB   HML   RF\n",
       "Date                            \n",
       "2013-01    5.57  0.36  0.98  0.0\n",
       "2013-02    1.29 -0.42  0.13  0.0\n",
       "2013-03    4.03  0.75 -0.23  0.0\n",
       "2013-04    1.55 -2.40  0.53  0.0\n",
       "2013-05    2.80  1.66  2.61  0.0"
      ]
     },
     "execution_count": 36,
     "metadata": {},
     "output_type": "execute_result"
    }
   ],
   "source": [
    "# View the monthly dataset\n",
    "ff_dict[0].head()"
   ]
  },
  {
   "cell_type": "markdown",
   "metadata": {},
   "source": [
    "<div class=\"alert alert-block alert-info\">\n",
    "<b><span style=\"font-family:Comic Sans MS\">Implementing the rolling three-factor model on a portfolio of assets</span></b>\n",
    "</div>"
   ]
  },
  {
   "cell_type": "code",
   "execution_count": 37,
   "metadata": {},
   "outputs": [],
   "source": [
    "# Import the libraries:\n",
    "import pandas as pd\n",
    "import yfinance as yf\n",
    "import statsmodels.formula.api as smf\n",
    "import pandas_datareader.data as web"
   ]
  },
  {
   "cell_type": "code",
   "execution_count": 38,
   "metadata": {},
   "outputs": [],
   "source": [
    "# Define the parameters:\n",
    "ASSETS = ['AMZN', 'GOOG', 'AAPL', 'MSFT']\n",
    "WEIGHTS = [0.25, 0.25, 0.25, 0.25]\n",
    "START_DATE = '2010-12-31'\n",
    "END_DATE = '2020-12-31'"
   ]
  },
  {
   "cell_type": "code",
   "execution_count": 39,
   "metadata": {},
   "outputs": [],
   "source": [
    "# Download the factor related data:\n",
    "df_three_factor = web.DataReader('F-F_Research_Data_Factors', 'famafrench', \n",
    "                                 start=START_DATE)[0]\n",
    "df_three_factor = df_three_factor.div(100)\n",
    "df_three_factor.index = df_three_factor.index.format()"
   ]
  },
  {
   "cell_type": "code",
   "execution_count": 40,
   "metadata": {},
   "outputs": [
    {
     "name": "stdout",
     "output_type": "stream",
     "text": [
      "Downloaded 2518 rows of data.\n"
     ]
    }
   ],
   "source": [
    "# Download the prices of risky assets from Yahoo Finance:\n",
    "asset_df = yf.download(ASSETS,\n",
    "                       start=START_DATE,\n",
    "                       end=END_DATE,\n",
    "                       adjusted=True,\n",
    "                       progress=False)\n",
    "\n",
    "print(f'Downloaded {asset_df.shape[0]} rows of data.')"
   ]
  },
  {
   "cell_type": "code",
   "execution_count": 41,
   "metadata": {},
   "outputs": [],
   "source": [
    "# Calculate the monthly returns on the risky assets:\n",
    "asset_df = asset_df['Adj Close'].resample('M').last().pct_change().dropna()\n",
    "# reformat index for joining\n",
    "asset_df.index = asset_df.index.strftime('%Y-%m')"
   ]
  },
  {
   "cell_type": "code",
   "execution_count": 43,
   "metadata": {},
   "outputs": [
    {
     "data": {
      "text/html": [
       "<div>\n",
       "<style scoped>\n",
       "    .dataframe tbody tr th:only-of-type {\n",
       "        vertical-align: middle;\n",
       "    }\n",
       "\n",
       "    .dataframe tbody tr th {\n",
       "        vertical-align: top;\n",
       "    }\n",
       "\n",
       "    .dataframe thead th {\n",
       "        text-align: right;\n",
       "    }\n",
       "</style>\n",
       "<table border=\"1\" class=\"dataframe\">\n",
       "  <thead>\n",
       "    <tr style=\"text-align: right;\">\n",
       "      <th></th>\n",
       "      <th>AAPL</th>\n",
       "      <th>AMZN</th>\n",
       "      <th>GOOG</th>\n",
       "      <th>MSFT</th>\n",
       "      <th>portfolio_returns</th>\n",
       "    </tr>\n",
       "    <tr>\n",
       "      <th>Date</th>\n",
       "      <th></th>\n",
       "      <th></th>\n",
       "      <th></th>\n",
       "      <th></th>\n",
       "      <th></th>\n",
       "    </tr>\n",
       "  </thead>\n",
       "  <tbody>\n",
       "    <tr>\n",
       "      <th>2011-01</th>\n",
       "      <td>0.051959</td>\n",
       "      <td>-0.057556</td>\n",
       "      <td>0.010758</td>\n",
       "      <td>-0.006449</td>\n",
       "      <td>-0.000322</td>\n",
       "    </tr>\n",
       "    <tr>\n",
       "      <th>2011-02</th>\n",
       "      <td>0.040935</td>\n",
       "      <td>0.021516</td>\n",
       "      <td>0.021720</td>\n",
       "      <td>-0.035806</td>\n",
       "      <td>0.012091</td>\n",
       "    </tr>\n",
       "    <tr>\n",
       "      <th>2011-03</th>\n",
       "      <td>-0.013307</td>\n",
       "      <td>0.039471</td>\n",
       "      <td>-0.043430</td>\n",
       "      <td>-0.044770</td>\n",
       "      <td>-0.015509</td>\n",
       "    </tr>\n",
       "    <tr>\n",
       "      <th>2011-04</th>\n",
       "      <td>0.004649</td>\n",
       "      <td>0.087048</td>\n",
       "      <td>-0.072704</td>\n",
       "      <td>0.020874</td>\n",
       "      <td>0.009967</td>\n",
       "    </tr>\n",
       "    <tr>\n",
       "      <th>2011-05</th>\n",
       "      <td>-0.006569</td>\n",
       "      <td>0.004494</td>\n",
       "      <td>-0.027715</td>\n",
       "      <td>-0.028784</td>\n",
       "      <td>-0.014644</td>\n",
       "    </tr>\n",
       "  </tbody>\n",
       "</table>\n",
       "</div>"
      ],
      "text/plain": [
       "             AAPL      AMZN      GOOG      MSFT  portfolio_returns\n",
       "Date                                                              \n",
       "2011-01  0.051959 -0.057556  0.010758 -0.006449          -0.000322\n",
       "2011-02  0.040935  0.021516  0.021720 -0.035806           0.012091\n",
       "2011-03 -0.013307  0.039471 -0.043430 -0.044770          -0.015509\n",
       "2011-04  0.004649  0.087048 -0.072704  0.020874           0.009967\n",
       "2011-05 -0.006569  0.004494 -0.027715 -0.028784          -0.014644"
      ]
     },
     "execution_count": 43,
     "metadata": {},
     "output_type": "execute_result"
    }
   ],
   "source": [
    "# Calculate the portfolio returns:\n",
    "import numpy as np\n",
    "asset_df['portfolio_returns'] = np.matmul(asset_df[ASSETS].values, WEIGHTS)\n",
    "asset_df.head()"
   ]
  },
  {
   "cell_type": "code",
   "execution_count": 44,
   "metadata": {},
   "outputs": [
    {
     "data": {
      "text/plain": [
       "<AxesSubplot:xlabel='Date'>"
      ]
     },
     "execution_count": 44,
     "metadata": {},
     "output_type": "execute_result"
    },
    {
     "data": {
      "image/png": "[encoded data removed]",
      "text/plain": [
       "<Figure size 432x288 with 1 Axes>"
      ]
     },
     "metadata": {
      "needs_background": "light"
     },
     "output_type": "display_data"
    }
   ],
   "source": [
    "asset_df.plot()"
   ]
  },
  {
   "cell_type": "code",
   "execution_count": 45,
   "metadata": {},
   "outputs": [],
   "source": [
    "# Merge the datasets:\n",
    "ff_data = asset_df.join(df_three_factor).drop(ASSETS, axis=1)\n",
    "ff_data.columns = ['portf_rtn', 'mkt', 'smb', 'hml', 'rf']\n",
    "ff_data['portf_ex_rtn'] = ff_data.portf_rtn - ff_data.rf"
   ]
  },
  {
   "cell_type": "code",
   "execution_count": 46,
   "metadata": {},
   "outputs": [
    {
     "data": {
      "text/html": [
       "<div>\n",
       "<style scoped>\n",
       "    .dataframe tbody tr th:only-of-type {\n",
       "        vertical-align: middle;\n",
       "    }\n",
       "\n",
       "    .dataframe tbody tr th {\n",
       "        vertical-align: top;\n",
       "    }\n",
       "\n",
       "    .dataframe thead th {\n",
       "        text-align: right;\n",
       "    }\n",
       "</style>\n",
       "<table border=\"1\" class=\"dataframe\">\n",
       "  <thead>\n",
       "    <tr style=\"text-align: right;\">\n",
       "      <th></th>\n",
       "      <th>portf_rtn</th>\n",
       "      <th>mkt</th>\n",
       "      <th>smb</th>\n",
       "      <th>hml</th>\n",
       "      <th>rf</th>\n",
       "      <th>portf_ex_rtn</th>\n",
       "    </tr>\n",
       "    <tr>\n",
       "      <th>Date</th>\n",
       "      <th></th>\n",
       "      <th></th>\n",
       "      <th></th>\n",
       "      <th></th>\n",
       "      <th></th>\n",
       "      <th></th>\n",
       "    </tr>\n",
       "  </thead>\n",
       "  <tbody>\n",
       "    <tr>\n",
       "      <th>2011-01</th>\n",
       "      <td>-0.000322</td>\n",
       "      <td>0.0199</td>\n",
       "      <td>-0.0252</td>\n",
       "      <td>0.0082</td>\n",
       "      <td>0.0001</td>\n",
       "      <td>-0.000422</td>\n",
       "    </tr>\n",
       "    <tr>\n",
       "      <th>2011-02</th>\n",
       "      <td>0.012091</td>\n",
       "      <td>0.0349</td>\n",
       "      <td>0.0153</td>\n",
       "      <td>0.0129</td>\n",
       "      <td>0.0001</td>\n",
       "      <td>0.011991</td>\n",
       "    </tr>\n",
       "    <tr>\n",
       "      <th>2011-03</th>\n",
       "      <td>-0.015509</td>\n",
       "      <td>0.0046</td>\n",
       "      <td>0.0258</td>\n",
       "      <td>-0.0176</td>\n",
       "      <td>0.0001</td>\n",
       "      <td>-0.015609</td>\n",
       "    </tr>\n",
       "    <tr>\n",
       "      <th>2011-04</th>\n",
       "      <td>0.009967</td>\n",
       "      <td>0.0290</td>\n",
       "      <td>-0.0037</td>\n",
       "      <td>-0.0243</td>\n",
       "      <td>0.0000</td>\n",
       "      <td>0.009967</td>\n",
       "    </tr>\n",
       "    <tr>\n",
       "      <th>2011-05</th>\n",
       "      <td>-0.014644</td>\n",
       "      <td>-0.0127</td>\n",
       "      <td>-0.0058</td>\n",
       "      <td>-0.0205</td>\n",
       "      <td>0.0000</td>\n",
       "      <td>-0.014644</td>\n",
       "    </tr>\n",
       "  </tbody>\n",
       "</table>\n",
       "</div>"
      ],
      "text/plain": [
       "         portf_rtn     mkt     smb     hml      rf  portf_ex_rtn\n",
       "Date                                                            \n",
       "2011-01  -0.000322  0.0199 -0.0252  0.0082  0.0001     -0.000422\n",
       "2011-02   0.012091  0.0349  0.0153  0.0129  0.0001      0.011991\n",
       "2011-03  -0.015509  0.0046  0.0258 -0.0176  0.0001     -0.015609\n",
       "2011-04   0.009967  0.0290 -0.0037 -0.0243  0.0000      0.009967\n",
       "2011-05  -0.014644 -0.0127 -0.0058 -0.0205  0.0000     -0.014644"
      ]
     },
     "execution_count": 46,
     "metadata": {},
     "output_type": "execute_result"
    }
   ],
   "source": [
    "ff_data.head()"
   ]
  },
  {
   "cell_type": "code",
   "execution_count": 47,
   "metadata": {},
   "outputs": [],
   "source": [
    "# Define a function for the rolling n-factor model\n",
    "def rolling_factor_model(input_data, formula, window_size):\n",
    "    '''\n",
    "    Function for estimating the Fama-French (n-factor) model using a rolling window of fixed size.\n",
    "    \n",
    "    Parameters\n",
    "    ------------\n",
    "    input_data : pd.DataFrame\n",
    "        A DataFrame containing the factors and asset/portfolio returns\n",
    "    formula : str\n",
    "        `statsmodels` compatible formula representing the OLS regression  \n",
    "    window_size : int\n",
    "        Rolling window length.\n",
    "    \n",
    "    Returns\n",
    "    -----------\n",
    "    coeffs_df : pd.DataFrame\n",
    "        DataFrame containing the intercept and the three factors for each iteration.\n",
    "    '''\n",
    "\n",
    "    coeffs = []\n",
    "\n",
    "    for start_index in range(len(input_data) - window_size + 1):        \n",
    "        end_index = start_index + window_size\n",
    "\n",
    "        # define and fit the regression model \n",
    "        ff_model = smf.ols(\n",
    "            formula=formula, \n",
    "            data=input_data[start_index:end_index]\n",
    "        ).fit()\n",
    "   \n",
    "        # store coefficients\n",
    "        coeffs.append(ff_model.params)\n",
    "    \n",
    "    coeffs_df = pd.DataFrame(\n",
    "        coeffs, \n",
    "        index=input_data.index[window_size - 1:]\n",
    "    )\n",
    "\n",
    "    return coeffs_df"
   ]
  },
  {
   "cell_type": "code",
   "execution_count": 49,
   "metadata": {},
   "outputs": [
    {
     "data": {
      "image/png": "[encoded data removed]",
      "text/plain": [
       "<Figure size 432x288 with 1 Axes>"
      ]
     },
     "metadata": {
      "needs_background": "light"
     },
     "output_type": "display_data"
    }
   ],
   "source": [
    "# Estimate the rolling three-factor model and plot the results:\n",
    "import matplotlib.pyplot as plt\n",
    "%matplotlib inline\n",
    "\n",
    "MODEL_FORMULA = 'portf_ex_rtn ~ mkt + smb + hml'\n",
    "results_df = rolling_factor_model(ff_data, \n",
    "                                  MODEL_FORMULA, \n",
    "                                  window_size=60)\n",
    "results_df.plot(title = 'Rolling Fama-French Three-Factor model')\n",
    "\n",
    "plt.tight_layout()\n",
    "plt.show()"
   ]
  },
  {
   "cell_type": "markdown",
   "metadata": {},
   "source": [
    "__Implementing the four- and five-factor models in Python__"
   ]
  },
  {
   "cell_type": "code",
   "execution_count": 50,
   "metadata": {},
   "outputs": [],
   "source": [
    "# Import the libraries:\n",
    "import pandas as pd\n",
    "import yfinance as yf\n",
    "import statsmodels.formula.api as smf\n",
    "import pandas_datareader.data as web"
   ]
  },
  {
   "cell_type": "code",
   "execution_count": 74,
   "metadata": {},
   "outputs": [],
   "source": [
    "# Specify the risky asset and the time horizon:\n",
    "RISKY_ASSET = 'AMZN'\n",
    "START_DATE = '2010-12-31'\n",
    "END_DATE = '2020-12-31'"
   ]
  },
  {
   "cell_type": "code",
   "execution_count": 75,
   "metadata": {},
   "outputs": [],
   "source": [
    "# Download the risk factors from prof. French's website:\n",
    "# three factors \n",
    "df_three_factor = web.DataReader('F-F_Research_Data_Factors', 'famafrench', \n",
    "                                 start=START_DATE)[0]\n",
    "df_three_factor.index = df_three_factor.index.format()\n",
    "\n",
    "# momentum factor\n",
    "df_mom = web.DataReader('F-F_Momentum_Factor', 'famafrench', \n",
    "                        start=START_DATE)[0]\n",
    "df_mom.index = df_mom.index.format()\n",
    "\n",
    "# five factors\n",
    "df_five_factor = web.DataReader('F-F_Research_Data_5_Factors_2x3', \n",
    "                                'famafrench', \n",
    "                                start=START_DATE)[0]\n",
    "df_five_factor.index = df_five_factor.index.format()"
   ]
  },
  {
   "cell_type": "code",
   "execution_count": 76,
   "metadata": {},
   "outputs": [
    {
     "name": "stdout",
     "output_type": "stream",
     "text": [
      "Downloaded 2518 rows of data.\n"
     ]
    }
   ],
   "source": [
    "# Download the data of the risky asset from Yahoo Finance:\n",
    "asset_df = yf.download(RISKY_ASSET,\n",
    "                       start=START_DATE,\n",
    "                       end=END_DATE,\n",
    "                       adjusted=True,\n",
    "                       progress=False)\n",
    "\n",
    "print(f'Downloaded {asset_df.shape[0]} rows of data.')"
   ]
  },
  {
   "cell_type": "code",
   "execution_count": 77,
   "metadata": {},
   "outputs": [],
   "source": [
    "# Calculate monthly returns:\n",
    "y = asset_df['Adj Close'].resample('M') \\\n",
    "                         .last() \\\n",
    "                         .pct_change() \\\n",
    "                         .dropna()\n",
    "\n",
    "y.index = y.index.strftime('%Y-%m')\n",
    "y.name = 'return'"
   ]
  },
  {
   "cell_type": "code",
   "execution_count": 78,
   "metadata": {},
   "outputs": [
    {
     "data": {
      "text/html": [
       "<div>\n",
       "<style scoped>\n",
       "    .dataframe tbody tr th:only-of-type {\n",
       "        vertical-align: middle;\n",
       "    }\n",
       "\n",
       "    .dataframe tbody tr th {\n",
       "        vertical-align: top;\n",
       "    }\n",
       "\n",
       "    .dataframe thead th {\n",
       "        text-align: right;\n",
       "    }\n",
       "</style>\n",
       "<table border=\"1\" class=\"dataframe\">\n",
       "  <thead>\n",
       "    <tr style=\"text-align: right;\">\n",
       "      <th></th>\n",
       "      <th>mkt</th>\n",
       "      <th>smb</th>\n",
       "      <th>hml</th>\n",
       "      <th>rf</th>\n",
       "      <th>mom</th>\n",
       "      <th>rtn</th>\n",
       "      <th>excess_rtn</th>\n",
       "    </tr>\n",
       "  </thead>\n",
       "  <tbody>\n",
       "    <tr>\n",
       "      <th>2014-01</th>\n",
       "      <td>-0.0332</td>\n",
       "      <td>0.0087</td>\n",
       "      <td>-0.0202</td>\n",
       "      <td>0.0</td>\n",
       "      <td>0.0174</td>\n",
       "      <td>-0.100554</td>\n",
       "      <td>-0.100554</td>\n",
       "    </tr>\n",
       "    <tr>\n",
       "      <th>2014-02</th>\n",
       "      <td>0.0465</td>\n",
       "      <td>0.0031</td>\n",
       "      <td>-0.0036</td>\n",
       "      <td>0.0</td>\n",
       "      <td>0.0205</td>\n",
       "      <td>0.009507</td>\n",
       "      <td>0.009507</td>\n",
       "    </tr>\n",
       "    <tr>\n",
       "      <th>2014-03</th>\n",
       "      <td>0.0043</td>\n",
       "      <td>-0.0185</td>\n",
       "      <td>0.0490</td>\n",
       "      <td>0.0</td>\n",
       "      <td>-0.0338</td>\n",
       "      <td>-0.071058</td>\n",
       "      <td>-0.071058</td>\n",
       "    </tr>\n",
       "    <tr>\n",
       "      <th>2014-04</th>\n",
       "      <td>-0.0019</td>\n",
       "      <td>-0.0421</td>\n",
       "      <td>0.0112</td>\n",
       "      <td>0.0</td>\n",
       "      <td>-0.0377</td>\n",
       "      <td>-0.095847</td>\n",
       "      <td>-0.095847</td>\n",
       "    </tr>\n",
       "    <tr>\n",
       "      <th>2014-05</th>\n",
       "      <td>0.0206</td>\n",
       "      <td>-0.0190</td>\n",
       "      <td>-0.0012</td>\n",
       "      <td>0.0</td>\n",
       "      <td>0.0121</td>\n",
       "      <td>0.027685</td>\n",
       "      <td>0.027685</td>\n",
       "    </tr>\n",
       "  </tbody>\n",
       "</table>\n",
       "</div>"
      ],
      "text/plain": [
       "            mkt     smb     hml   rf     mom       rtn  excess_rtn\n",
       "2014-01 -0.0332  0.0087 -0.0202  0.0  0.0174 -0.100554   -0.100554\n",
       "2014-02  0.0465  0.0031 -0.0036  0.0  0.0205  0.009507    0.009507\n",
       "2014-03  0.0043 -0.0185  0.0490  0.0 -0.0338 -0.071058   -0.071058\n",
       "2014-04 -0.0019 -0.0421  0.0112  0.0 -0.0377 -0.095847   -0.095847\n",
       "2014-05  0.0206 -0.0190 -0.0012  0.0  0.0121  0.027685    0.027685"
      ]
     },
     "execution_count": 78,
     "metadata": {},
     "output_type": "execute_result"
    }
   ],
   "source": [
    "four_factor_data.head()"
   ]
  },
  {
   "cell_type": "code",
   "execution_count": 79,
   "metadata": {},
   "outputs": [
    {
     "data": {
      "text/html": [
       "<div>\n",
       "<style scoped>\n",
       "    .dataframe tbody tr th:only-of-type {\n",
       "        vertical-align: middle;\n",
       "    }\n",
       "\n",
       "    .dataframe tbody tr th {\n",
       "        vertical-align: top;\n",
       "    }\n",
       "\n",
       "    .dataframe thead th {\n",
       "        text-align: right;\n",
       "    }\n",
       "</style>\n",
       "<table border=\"1\" class=\"dataframe\">\n",
       "  <thead>\n",
       "    <tr style=\"text-align: right;\">\n",
       "      <th></th>\n",
       "      <th>mkt</th>\n",
       "      <th>smb</th>\n",
       "      <th>hml</th>\n",
       "      <th>rf</th>\n",
       "      <th>mom</th>\n",
       "      <th>rtn</th>\n",
       "      <th>excess_rtn</th>\n",
       "    </tr>\n",
       "  </thead>\n",
       "  <tbody>\n",
       "    <tr>\n",
       "      <th>2011-01</th>\n",
       "      <td>0.0199</td>\n",
       "      <td>-0.0252</td>\n",
       "      <td>0.0082</td>\n",
       "      <td>0.0001</td>\n",
       "      <td>-0.0029</td>\n",
       "      <td>-0.057556</td>\n",
       "      <td>-0.057656</td>\n",
       "    </tr>\n",
       "    <tr>\n",
       "      <th>2011-02</th>\n",
       "      <td>0.0349</td>\n",
       "      <td>0.0153</td>\n",
       "      <td>0.0129</td>\n",
       "      <td>0.0001</td>\n",
       "      <td>0.0208</td>\n",
       "      <td>0.021516</td>\n",
       "      <td>0.021416</td>\n",
       "    </tr>\n",
       "    <tr>\n",
       "      <th>2011-03</th>\n",
       "      <td>0.0046</td>\n",
       "      <td>0.0258</td>\n",
       "      <td>-0.0176</td>\n",
       "      <td>0.0001</td>\n",
       "      <td>0.0352</td>\n",
       "      <td>0.039471</td>\n",
       "      <td>0.039371</td>\n",
       "    </tr>\n",
       "    <tr>\n",
       "      <th>2011-04</th>\n",
       "      <td>0.0290</td>\n",
       "      <td>-0.0037</td>\n",
       "      <td>-0.0243</td>\n",
       "      <td>0.0000</td>\n",
       "      <td>0.0006</td>\n",
       "      <td>0.087048</td>\n",
       "      <td>0.087048</td>\n",
       "    </tr>\n",
       "    <tr>\n",
       "      <th>2011-05</th>\n",
       "      <td>-0.0127</td>\n",
       "      <td>-0.0058</td>\n",
       "      <td>-0.0205</td>\n",
       "      <td>0.0000</td>\n",
       "      <td>-0.0057</td>\n",
       "      <td>0.004494</td>\n",
       "      <td>0.004494</td>\n",
       "    </tr>\n",
       "  </tbody>\n",
       "</table>\n",
       "</div>"
      ],
      "text/plain": [
       "            mkt     smb     hml      rf     mom       rtn  excess_rtn\n",
       "2011-01  0.0199 -0.0252  0.0082  0.0001 -0.0029 -0.057556   -0.057656\n",
       "2011-02  0.0349  0.0153  0.0129  0.0001  0.0208  0.021516    0.021416\n",
       "2011-03  0.0046  0.0258 -0.0176  0.0001  0.0352  0.039471    0.039371\n",
       "2011-04  0.0290 -0.0037 -0.0243  0.0000  0.0006  0.087048    0.087048\n",
       "2011-05 -0.0127 -0.0058 -0.0205  0.0000 -0.0057  0.004494    0.004494"
      ]
     },
     "execution_count": 79,
     "metadata": {},
     "output_type": "execute_result"
    }
   ],
   "source": [
    "# Merge the datasets for the four-factor models:\n",
    "# join all datasets on the index\n",
    "four_factor_data = df_three_factor.join(df_mom).join(y)\n",
    "\n",
    "# rename columns\n",
    "four_factor_data.columns = ['mkt', 'smb', 'hml', 'rf', 'mom', 'rtn']\n",
    "\n",
    "# divide everything (except returns) by 100\n",
    "four_factor_data.loc[:, four_factor_data.columns != 'rtn'] /= 100\n",
    "\n",
    "# convert index to datetime\n",
    "# four_factor_data.index = pd.to_datetime(four_factor_data.index, \n",
    "#                                         format='%Y-%m')\n",
    "\n",
    "# select period of interest\n",
    "four_factor_data = four_factor_data.loc[START_DATE:END_DATE]\n",
    "\n",
    "# calculate excess returns\n",
    "four_factor_data['excess_rtn'] = four_factor_data.rtn - four_factor_data.rf\n",
    "\n",
    "four_factor_data.head()"
   ]
  },
  {
   "cell_type": "code",
   "execution_count": 80,
   "metadata": {},
   "outputs": [
    {
     "data": {
      "text/html": [
       "<div>\n",
       "<style scoped>\n",
       "    .dataframe tbody tr th:only-of-type {\n",
       "        vertical-align: middle;\n",
       "    }\n",
       "\n",
       "    .dataframe tbody tr th {\n",
       "        vertical-align: top;\n",
       "    }\n",
       "\n",
       "    .dataframe thead th {\n",
       "        text-align: right;\n",
       "    }\n",
       "</style>\n",
       "<table border=\"1\" class=\"dataframe\">\n",
       "  <thead>\n",
       "    <tr style=\"text-align: right;\">\n",
       "      <th></th>\n",
       "      <th>mkt</th>\n",
       "      <th>smb</th>\n",
       "      <th>hml</th>\n",
       "      <th>rmw</th>\n",
       "      <th>cma</th>\n",
       "      <th>rf</th>\n",
       "      <th>rtn</th>\n",
       "      <th>excess_rtn</th>\n",
       "    </tr>\n",
       "  </thead>\n",
       "  <tbody>\n",
       "    <tr>\n",
       "      <th>2011-01</th>\n",
       "      <td>0.0199</td>\n",
       "      <td>-0.0243</td>\n",
       "      <td>0.0082</td>\n",
       "      <td>-0.0064</td>\n",
       "      <td>0.0075</td>\n",
       "      <td>0.0001</td>\n",
       "      <td>-0.057556</td>\n",
       "      <td>-0.057656</td>\n",
       "    </tr>\n",
       "    <tr>\n",
       "      <th>2011-02</th>\n",
       "      <td>0.0349</td>\n",
       "      <td>0.0163</td>\n",
       "      <td>0.0129</td>\n",
       "      <td>-0.0196</td>\n",
       "      <td>0.0095</td>\n",
       "      <td>0.0001</td>\n",
       "      <td>0.021516</td>\n",
       "      <td>0.021416</td>\n",
       "    </tr>\n",
       "    <tr>\n",
       "      <th>2011-03</th>\n",
       "      <td>0.0046</td>\n",
       "      <td>0.0266</td>\n",
       "      <td>-0.0176</td>\n",
       "      <td>0.0158</td>\n",
       "      <td>-0.0001</td>\n",
       "      <td>0.0001</td>\n",
       "      <td>0.039471</td>\n",
       "      <td>0.039371</td>\n",
       "    </tr>\n",
       "    <tr>\n",
       "      <th>2011-04</th>\n",
       "      <td>0.0290</td>\n",
       "      <td>-0.0056</td>\n",
       "      <td>-0.0243</td>\n",
       "      <td>0.0088</td>\n",
       "      <td>-0.0079</td>\n",
       "      <td>0.0000</td>\n",
       "      <td>0.087048</td>\n",
       "      <td>0.087048</td>\n",
       "    </tr>\n",
       "    <tr>\n",
       "      <th>2011-05</th>\n",
       "      <td>-0.0127</td>\n",
       "      <td>-0.0060</td>\n",
       "      <td>-0.0205</td>\n",
       "      <td>0.0208</td>\n",
       "      <td>-0.0159</td>\n",
       "      <td>0.0000</td>\n",
       "      <td>0.004494</td>\n",
       "      <td>0.004494</td>\n",
       "    </tr>\n",
       "  </tbody>\n",
       "</table>\n",
       "</div>"
      ],
      "text/plain": [
       "            mkt     smb     hml     rmw     cma      rf       rtn  excess_rtn\n",
       "2011-01  0.0199 -0.0243  0.0082 -0.0064  0.0075  0.0001 -0.057556   -0.057656\n",
       "2011-02  0.0349  0.0163  0.0129 -0.0196  0.0095  0.0001  0.021516    0.021416\n",
       "2011-03  0.0046  0.0266 -0.0176  0.0158 -0.0001  0.0001  0.039471    0.039371\n",
       "2011-04  0.0290 -0.0056 -0.0243  0.0088 -0.0079  0.0000  0.087048    0.087048\n",
       "2011-05 -0.0127 -0.0060 -0.0205  0.0208 -0.0159  0.0000  0.004494    0.004494"
      ]
     },
     "execution_count": 80,
     "metadata": {},
     "output_type": "execute_result"
    }
   ],
   "source": [
    "# Merge the datasets for the five-factor models:\n",
    "# join all datasets on the index\n",
    "five_factor_data = df_five_factor.join(y)\n",
    "\n",
    "# rename columns\n",
    "five_factor_data.columns = ['mkt', 'smb', 'hml', 'rmw', 'cma', 'rf', 'rtn']\n",
    "\n",
    "# divide everything (except returns) by 100\n",
    "five_factor_data.loc[:, five_factor_data.columns != 'rtn'] /= 100\n",
    "\n",
    "# convert index to datetime\n",
    "# five_factor_data.index = pd.to_datetime(five_factor_data.index, \n",
    "#                                         format='%Y-%m')\n",
    "\n",
    "# select period of interest\n",
    "five_factor_data = five_factor_data.loc[START_DATE:END_DATE]\n",
    "\n",
    "# calculate excess returns\n",
    "five_factor_data['excess_rtn'] = five_factor_data.rtn - five_factor_data.rf\n",
    "\n",
    "five_factor_data.head()"
   ]
  },
  {
   "cell_type": "code",
   "execution_count": 81,
   "metadata": {},
   "outputs": [
    {
     "name": "stdout",
     "output_type": "stream",
     "text": [
      "                            OLS Regression Results                            \n",
      "==============================================================================\n",
      "Dep. Variable:             excess_rtn   R-squared:                       0.407\n",
      "Model:                            OLS   Adj. R-squared:                  0.387\n",
      "Method:                 Least Squares   F-statistic:                     19.76\n",
      "Date:                Mon, 22 Mar 2021   Prob (F-statistic):           2.11e-12\n",
      "Time:                        19:35:59   Log-Likelihood:                 163.11\n",
      "No. Observations:                 120   AIC:                            -316.2\n",
      "Df Residuals:                     115   BIC:                            -302.3\n",
      "Df Model:                           4                                         \n",
      "Covariance Type:            nonrobust                                         \n",
      "==============================================================================\n",
      "                 coef    std err          t      P>|t|      [0.025      0.975]\n",
      "------------------------------------------------------------------------------\n",
      "Intercept      0.0076      0.006      1.219      0.225      -0.005       0.020\n",
      "mkt            1.2871      0.163      7.915      0.000       0.965       1.609\n",
      "smb           -0.4591      0.271     -1.691      0.094      -0.997       0.079\n",
      "hml           -0.9974      0.254     -3.926      0.000      -1.501      -0.494\n",
      "mom            0.0637      0.206      0.309      0.758      -0.344       0.471\n",
      "==============================================================================\n",
      "Omnibus:                        0.137   Durbin-Watson:                   1.871\n",
      "Prob(Omnibus):                  0.934   Jarque-Bera (JB):                0.194\n",
      "Skew:                           0.078   Prob(JB):                        0.908\n",
      "Kurtosis:                       2.881   Cond. No.                         48.9\n",
      "==============================================================================\n",
      "\n",
      "Warnings:\n",
      "[1] Standard Errors assume that the covariance matrix of the errors is correctly specified.\n"
     ]
    }
   ],
   "source": [
    "# Estimate the four-factor model:\n",
    "four_factor_model = smf.ols(formula='excess_rtn ~ mkt + smb + hml + mom', \n",
    "                            data=four_factor_data).fit()\n",
    "\n",
    "print(four_factor_model.summary())"
   ]
  },
  {
   "cell_type": "code",
   "execution_count": 96,
   "metadata": {},
   "outputs": [
    {
     "name": "stdout",
     "output_type": "stream",
     "text": [
      "                            OLS Regression Results                            \n",
      "==============================================================================\n",
      "Dep. Variable:             excess_rtn   R-squared:                       0.431\n",
      "Model:                            OLS   Adj. R-squared:                  0.406\n",
      "Method:                 Least Squares   F-statistic:                     17.28\n",
      "Date:                Mon, 22 Mar 2021   Prob (F-statistic):           1.07e-12\n",
      "Time:                        19:37:48   Log-Likelihood:                 165.56\n",
      "No. Observations:                 120   AIC:                            -319.1\n",
      "Df Residuals:                     114   BIC:                            -302.4\n",
      "Df Model:                           5                                         \n",
      "Covariance Type:            nonrobust                                         \n",
      "==============================================================================\n",
      "                 coef    std err          t      P>|t|      [0.025      0.975]\n",
      "------------------------------------------------------------------------------\n",
      "Intercept      0.0086      0.006      1.406      0.162      -0.004       0.021\n",
      "mkt            1.2100      0.160      7.581      0.000       0.894       1.526\n",
      "smb           -0.5615      0.285     -1.972      0.051      -1.125       0.002\n",
      "hml           -0.6195      0.280     -2.210      0.029      -1.175      -0.064\n",
      "rmw            0.0044      0.396      0.011      0.991      -0.781       0.790\n",
      "cma           -1.0225      0.488     -2.096      0.038      -1.989      -0.056\n",
      "==============================================================================\n",
      "Omnibus:                        0.193   Durbin-Watson:                   1.925\n",
      "Prob(Omnibus):                  0.908   Jarque-Bera (JB):                0.065\n",
      "Skew:                           0.056   Prob(JB):                        0.968\n",
      "Kurtosis:                       3.022   Cond. No.                         91.6\n",
      "==============================================================================\n",
      "\n",
      "Warnings:\n",
      "[1] Standard Errors assume that the covariance matrix of the errors is correctly specified.\n"
     ]
    }
   ],
   "source": [
    "# Estimate the five-factor model:\n",
    "five_factor_model = smf.ols(formula='excess_rtn ~ mkt + smb + hml + rmw + cma', \n",
    "                            data=five_factor_data).fit()\n",
    "\n",
    "print(five_factor_model.summary())"
   ]
  },
  {
   "cell_type": "code",
   "execution_count": null,
   "metadata": {},
   "outputs": [],
   "source": []
  }
 ],
 "metadata": {
  "kernelspec": {
   "display_name": "Python 3",
   "language": "python",
   "name": "python3"
  },
  "language_info": {
   "codemirror_mode": {
    "name": "ipython",
    "version": 3
   },
   "file_extension": ".py",
   "mimetype": "text/x-python",
   "name": "python",
   "nbconvert_exporter": "python",
   "pygments_lexer": "ipython3",
   "version": "3.8.3"
  }
 },
 "nbformat": 4,
 "nbformat_minor": 4
}
