{
 "cells": [
  {
   "cell_type": "markdown",
   "metadata": {},
   "source": [
    "<div class=\"alert alert-block alert-info\">\n",
    "<b><span style=\"font-family:Comic Sans MS\">Introduction to Time Series Data</span></b>\n",
    "</div>"
   ]
  },
  {
   "cell_type": "code",
   "execution_count": 49,
   "metadata": {},
   "outputs": [],
   "source": [
    "# Load libraries\n",
    "import numpy as np\n",
    "import pandas as pd\n",
    "import pandas_datareader.data as web\n",
    "from matplotlib import pyplot\n",
    "from pandas.plotting import scatter_matrix\n",
    "import seaborn as sns\n",
    "from sklearn.preprocessing import StandardScaler\n",
    "#Libraries for Saving the Model\n",
    "from pickle import dump\n",
    "from pickle import load"
   ]
  },
  {
   "cell_type": "code",
   "execution_count": 50,
   "metadata": {},
   "outputs": [],
   "source": [
    "#Diable the warnings\n",
    "import warnings\n",
    "warnings.filterwarnings('ignore')"
   ]
  },
  {
   "cell_type": "markdown",
   "metadata": {},
   "source": [
    "<div class=\"alert alert-block alert-info\">\n",
    "<b><span style=\"font-family:Comic Sans MS\">Load the data</span></b>\n",
    "</div>"
   ]
  },
  {
   "cell_type": "code",
   "execution_count": 51,
   "metadata": {},
   "outputs": [],
   "source": [
    "stk_tickers = ['MSFT', 'IBM', 'GOOGL','AMZN']\n",
    "ccy_tickers = ['DEXJPUS', 'DEXUSUK']\n",
    "idx_tickers = ['SP500', 'DJIA', 'VIXCLS']\n",
    "\n",
    "stk_data = web.DataReader(stk_tickers, 'yahoo')\n",
    "ccy_data = web.DataReader(ccy_tickers, 'fred')\n",
    "idx_data = web.DataReader(idx_tickers, 'fred')"
   ]
  },
  {
   "cell_type": "code",
   "execution_count": 52,
   "metadata": {},
   "outputs": [],
   "source": [
    "# base_series = np.log(stk_data.loc[:, ('Adj Close', ('GOOGL', 'IBM','AMZN'))])\n",
    "base_series = stk_data.loc[:, ('Adj Close', ('GOOGL', 'IBM','AMZN'))]\n",
    "base_series.columns = base_series.columns.droplevel()"
   ]
  },
  {
   "cell_type": "code",
   "execution_count": 53,
   "metadata": {},
   "outputs": [
    {
     "data": {
      "text/html": [
       "<div>\n",
       "<style scoped>\n",
       "    .dataframe tbody tr th:only-of-type {\n",
       "        vertical-align: middle;\n",
       "    }\n",
       "\n",
       "    .dataframe tbody tr th {\n",
       "        vertical-align: top;\n",
       "    }\n",
       "\n",
       "    .dataframe thead th {\n",
       "        text-align: right;\n",
       "    }\n",
       "</style>\n",
       "<table border=\"1\" class=\"dataframe\">\n",
       "  <thead>\n",
       "    <tr style=\"text-align: right;\">\n",
       "      <th>Symbols</th>\n",
       "      <th>GOOGL</th>\n",
       "      <th>IBM</th>\n",
       "      <th>AMZN</th>\n",
       "    </tr>\n",
       "    <tr>\n",
       "      <th>Date</th>\n",
       "      <th></th>\n",
       "      <th></th>\n",
       "      <th></th>\n",
       "    </tr>\n",
       "  </thead>\n",
       "  <tbody>\n",
       "    <tr>\n",
       "      <th>2016-03-15</th>\n",
       "      <td>750.570007</td>\n",
       "      <td>114.640419</td>\n",
       "      <td>577.020020</td>\n",
       "    </tr>\n",
       "    <tr>\n",
       "      <th>2016-03-16</th>\n",
       "      <td>757.359985</td>\n",
       "      <td>116.107918</td>\n",
       "      <td>574.270020</td>\n",
       "    </tr>\n",
       "    <tr>\n",
       "      <th>2016-03-17</th>\n",
       "      <td>758.479980</td>\n",
       "      <td>117.912178</td>\n",
       "      <td>559.440002</td>\n",
       "    </tr>\n",
       "    <tr>\n",
       "      <th>2016-03-18</th>\n",
       "      <td>755.409973</td>\n",
       "      <td>117.952309</td>\n",
       "      <td>552.080017</td>\n",
       "    </tr>\n",
       "    <tr>\n",
       "      <th>2016-03-21</th>\n",
       "      <td>762.159973</td>\n",
       "      <td>119.187241</td>\n",
       "      <td>553.979980</td>\n",
       "    </tr>\n",
       "  </tbody>\n",
       "</table>\n",
       "</div>"
      ],
      "text/plain": [
       "Symbols          GOOGL         IBM        AMZN\n",
       "Date                                          \n",
       "2016-03-15  750.570007  114.640419  577.020020\n",
       "2016-03-16  757.359985  116.107918  574.270020\n",
       "2016-03-17  758.479980  117.912178  559.440002\n",
       "2016-03-18  755.409973  117.952309  552.080017\n",
       "2016-03-21  762.159973  119.187241  553.979980"
      ]
     },
     "execution_count": 53,
     "metadata": {},
     "output_type": "execute_result"
    }
   ],
   "source": [
    "base_series.head()"
   ]
  },
  {
   "cell_type": "code",
   "execution_count": 54,
   "metadata": {},
   "outputs": [
    {
     "data": {
      "text/html": [
       "<div>\n",
       "<style scoped>\n",
       "    .dataframe tbody tr th:only-of-type {\n",
       "        vertical-align: middle;\n",
       "    }\n",
       "\n",
       "    .dataframe tbody tr th {\n",
       "        vertical-align: top;\n",
       "    }\n",
       "\n",
       "    .dataframe thead th {\n",
       "        text-align: right;\n",
       "    }\n",
       "</style>\n",
       "<table border=\"1\" class=\"dataframe\">\n",
       "  <thead>\n",
       "    <tr style=\"text-align: right;\">\n",
       "      <th>Symbols</th>\n",
       "      <th>GOOGL</th>\n",
       "      <th>IBM</th>\n",
       "      <th>AMZN</th>\n",
       "    </tr>\n",
       "    <tr>\n",
       "      <th>Date</th>\n",
       "      <th></th>\n",
       "      <th></th>\n",
       "      <th></th>\n",
       "    </tr>\n",
       "  </thead>\n",
       "  <tbody>\n",
       "    <tr>\n",
       "      <th>2021-03-09</th>\n",
       "      <td>2040.359985</td>\n",
       "      <td>124.180000</td>\n",
       "      <td>3062.850098</td>\n",
       "    </tr>\n",
       "    <tr>\n",
       "      <th>2021-03-10</th>\n",
       "      <td>2036.189941</td>\n",
       "      <td>127.870003</td>\n",
       "      <td>3057.639893</td>\n",
       "    </tr>\n",
       "    <tr>\n",
       "      <th>2021-03-11</th>\n",
       "      <td>2100.540039</td>\n",
       "      <td>127.139999</td>\n",
       "      <td>3113.590088</td>\n",
       "    </tr>\n",
       "    <tr>\n",
       "      <th>2021-03-12</th>\n",
       "      <td>2050.000000</td>\n",
       "      <td>127.610001</td>\n",
       "      <td>3089.489990</td>\n",
       "    </tr>\n",
       "    <tr>\n",
       "      <th>2021-03-15</th>\n",
       "      <td>2033.319946</td>\n",
       "      <td>128.009995</td>\n",
       "      <td>3045.554932</td>\n",
       "    </tr>\n",
       "  </tbody>\n",
       "</table>\n",
       "</div>"
      ],
      "text/plain": [
       "Symbols           GOOGL         IBM         AMZN\n",
       "Date                                            \n",
       "2021-03-09  2040.359985  124.180000  3062.850098\n",
       "2021-03-10  2036.189941  127.870003  3057.639893\n",
       "2021-03-11  2100.540039  127.139999  3113.590088\n",
       "2021-03-12  2050.000000  127.610001  3089.489990\n",
       "2021-03-15  2033.319946  128.009995  3045.554932"
      ]
     },
     "execution_count": 54,
     "metadata": {},
     "output_type": "execute_result"
    }
   ],
   "source": [
    "base_series.tail()"
   ]
  },
  {
   "cell_type": "code",
   "execution_count": 55,
   "metadata": {},
   "outputs": [
    {
     "data": {
      "text/plain": [
       "(1259, 3)"
      ]
     },
     "execution_count": 55,
     "metadata": {},
     "output_type": "execute_result"
    }
   ],
   "source": [
    "base_series.shape"
   ]
  },
  {
   "cell_type": "code",
   "execution_count": 56,
   "metadata": {},
   "outputs": [
    {
     "name": "stdout",
     "output_type": "stream",
     "text": [
      "<class 'pandas.core.frame.DataFrame'>\n",
      "DatetimeIndex: 1259 entries, 2016-03-15 to 2021-03-15\n",
      "Data columns (total 3 columns):\n",
      " #   Column  Non-Null Count  Dtype  \n",
      "---  ------  --------------  -----  \n",
      " 0   GOOGL   1259 non-null   float64\n",
      " 1   IBM     1259 non-null   float64\n",
      " 2   AMZN    1259 non-null   float64\n",
      "dtypes: float64(3)\n",
      "memory usage: 39.3 KB\n"
     ]
    }
   ],
   "source": [
    "base_series.info()"
   ]
  },
  {
   "cell_type": "code",
   "execution_count": 57,
   "metadata": {},
   "outputs": [
    {
     "name": "stdout",
     "output_type": "stream",
     "text": [
      "DatetimeIndex(['2016-03-15'], dtype='datetime64[ns]', name='Date', freq=None)\n",
      "DatetimeIndex(['2016-03-15', '2016-03-16', '2016-03-17', '2016-03-18',\n",
      "               '2016-03-21', '2016-03-22', '2016-03-23', '2016-03-24',\n",
      "               '2016-03-28', '2016-03-29',\n",
      "               ...\n",
      "               '2021-03-01', '2021-03-02', '2021-03-03', '2021-03-04',\n",
      "               '2021-03-05', '2021-03-08', '2021-03-09', '2021-03-10',\n",
      "               '2021-03-11', '2021-03-12'],\n",
      "              dtype='datetime64[ns]', name='Date', length=1258, freq=None)\n",
      "DatetimeIndex(['2021-03-12'], dtype='datetime64[ns]', name='Date', freq=None)\n"
     ]
    }
   ],
   "source": [
    "# Read the Table\n",
    "print(base_series[0:1].index) # To read the start date\n",
    "print(base_series[0:1258].index)\n",
    "print(base_series[1257:1258].index) # To read the last date of the series"
   ]
  },
  {
   "cell_type": "markdown",
   "metadata": {},
   "source": [
    "__Extracting the Year-month-day elements from the date index__"
   ]
  },
  {
   "cell_type": "code",
   "execution_count": 58,
   "metadata": {},
   "outputs": [
    {
     "name": "stdout",
     "output_type": "stream",
     "text": [
      "Index(['2016'], dtype='object', name='Date')\n",
      "Index(['03'], dtype='object', name='Date')\n",
      "Index(['15'], dtype='object', name='Date')\n"
     ]
    }
   ],
   "source": [
    "# Year\n",
    "import datetime\n",
    "print(base_series[0:1].index.strftime(\"%Y\"))\n",
    "print(base_series[0:1].index.strftime(\"%m\"))\n",
    "print(base_series[0:1].index.strftime(\"%d\"))"
   ]
  },
  {
   "cell_type": "markdown",
   "metadata": {},
   "source": [
    "<div class=\"alert alert-block alert-info\">\n",
    "<b><span style=\"font-family:Comic Sans MS\">Merging data based on Date</span></b>\n",
    "</div>"
   ]
  },
  {
   "cell_type": "code",
   "execution_count": 59,
   "metadata": {},
   "outputs": [
    {
     "data": {
      "text/html": [
       "<div>\n",
       "<style scoped>\n",
       "    .dataframe tbody tr th:only-of-type {\n",
       "        vertical-align: middle;\n",
       "    }\n",
       "\n",
       "    .dataframe tbody tr th {\n",
       "        vertical-align: top;\n",
       "    }\n",
       "\n",
       "    .dataframe thead th {\n",
       "        text-align: right;\n",
       "    }\n",
       "</style>\n",
       "<table border=\"1\" class=\"dataframe\">\n",
       "  <thead>\n",
       "    <tr style=\"text-align: right;\">\n",
       "      <th></th>\n",
       "      <th>Ret</th>\n",
       "    </tr>\n",
       "  </thead>\n",
       "  <tbody>\n",
       "    <tr>\n",
       "      <th>2017-01-01</th>\n",
       "      <td>-0.011165</td>\n",
       "    </tr>\n",
       "    <tr>\n",
       "      <th>2017-01-02</th>\n",
       "      <td>0.335871</td>\n",
       "    </tr>\n",
       "    <tr>\n",
       "      <th>2017-01-03</th>\n",
       "      <td>0.118184</td>\n",
       "    </tr>\n",
       "    <tr>\n",
       "      <th>2017-01-04</th>\n",
       "      <td>0.350766</td>\n",
       "    </tr>\n",
       "    <tr>\n",
       "      <th>2017-01-05</th>\n",
       "      <td>0.094212</td>\n",
       "    </tr>\n",
       "  </tbody>\n",
       "</table>\n",
       "</div>"
      ],
      "text/plain": [
       "                 Ret\n",
       "2017-01-01 -0.011165\n",
       "2017-01-02  0.335871\n",
       "2017-01-03  0.118184\n",
       "2017-01-04  0.350766\n",
       "2017-01-05  0.094212"
      ]
     },
     "execution_count": 59,
     "metadata": {},
     "output_type": "execute_result"
    }
   ],
   "source": [
    "import pandas as pd\n",
    "import scipy as sp\n",
    "sp.random.seed(1259)\n",
    "mean = 0.10\n",
    "std = 0.2\n",
    "ddate = pd.date_range('1/1/2017', periods=365)\n",
    "n = len(ddate)\n",
    "rets = sp.random.normal(mean,std,n)\n",
    "data = pd.DataFrame(rets, index = ddate, columns = ['Ret'])\n",
    "data.head()"
   ]
  },
  {
   "cell_type": "code",
   "execution_count": 60,
   "metadata": {},
   "outputs": [
    {
     "data": {
      "text/html": [
       "<div>\n",
       "<style scoped>\n",
       "    .dataframe tbody tr th:only-of-type {\n",
       "        vertical-align: middle;\n",
       "    }\n",
       "\n",
       "    .dataframe tbody tr th {\n",
       "        vertical-align: top;\n",
       "    }\n",
       "\n",
       "    .dataframe thead th {\n",
       "        text-align: right;\n",
       "    }\n",
       "</style>\n",
       "<table border=\"1\" class=\"dataframe\">\n",
       "  <thead>\n",
       "    <tr style=\"text-align: right;\">\n",
       "      <th></th>\n",
       "      <th>Ret</th>\n",
       "    </tr>\n",
       "  </thead>\n",
       "  <tbody>\n",
       "    <tr>\n",
       "      <th>2017-12-27</th>\n",
       "      <td>0.139385</td>\n",
       "    </tr>\n",
       "    <tr>\n",
       "      <th>2017-12-28</th>\n",
       "      <td>0.072524</td>\n",
       "    </tr>\n",
       "    <tr>\n",
       "      <th>2017-12-29</th>\n",
       "      <td>-0.049082</td>\n",
       "    </tr>\n",
       "    <tr>\n",
       "      <th>2017-12-30</th>\n",
       "      <td>-0.135952</td>\n",
       "    </tr>\n",
       "    <tr>\n",
       "      <th>2017-12-31</th>\n",
       "      <td>0.365582</td>\n",
       "    </tr>\n",
       "  </tbody>\n",
       "</table>\n",
       "</div>"
      ],
      "text/plain": [
       "                 Ret\n",
       "2017-12-27  0.139385\n",
       "2017-12-28  0.072524\n",
       "2017-12-29 -0.049082\n",
       "2017-12-30 -0.135952\n",
       "2017-12-31  0.365582"
      ]
     },
     "execution_count": 60,
     "metadata": {},
     "output_type": "execute_result"
    }
   ],
   "source": [
    "data.tail()"
   ]
  },
  {
   "cell_type": "code",
   "execution_count": 61,
   "metadata": {},
   "outputs": [
    {
     "data": {
      "text/plain": [
       "(365, 1)"
      ]
     },
     "execution_count": 61,
     "metadata": {},
     "output_type": "execute_result"
    }
   ],
   "source": [
    "data.shape"
   ]
  },
  {
   "cell_type": "markdown",
   "metadata": {},
   "source": [
    "<div class=\"alert alert-block alert-info\">\n",
    "<b><span style=\"font-family:Comic Sans MS\">Return Estimation</span></b>\n",
    "</div>"
   ]
  },
  {
   "cell_type": "code",
   "execution_count": 62,
   "metadata": {},
   "outputs": [
    {
     "data": {
      "text/html": [
       "<div>\n",
       "<style scoped>\n",
       "    .dataframe tbody tr th:only-of-type {\n",
       "        vertical-align: middle;\n",
       "    }\n",
       "\n",
       "    .dataframe tbody tr th {\n",
       "        vertical-align: top;\n",
       "    }\n",
       "\n",
       "    .dataframe thead th {\n",
       "        text-align: right;\n",
       "    }\n",
       "</style>\n",
       "<table border=\"1\" class=\"dataframe\">\n",
       "  <thead>\n",
       "    <tr style=\"text-align: right;\">\n",
       "      <th></th>\n",
       "      <th>Price</th>\n",
       "      <th>Ret</th>\n",
       "    </tr>\n",
       "  </thead>\n",
       "  <tbody>\n",
       "    <tr>\n",
       "      <th>0</th>\n",
       "      <td>2.00</td>\n",
       "      <td>NaN</td>\n",
       "    </tr>\n",
       "    <tr>\n",
       "      <th>1</th>\n",
       "      <td>2.20</td>\n",
       "      <td>0.100000</td>\n",
       "    </tr>\n",
       "    <tr>\n",
       "      <th>2</th>\n",
       "      <td>0.75</td>\n",
       "      <td>-0.659091</td>\n",
       "    </tr>\n",
       "    <tr>\n",
       "      <th>3</th>\n",
       "      <td>4.98</td>\n",
       "      <td>5.640000</td>\n",
       "    </tr>\n",
       "    <tr>\n",
       "      <th>4</th>\n",
       "      <td>5.00</td>\n",
       "      <td>0.004016</td>\n",
       "    </tr>\n",
       "  </tbody>\n",
       "</table>\n",
       "</div>"
      ],
      "text/plain": [
       "   Price       Ret\n",
       "0   2.00       NaN\n",
       "1   2.20  0.100000\n",
       "2   0.75 -0.659091\n",
       "3   4.98  5.640000\n",
       "4   5.00  0.004016"
      ]
     },
     "execution_count": 62,
     "metadata": {},
     "output_type": "execute_result"
    }
   ],
   "source": [
    "import pandas as pd\n",
    "import scipy as sp\n",
    "p = [2, 2.2, 0.75, 4.98, 5.0]\n",
    "# Estimated Return\n",
    "a = pd.DataFrame(p, columns=['Price'])\n",
    "a['Ret'] = a['Price'].diff()/a['Price'].shift(1)\n",
    "a.head()"
   ]
  },
  {
   "cell_type": "code",
   "execution_count": 63,
   "metadata": {},
   "outputs": [
    {
     "data": {
      "text/plain": [
       "Date\n",
       "2016-03-15    577.020020\n",
       "2016-03-16    574.270020\n",
       "2016-03-17    559.440002\n",
       "Name: AMZN, dtype: float64"
      ]
     },
     "execution_count": 63,
     "metadata": {},
     "output_type": "execute_result"
    }
   ],
   "source": [
    "base_series.AMZN[0:3]"
   ]
  },
  {
   "cell_type": "code",
   "execution_count": 64,
   "metadata": {},
   "outputs": [],
   "source": [
    "base_series['AMZN_ret'] = base_series['AMZN'].diff()/base_series['AMZN'].shift(1)\n",
    "base_series['IBM_ret'] = base_series['IBM'].diff()/base_series['IBM'].shift(1)"
   ]
  },
  {
   "cell_type": "code",
   "execution_count": 65,
   "metadata": {},
   "outputs": [
    {
     "data": {
      "text/html": [
       "<div>\n",
       "<style scoped>\n",
       "    .dataframe tbody tr th:only-of-type {\n",
       "        vertical-align: middle;\n",
       "    }\n",
       "\n",
       "    .dataframe tbody tr th {\n",
       "        vertical-align: top;\n",
       "    }\n",
       "\n",
       "    .dataframe thead th {\n",
       "        text-align: right;\n",
       "    }\n",
       "</style>\n",
       "<table border=\"1\" class=\"dataframe\">\n",
       "  <thead>\n",
       "    <tr style=\"text-align: right;\">\n",
       "      <th>Symbols</th>\n",
       "      <th>GOOGL</th>\n",
       "      <th>IBM</th>\n",
       "      <th>AMZN</th>\n",
       "      <th>AMZN_ret</th>\n",
       "      <th>IBM_ret</th>\n",
       "    </tr>\n",
       "    <tr>\n",
       "      <th>Date</th>\n",
       "      <th></th>\n",
       "      <th></th>\n",
       "      <th></th>\n",
       "      <th></th>\n",
       "      <th></th>\n",
       "    </tr>\n",
       "  </thead>\n",
       "  <tbody>\n",
       "    <tr>\n",
       "      <th>2016-03-15</th>\n",
       "      <td>750.570007</td>\n",
       "      <td>114.640419</td>\n",
       "      <td>577.020020</td>\n",
       "      <td>NaN</td>\n",
       "      <td>NaN</td>\n",
       "    </tr>\n",
       "    <tr>\n",
       "      <th>2016-03-16</th>\n",
       "      <td>757.359985</td>\n",
       "      <td>116.107918</td>\n",
       "      <td>574.270020</td>\n",
       "      <td>-0.004766</td>\n",
       "      <td>0.012801</td>\n",
       "    </tr>\n",
       "    <tr>\n",
       "      <th>2016-03-17</th>\n",
       "      <td>758.479980</td>\n",
       "      <td>117.912178</td>\n",
       "      <td>559.440002</td>\n",
       "      <td>-0.025824</td>\n",
       "      <td>0.015540</td>\n",
       "    </tr>\n",
       "    <tr>\n",
       "      <th>2016-03-18</th>\n",
       "      <td>755.409973</td>\n",
       "      <td>117.952309</td>\n",
       "      <td>552.080017</td>\n",
       "      <td>-0.013156</td>\n",
       "      <td>0.000340</td>\n",
       "    </tr>\n",
       "    <tr>\n",
       "      <th>2016-03-21</th>\n",
       "      <td>762.159973</td>\n",
       "      <td>119.187241</td>\n",
       "      <td>553.979980</td>\n",
       "      <td>0.003441</td>\n",
       "      <td>0.010470</td>\n",
       "    </tr>\n",
       "  </tbody>\n",
       "</table>\n",
       "</div>"
      ],
      "text/plain": [
       "Symbols          GOOGL         IBM        AMZN  AMZN_ret   IBM_ret\n",
       "Date                                                              \n",
       "2016-03-15  750.570007  114.640419  577.020020       NaN       NaN\n",
       "2016-03-16  757.359985  116.107918  574.270020 -0.004766  0.012801\n",
       "2016-03-17  758.479980  117.912178  559.440002 -0.025824  0.015540\n",
       "2016-03-18  755.409973  117.952309  552.080017 -0.013156  0.000340\n",
       "2016-03-21  762.159973  119.187241  553.979980  0.003441  0.010470"
      ]
     },
     "execution_count": 65,
     "metadata": {},
     "output_type": "execute_result"
    }
   ],
   "source": [
    "base_series.head()"
   ]
  },
  {
   "cell_type": "markdown",
   "metadata": {},
   "source": [
    "<div class=\"alert alert-block alert-info\">\n",
    "<b><span style=\"font-family:Comic Sans MS\">Converting daily returns to monthly ones</span></b>\n",
    "</div>"
   ]
  },
  {
   "cell_type": "code",
   "execution_count": 66,
   "metadata": {},
   "outputs": [
    {
     "data": {
      "text/plain": [
       "DatetimeIndex(['2016-03-16', '2016-03-17', '2016-03-18', '2016-03-21',\n",
       "               '2016-03-22', '2016-03-23', '2016-03-24', '2016-03-28',\n",
       "               '2016-03-29', '2016-03-30',\n",
       "               ...\n",
       "               '2021-03-02', '2021-03-03', '2021-03-04', '2021-03-05',\n",
       "               '2021-03-08', '2021-03-09', '2021-03-10', '2021-03-11',\n",
       "               '2021-03-12', '2021-03-15'],\n",
       "              dtype='datetime64[ns]', name='Date', length=1258, freq=None)"
      ]
     },
     "execution_count": 66,
     "metadata": {},
     "output_type": "execute_result"
    }
   ],
   "source": [
    "base_series['AMZN'][1:].index"
   ]
  },
  {
   "cell_type": "code",
   "execution_count": 67,
   "metadata": {},
   "outputs": [
    {
     "data": {
      "text/plain": [
       "DatetimeIndex(['2016-03-15', '2016-03-16', '2016-03-17', '2016-03-18',\n",
       "               '2016-03-21', '2016-03-22', '2016-03-23', '2016-03-24',\n",
       "               '2016-03-28', '2016-03-29',\n",
       "               ...\n",
       "               '2021-03-01', '2021-03-02', '2021-03-03', '2021-03-04',\n",
       "               '2021-03-05', '2021-03-08', '2021-03-09', '2021-03-10',\n",
       "               '2021-03-11', '2021-03-12'],\n",
       "              dtype='datetime64[ns]', name='Date', length=1258, freq=None)"
      ]
     },
     "execution_count": 67,
     "metadata": {},
     "output_type": "execute_result"
    }
   ],
   "source": [
    "base_series['AMZN'][:-1].index"
   ]
  },
  {
   "cell_type": "code",
   "execution_count": 68,
   "metadata": {},
   "outputs": [
    {
     "data": {
      "text/html": [
       "<div>\n",
       "<style scoped>\n",
       "    .dataframe tbody tr th:only-of-type {\n",
       "        vertical-align: middle;\n",
       "    }\n",
       "\n",
       "    .dataframe tbody tr th {\n",
       "        vertical-align: top;\n",
       "    }\n",
       "\n",
       "    .dataframe thead th {\n",
       "        text-align: right;\n",
       "    }\n",
       "</style>\n",
       "<table border=\"1\" class=\"dataframe\">\n",
       "  <thead>\n",
       "    <tr style=\"text-align: right;\">\n",
       "      <th>Symbols</th>\n",
       "      <th>GOOGL</th>\n",
       "      <th>IBM</th>\n",
       "      <th>AMZN</th>\n",
       "      <th>AMZN_ret</th>\n",
       "      <th>IBM_ret</th>\n",
       "      <th>AMZN_return2_log</th>\n",
       "      <th>IBM_return2_log</th>\n",
       "    </tr>\n",
       "    <tr>\n",
       "      <th>Date</th>\n",
       "      <th></th>\n",
       "      <th></th>\n",
       "      <th></th>\n",
       "      <th></th>\n",
       "      <th></th>\n",
       "      <th></th>\n",
       "      <th></th>\n",
       "    </tr>\n",
       "  </thead>\n",
       "  <tbody>\n",
       "    <tr>\n",
       "      <th>2016-03-15</th>\n",
       "      <td>750.570007</td>\n",
       "      <td>114.640419</td>\n",
       "      <td>577.020020</td>\n",
       "      <td>NaN</td>\n",
       "      <td>NaN</td>\n",
       "      <td>NaN</td>\n",
       "      <td>NaN</td>\n",
       "    </tr>\n",
       "    <tr>\n",
       "      <th>2016-03-16</th>\n",
       "      <td>757.359985</td>\n",
       "      <td>116.107918</td>\n",
       "      <td>574.270020</td>\n",
       "      <td>-0.004766</td>\n",
       "      <td>0.012801</td>\n",
       "      <td>-0.004777</td>\n",
       "      <td>0.012720</td>\n",
       "    </tr>\n",
       "    <tr>\n",
       "      <th>2016-03-17</th>\n",
       "      <td>758.479980</td>\n",
       "      <td>117.912178</td>\n",
       "      <td>559.440002</td>\n",
       "      <td>-0.025824</td>\n",
       "      <td>0.015540</td>\n",
       "      <td>-0.026163</td>\n",
       "      <td>0.015420</td>\n",
       "    </tr>\n",
       "    <tr>\n",
       "      <th>2016-03-18</th>\n",
       "      <td>755.409973</td>\n",
       "      <td>117.952309</td>\n",
       "      <td>552.080017</td>\n",
       "      <td>-0.013156</td>\n",
       "      <td>0.000340</td>\n",
       "      <td>-0.013243</td>\n",
       "      <td>0.000340</td>\n",
       "    </tr>\n",
       "    <tr>\n",
       "      <th>2016-03-21</th>\n",
       "      <td>762.159973</td>\n",
       "      <td>119.187241</td>\n",
       "      <td>553.979980</td>\n",
       "      <td>0.003441</td>\n",
       "      <td>0.010470</td>\n",
       "      <td>0.003436</td>\n",
       "      <td>0.010415</td>\n",
       "    </tr>\n",
       "  </tbody>\n",
       "</table>\n",
       "</div>"
      ],
      "text/plain": [
       "Symbols          GOOGL         IBM        AMZN  AMZN_ret   IBM_ret  \\\n",
       "Date                                                                 \n",
       "2016-03-15  750.570007  114.640419  577.020020       NaN       NaN   \n",
       "2016-03-16  757.359985  116.107918  574.270020 -0.004766  0.012801   \n",
       "2016-03-17  758.479980  117.912178  559.440002 -0.025824  0.015540   \n",
       "2016-03-18  755.409973  117.952309  552.080017 -0.013156  0.000340   \n",
       "2016-03-21  762.159973  119.187241  553.979980  0.003441  0.010470   \n",
       "\n",
       "Symbols     AMZN_return2_log  IBM_return2_log  \n",
       "Date                                           \n",
       "2016-03-15               NaN              NaN  \n",
       "2016-03-16         -0.004777         0.012720  \n",
       "2016-03-17         -0.026163         0.015420  \n",
       "2016-03-18         -0.013243         0.000340  \n",
       "2016-03-21          0.003436         0.010415  "
      ]
     },
     "execution_count": 68,
     "metadata": {},
     "output_type": "execute_result"
    }
   ],
   "source": [
    "# base_series['AMZN_return2'] = base_series['AMZN'][1:]/base_series['AMZN'][:-1]\n",
    "base_series['AMZN_return2_log'] = np.log(base_series['AMZN']/base_series['AMZN'].shift(1))\n",
    "base_series['IBM_return2_log'] = np.log(base_series['IBM']/base_series['IBM'].shift(1))\n",
    "base_series.head()"
   ]
  },
  {
   "cell_type": "code",
   "execution_count": 69,
   "metadata": {},
   "outputs": [
    {
     "data": {
      "text/html": [
       "<div>\n",
       "<style scoped>\n",
       "    .dataframe tbody tr th:only-of-type {\n",
       "        vertical-align: middle;\n",
       "    }\n",
       "\n",
       "    .dataframe tbody tr th {\n",
       "        vertical-align: top;\n",
       "    }\n",
       "\n",
       "    .dataframe thead th {\n",
       "        text-align: right;\n",
       "    }\n",
       "</style>\n",
       "<table border=\"1\" class=\"dataframe\">\n",
       "  <thead>\n",
       "    <tr style=\"text-align: right;\">\n",
       "      <th>Symbols</th>\n",
       "      <th>GOOGL</th>\n",
       "      <th>IBM</th>\n",
       "      <th>AMZN</th>\n",
       "      <th>AMZN_ret</th>\n",
       "      <th>IBM_ret</th>\n",
       "      <th>AMZN_return2_log</th>\n",
       "      <th>IBM_return2_log</th>\n",
       "    </tr>\n",
       "    <tr>\n",
       "      <th>Date</th>\n",
       "      <th></th>\n",
       "      <th></th>\n",
       "      <th></th>\n",
       "      <th></th>\n",
       "      <th></th>\n",
       "      <th></th>\n",
       "      <th></th>\n",
       "    </tr>\n",
       "  </thead>\n",
       "  <tbody>\n",
       "    <tr>\n",
       "      <th>2021-03-09</th>\n",
       "      <td>2040.359985</td>\n",
       "      <td>124.180000</td>\n",
       "      <td>3062.850098</td>\n",
       "      <td>0.037568</td>\n",
       "      <td>-0.005048</td>\n",
       "      <td>0.036880</td>\n",
       "      <td>-0.005060</td>\n",
       "    </tr>\n",
       "    <tr>\n",
       "      <th>2021-03-10</th>\n",
       "      <td>2036.189941</td>\n",
       "      <td>127.870003</td>\n",
       "      <td>3057.639893</td>\n",
       "      <td>-0.001701</td>\n",
       "      <td>0.029715</td>\n",
       "      <td>-0.001703</td>\n",
       "      <td>0.029282</td>\n",
       "    </tr>\n",
       "    <tr>\n",
       "      <th>2021-03-11</th>\n",
       "      <td>2100.540039</td>\n",
       "      <td>127.139999</td>\n",
       "      <td>3113.590088</td>\n",
       "      <td>0.018298</td>\n",
       "      <td>-0.005709</td>\n",
       "      <td>0.018133</td>\n",
       "      <td>-0.005725</td>\n",
       "    </tr>\n",
       "    <tr>\n",
       "      <th>2021-03-12</th>\n",
       "      <td>2050.000000</td>\n",
       "      <td>127.610001</td>\n",
       "      <td>3089.489990</td>\n",
       "      <td>-0.007740</td>\n",
       "      <td>0.003697</td>\n",
       "      <td>-0.007770</td>\n",
       "      <td>0.003690</td>\n",
       "    </tr>\n",
       "    <tr>\n",
       "      <th>2021-03-15</th>\n",
       "      <td>2033.319946</td>\n",
       "      <td>128.009995</td>\n",
       "      <td>3045.554932</td>\n",
       "      <td>-0.014221</td>\n",
       "      <td>0.003135</td>\n",
       "      <td>-0.014323</td>\n",
       "      <td>0.003130</td>\n",
       "    </tr>\n",
       "  </tbody>\n",
       "</table>\n",
       "</div>"
      ],
      "text/plain": [
       "Symbols           GOOGL         IBM         AMZN  AMZN_ret   IBM_ret  \\\n",
       "Date                                                                   \n",
       "2021-03-09  2040.359985  124.180000  3062.850098  0.037568 -0.005048   \n",
       "2021-03-10  2036.189941  127.870003  3057.639893 -0.001701  0.029715   \n",
       "2021-03-11  2100.540039  127.139999  3113.590088  0.018298 -0.005709   \n",
       "2021-03-12  2050.000000  127.610001  3089.489990 -0.007740  0.003697   \n",
       "2021-03-15  2033.319946  128.009995  3045.554932 -0.014221  0.003135   \n",
       "\n",
       "Symbols     AMZN_return2_log  IBM_return2_log  \n",
       "Date                                           \n",
       "2021-03-09          0.036880        -0.005060  \n",
       "2021-03-10         -0.001703         0.029282  \n",
       "2021-03-11          0.018133        -0.005725  \n",
       "2021-03-12         -0.007770         0.003690  \n",
       "2021-03-15         -0.014323         0.003130  "
      ]
     },
     "execution_count": 69,
     "metadata": {},
     "output_type": "execute_result"
    }
   ],
   "source": [
    "base_series.tail()"
   ]
  },
  {
   "cell_type": "code",
   "execution_count": 70,
   "metadata": {},
   "outputs": [],
   "source": [
    "# Remove the NA() values\n",
    "base_series_new = pd.DataFrame(base_series.dropna())"
   ]
  },
  {
   "cell_type": "code",
   "execution_count": 71,
   "metadata": {},
   "outputs": [
    {
     "data": {
      "text/html": [
       "<div>\n",
       "<style scoped>\n",
       "    .dataframe tbody tr th:only-of-type {\n",
       "        vertical-align: middle;\n",
       "    }\n",
       "\n",
       "    .dataframe tbody tr th {\n",
       "        vertical-align: top;\n",
       "    }\n",
       "\n",
       "    .dataframe thead th {\n",
       "        text-align: right;\n",
       "    }\n",
       "</style>\n",
       "<table border=\"1\" class=\"dataframe\">\n",
       "  <thead>\n",
       "    <tr style=\"text-align: right;\">\n",
       "      <th>Symbols</th>\n",
       "      <th>GOOGL</th>\n",
       "      <th>IBM</th>\n",
       "      <th>AMZN</th>\n",
       "      <th>AMZN_ret</th>\n",
       "      <th>IBM_ret</th>\n",
       "      <th>AMZN_return2_log</th>\n",
       "      <th>IBM_return2_log</th>\n",
       "    </tr>\n",
       "    <tr>\n",
       "      <th>Date</th>\n",
       "      <th></th>\n",
       "      <th></th>\n",
       "      <th></th>\n",
       "      <th></th>\n",
       "      <th></th>\n",
       "      <th></th>\n",
       "      <th></th>\n",
       "    </tr>\n",
       "  </thead>\n",
       "  <tbody>\n",
       "    <tr>\n",
       "      <th>2016-03-16</th>\n",
       "      <td>757.359985</td>\n",
       "      <td>116.107918</td>\n",
       "      <td>574.270020</td>\n",
       "      <td>-0.004766</td>\n",
       "      <td>0.012801</td>\n",
       "      <td>-0.004777</td>\n",
       "      <td>0.012720</td>\n",
       "    </tr>\n",
       "    <tr>\n",
       "      <th>2016-03-17</th>\n",
       "      <td>758.479980</td>\n",
       "      <td>117.912178</td>\n",
       "      <td>559.440002</td>\n",
       "      <td>-0.025824</td>\n",
       "      <td>0.015540</td>\n",
       "      <td>-0.026163</td>\n",
       "      <td>0.015420</td>\n",
       "    </tr>\n",
       "    <tr>\n",
       "      <th>2016-03-18</th>\n",
       "      <td>755.409973</td>\n",
       "      <td>117.952309</td>\n",
       "      <td>552.080017</td>\n",
       "      <td>-0.013156</td>\n",
       "      <td>0.000340</td>\n",
       "      <td>-0.013243</td>\n",
       "      <td>0.000340</td>\n",
       "    </tr>\n",
       "    <tr>\n",
       "      <th>2016-03-21</th>\n",
       "      <td>762.159973</td>\n",
       "      <td>119.187241</td>\n",
       "      <td>553.979980</td>\n",
       "      <td>0.003441</td>\n",
       "      <td>0.010470</td>\n",
       "      <td>0.003436</td>\n",
       "      <td>0.010415</td>\n",
       "    </tr>\n",
       "    <tr>\n",
       "      <th>2016-03-22</th>\n",
       "      <td>760.049988</td>\n",
       "      <td>118.762215</td>\n",
       "      <td>560.479980</td>\n",
       "      <td>0.011733</td>\n",
       "      <td>-0.003566</td>\n",
       "      <td>0.011665</td>\n",
       "      <td>-0.003572</td>\n",
       "    </tr>\n",
       "  </tbody>\n",
       "</table>\n",
       "</div>"
      ],
      "text/plain": [
       "Symbols          GOOGL         IBM        AMZN  AMZN_ret   IBM_ret  \\\n",
       "Date                                                                 \n",
       "2016-03-16  757.359985  116.107918  574.270020 -0.004766  0.012801   \n",
       "2016-03-17  758.479980  117.912178  559.440002 -0.025824  0.015540   \n",
       "2016-03-18  755.409973  117.952309  552.080017 -0.013156  0.000340   \n",
       "2016-03-21  762.159973  119.187241  553.979980  0.003441  0.010470   \n",
       "2016-03-22  760.049988  118.762215  560.479980  0.011733 -0.003566   \n",
       "\n",
       "Symbols     AMZN_return2_log  IBM_return2_log  \n",
       "Date                                           \n",
       "2016-03-16         -0.004777         0.012720  \n",
       "2016-03-17         -0.026163         0.015420  \n",
       "2016-03-18         -0.013243         0.000340  \n",
       "2016-03-21          0.003436         0.010415  \n",
       "2016-03-22          0.011665        -0.003572  "
      ]
     },
     "execution_count": 71,
     "metadata": {},
     "output_type": "execute_result"
    }
   ],
   "source": [
    "base_series_new.head()"
   ]
  },
  {
   "cell_type": "code",
   "execution_count": 72,
   "metadata": {},
   "outputs": [],
   "source": [
    "# yyyymm = []\n",
    "# d0 = base_series_new.index"
   ]
  },
  {
   "cell_type": "code",
   "execution_count": 73,
   "metadata": {},
   "outputs": [],
   "source": [
    "# d0"
   ]
  },
  {
   "cell_type": "code",
   "execution_count": 74,
   "metadata": {},
   "outputs": [],
   "source": [
    "# for i in range(0, np.size(base_series_new['AMZN_return2_log'])):\n",
    "#     yyyymm.append(''.join([d0[i].strftime(\"%Y\"), d0[i].strftime(\"%m\")]))"
   ]
  },
  {
   "cell_type": "code",
   "execution_count": 75,
   "metadata": {},
   "outputs": [],
   "source": [
    "# yyyymm"
   ]
  },
  {
   "cell_type": "code",
   "execution_count": 76,
   "metadata": {},
   "outputs": [],
   "source": [
    "# len(yyyymm)"
   ]
  },
  {
   "cell_type": "code",
   "execution_count": 77,
   "metadata": {},
   "outputs": [
    {
     "name": "stdout",
     "output_type": "stream",
     "text": [
      "<class 'pandas.core.frame.DataFrame'>\n",
      "DatetimeIndex: 1258 entries, 2016-03-16 to 2021-03-15\n",
      "Data columns (total 7 columns):\n",
      " #   Column            Non-Null Count  Dtype  \n",
      "---  ------            --------------  -----  \n",
      " 0   GOOGL             1258 non-null   float64\n",
      " 1   IBM               1258 non-null   float64\n",
      " 2   AMZN              1258 non-null   float64\n",
      " 3   AMZN_ret          1258 non-null   float64\n",
      " 4   IBM_ret           1258 non-null   float64\n",
      " 5   AMZN_return2_log  1258 non-null   float64\n",
      " 6   IBM_return2_log   1258 non-null   float64\n",
      "dtypes: float64(7)\n",
      "memory usage: 78.6 KB\n"
     ]
    }
   ],
   "source": [
    "base_series_new.info()"
   ]
  },
  {
   "cell_type": "code",
   "execution_count": 78,
   "metadata": {},
   "outputs": [],
   "source": [
    "base_series_new['Date'] = base_series_new.index"
   ]
  },
  {
   "cell_type": "code",
   "execution_count": 79,
   "metadata": {},
   "outputs": [
    {
     "data": {
      "text/html": [
       "<div>\n",
       "<style scoped>\n",
       "    .dataframe tbody tr th:only-of-type {\n",
       "        vertical-align: middle;\n",
       "    }\n",
       "\n",
       "    .dataframe tbody tr th {\n",
       "        vertical-align: top;\n",
       "    }\n",
       "\n",
       "    .dataframe thead th {\n",
       "        text-align: right;\n",
       "    }\n",
       "</style>\n",
       "<table border=\"1\" class=\"dataframe\">\n",
       "  <thead>\n",
       "    <tr style=\"text-align: right;\">\n",
       "      <th>Symbols</th>\n",
       "      <th>GOOGL</th>\n",
       "      <th>IBM</th>\n",
       "      <th>AMZN</th>\n",
       "      <th>AMZN_ret</th>\n",
       "      <th>IBM_ret</th>\n",
       "      <th>AMZN_return2_log</th>\n",
       "      <th>IBM_return2_log</th>\n",
       "      <th>Date</th>\n",
       "      <th>month_year</th>\n",
       "    </tr>\n",
       "    <tr>\n",
       "      <th>Date</th>\n",
       "      <th></th>\n",
       "      <th></th>\n",
       "      <th></th>\n",
       "      <th></th>\n",
       "      <th></th>\n",
       "      <th></th>\n",
       "      <th></th>\n",
       "      <th></th>\n",
       "      <th></th>\n",
       "    </tr>\n",
       "  </thead>\n",
       "  <tbody>\n",
       "    <tr>\n",
       "      <th>2016-03-16</th>\n",
       "      <td>757.359985</td>\n",
       "      <td>116.107918</td>\n",
       "      <td>574.270020</td>\n",
       "      <td>-0.004766</td>\n",
       "      <td>0.012801</td>\n",
       "      <td>-0.004777</td>\n",
       "      <td>0.012720</td>\n",
       "      <td>2016-03-16</td>\n",
       "      <td>2016-03</td>\n",
       "    </tr>\n",
       "    <tr>\n",
       "      <th>2016-03-17</th>\n",
       "      <td>758.479980</td>\n",
       "      <td>117.912178</td>\n",
       "      <td>559.440002</td>\n",
       "      <td>-0.025824</td>\n",
       "      <td>0.015540</td>\n",
       "      <td>-0.026163</td>\n",
       "      <td>0.015420</td>\n",
       "      <td>2016-03-17</td>\n",
       "      <td>2016-03</td>\n",
       "    </tr>\n",
       "    <tr>\n",
       "      <th>2016-03-18</th>\n",
       "      <td>755.409973</td>\n",
       "      <td>117.952309</td>\n",
       "      <td>552.080017</td>\n",
       "      <td>-0.013156</td>\n",
       "      <td>0.000340</td>\n",
       "      <td>-0.013243</td>\n",
       "      <td>0.000340</td>\n",
       "      <td>2016-03-18</td>\n",
       "      <td>2016-03</td>\n",
       "    </tr>\n",
       "    <tr>\n",
       "      <th>2016-03-21</th>\n",
       "      <td>762.159973</td>\n",
       "      <td>119.187241</td>\n",
       "      <td>553.979980</td>\n",
       "      <td>0.003441</td>\n",
       "      <td>0.010470</td>\n",
       "      <td>0.003436</td>\n",
       "      <td>0.010415</td>\n",
       "      <td>2016-03-21</td>\n",
       "      <td>2016-03</td>\n",
       "    </tr>\n",
       "    <tr>\n",
       "      <th>2016-03-22</th>\n",
       "      <td>760.049988</td>\n",
       "      <td>118.762215</td>\n",
       "      <td>560.479980</td>\n",
       "      <td>0.011733</td>\n",
       "      <td>-0.003566</td>\n",
       "      <td>0.011665</td>\n",
       "      <td>-0.003572</td>\n",
       "      <td>2016-03-22</td>\n",
       "      <td>2016-03</td>\n",
       "    </tr>\n",
       "  </tbody>\n",
       "</table>\n",
       "</div>"
      ],
      "text/plain": [
       "Symbols          GOOGL         IBM        AMZN  AMZN_ret   IBM_ret  \\\n",
       "Date                                                                 \n",
       "2016-03-16  757.359985  116.107918  574.270020 -0.004766  0.012801   \n",
       "2016-03-17  758.479980  117.912178  559.440002 -0.025824  0.015540   \n",
       "2016-03-18  755.409973  117.952309  552.080017 -0.013156  0.000340   \n",
       "2016-03-21  762.159973  119.187241  553.979980  0.003441  0.010470   \n",
       "2016-03-22  760.049988  118.762215  560.479980  0.011733 -0.003566   \n",
       "\n",
       "Symbols     AMZN_return2_log  IBM_return2_log       Date month_year  \n",
       "Date                                                                 \n",
       "2016-03-16         -0.004777         0.012720 2016-03-16    2016-03  \n",
       "2016-03-17         -0.026163         0.015420 2016-03-17    2016-03  \n",
       "2016-03-18         -0.013243         0.000340 2016-03-18    2016-03  \n",
       "2016-03-21          0.003436         0.010415 2016-03-21    2016-03  \n",
       "2016-03-22          0.011665        -0.003572 2016-03-22    2016-03  "
      ]
     },
     "execution_count": 79,
     "metadata": {},
     "output_type": "execute_result"
    }
   ],
   "source": [
    "base_series_new['month_year'] = pd.to_datetime(base_series_new['Date']).dt.to_period('M')\n",
    "base_series_new.head()"
   ]
  },
  {
   "cell_type": "code",
   "execution_count": 32,
   "metadata": {},
   "outputs": [],
   "source": [
    "monthly_return = base_series_new['AMZN_return2_log'].groupby(base_series_new['month_year']).sum()"
   ]
  },
  {
   "cell_type": "code",
   "execution_count": 33,
   "metadata": {},
   "outputs": [
    {
     "data": {
      "text/plain": [
       "month_year\n",
       "2016-03    0.028396\n",
       "2016-04    0.105345\n",
       "2016-05    0.091500\n",
       "2016-06   -0.009969\n",
       "2016-07    0.058602\n",
       "             ...   \n",
       "2020-11    0.042523\n",
       "2020-12    0.027672\n",
       "2021-01   -0.015699\n",
       "2021-02   -0.035968\n",
       "2021-03   -0.015024\n",
       "Freq: M, Name: AMZN_return2_log, Length: 61, dtype: float64"
      ]
     },
     "execution_count": 33,
     "metadata": {},
     "output_type": "execute_result"
    }
   ],
   "source": [
    "monthly_return"
   ]
  },
  {
   "cell_type": "markdown",
   "metadata": {},
   "source": [
    "<div class=\"alert alert-block alert-info\">\n",
    "<b><span style=\"font-family:Comic Sans MS\">Interpolation</span></b>\n",
    "</div>"
   ]
  },
  {
   "cell_type": "code",
   "execution_count": 34,
   "metadata": {},
   "outputs": [],
   "source": [
    "import pandas as pd\n",
    "import numpy as np\n",
    "nn = np.nan\n",
    "new_series = pd.Series([0.034742, 0.105345, 0.091500,-0.009969,0.058602,\n",
    "                        nn,0.042523,nn,nn,-0.015699,nn,nn,nn,-0.001113])"
   ]
  },
  {
   "cell_type": "code",
   "execution_count": 35,
   "metadata": {},
   "outputs": [
    {
     "name": "stdout",
     "output_type": "stream",
     "text": [
      "0     0.034742\n",
      "1     0.105345\n",
      "2     0.091500\n",
      "3    -0.009969\n",
      "4     0.058602\n",
      "5          NaN\n",
      "6     0.042523\n",
      "7          NaN\n",
      "8          NaN\n",
      "9    -0.015699\n",
      "10         NaN\n",
      "11         NaN\n",
      "12         NaN\n",
      "13   -0.001113\n",
      "dtype: float64\n"
     ]
    }
   ],
   "source": [
    "print(new_series)"
   ]
  },
  {
   "cell_type": "code",
   "execution_count": 36,
   "metadata": {},
   "outputs": [
    {
     "name": "stdout",
     "output_type": "stream",
     "text": [
      "0     0.034742\n",
      "1     0.105345\n",
      "2     0.091500\n",
      "3    -0.009969\n",
      "4     0.058602\n",
      "5     0.050562\n",
      "6     0.042523\n",
      "7     0.023116\n",
      "8     0.003708\n",
      "9    -0.015699\n",
      "10   -0.012053\n",
      "11   -0.008406\n",
      "12   -0.004759\n",
      "13   -0.001113\n",
      "dtype: float64\n"
     ]
    }
   ],
   "source": [
    "print(new_series.interpolate())"
   ]
  },
  {
   "cell_type": "markdown",
   "metadata": {},
   "source": [
    "<div class=\"alert alert-block alert-info\">\n",
    "<b><span style=\"font-family:Comic Sans MS\">Test of Normality</span></b>\n",
    "</div>"
   ]
  },
  {
   "cell_type": "code",
   "execution_count": 37,
   "metadata": {},
   "outputs": [],
   "source": [
    "import scipy as sp\n",
    "from scipy import stats\n",
    "sp.random.seed(2021)\n",
    "mean = 0.2\n",
    "std = 0.35\n",
    "n = 15000\n",
    "base_series = sp.random.normal(loc=0, scale=std, size=n)"
   ]
  },
  {
   "cell_type": "code",
   "execution_count": 38,
   "metadata": {},
   "outputs": [
    {
     "name": "stdout",
     "output_type": "stream",
     "text": [
      "w_test & p-value\n",
      "ShapiroResult(statistic=0.9998752474784851, pvalue=0.6379299759864807)\n"
     ]
    }
   ],
   "source": [
    "print('w_test & p-value')\n",
    "print(stats.shapiro(base_series))"
   ]
  },
  {
   "cell_type": "code",
   "execution_count": 39,
   "metadata": {},
   "outputs": [
    {
     "name": "stdout",
     "output_type": "stream",
     "text": [
      "w_test & p-value\n",
      "ShapiroResult(statistic=0.9552866816520691, pvalue=0.0)\n"
     ]
    }
   ],
   "source": [
    "# Select another series\n",
    "import scipy as sp\n",
    "from scipy import stats\n",
    "sp.random.seed(2021)\n",
    "n = 15000\n",
    "base_series_2 = sp.random.uniform(size = n)\n",
    "print('w_test & p-value')\n",
    "print(stats.shapiro(base_series_2))"
   ]
  },
  {
   "cell_type": "code",
   "execution_count": 40,
   "metadata": {},
   "outputs": [
    {
     "name": "stdout",
     "output_type": "stream",
     "text": [
      "(1258, 9)\n",
      "<class 'pandas.core.frame.DataFrame'>\n",
      "DatetimeIndex: 1258 entries, 2016-03-16 to 2021-03-15\n",
      "Data columns (total 9 columns):\n",
      " #   Column            Non-Null Count  Dtype         \n",
      "---  ------            --------------  -----         \n",
      " 0   GOOGL             1258 non-null   float64       \n",
      " 1   IBM               1258 non-null   float64       \n",
      " 2   AMZN              1258 non-null   float64       \n",
      " 3   AMZN_ret          1258 non-null   float64       \n",
      " 4   IBM_ret           1258 non-null   float64       \n",
      " 5   AMZN_return2_log  1258 non-null   float64       \n",
      " 6   IBM_return2_log   1258 non-null   float64       \n",
      " 7   Date              1258 non-null   datetime64[ns]\n",
      " 8   month_year        1258 non-null   period[M]     \n",
      "dtypes: datetime64[ns](1), float64(7), period[M](1)\n",
      "memory usage: 98.3 KB\n",
      "None\n"
     ]
    }
   ],
   "source": [
    "# Check it for the AMZN_ret\n",
    "print(base_series_new.shape)\n",
    "print(base_series_new.info())"
   ]
  },
  {
   "cell_type": "code",
   "execution_count": 41,
   "metadata": {},
   "outputs": [
    {
     "name": "stdout",
     "output_type": "stream",
     "text": [
      "w_test & p-value\n",
      "ShapiroResult(statistic=0.9353629350662231, pvalue=6.221071956720699e-23)\n"
     ]
    }
   ],
   "source": [
    "print('w_test & p-value')\n",
    "print(stats.shapiro(base_series_new['AMZN_ret']))"
   ]
  },
  {
   "cell_type": "code",
   "execution_count": 42,
   "metadata": {},
   "outputs": [
    {
     "name": "stdout",
     "output_type": "stream",
     "text": [
      "AndersonResult(statistic=18.594521616317934, critical_values=array([0.574, 0.654, 0.785, 0.915, 1.089]), significance_level=array([15. , 10. ,  5. ,  2.5,  1. ]))\n"
     ]
    }
   ],
   "source": [
    "# Other tests of normality\n",
    "print(stats.anderson(base_series_new['AMZN_ret']))"
   ]
  },
  {
   "cell_type": "code",
   "execution_count": 43,
   "metadata": {
    "scrolled": true
   },
   "outputs": [
    {
     "name": "stdout",
     "output_type": "stream",
     "text": [
      "Help on function anderson in module scipy.stats.morestats:\n",
      "\n",
      "anderson(x, dist='norm')\n",
      "    Anderson-Darling test for data coming from a particular distribution.\n",
      "    \n",
      "    The Anderson-Darling test tests the null hypothesis that a sample is\n",
      "    drawn from a population that follows a particular distribution.\n",
      "    For the Anderson-Darling test, the critical values depend on\n",
      "    which distribution is being tested against.  This function works\n",
      "    for normal, exponential, logistic, or Gumbel (Extreme Value\n",
      "    Type I) distributions.\n",
      "    \n",
      "    Parameters\n",
      "    ----------\n",
      "    x : array_like\n",
      "        Array of sample data.\n",
      "    dist : {'norm', 'expon', 'logistic', 'gumbel', 'gumbel_l', 'gumbel_r',\n",
      "        'extreme1'}, optional\n",
      "        The type of distribution to test against.  The default is 'norm'.\n",
      "        The names 'extreme1', 'gumbel_l' and 'gumbel' are synonyms for the\n",
      "        same distribution.\n",
      "    \n",
      "    Returns\n",
      "    -------\n",
      "    statistic : float\n",
      "        The Anderson-Darling test statistic.\n",
      "    critical_values : list\n",
      "        The critical values for this distribution.\n",
      "    significance_level : list\n",
      "        The significance levels for the corresponding critical values\n",
      "        in percents.  The function returns critical values for a\n",
      "        differing set of significance levels depending on the\n",
      "        distribution that is being tested against.\n",
      "    \n",
      "    See Also\n",
      "    --------\n",
      "    kstest : The Kolmogorov-Smirnov test for goodness-of-fit.\n",
      "    \n",
      "    Notes\n",
      "    -----\n",
      "    Critical values provided are for the following significance levels:\n",
      "    \n",
      "    normal/exponenential\n",
      "        15%, 10%, 5%, 2.5%, 1%\n",
      "    logistic\n",
      "        25%, 10%, 5%, 2.5%, 1%, 0.5%\n",
      "    Gumbel\n",
      "        25%, 10%, 5%, 2.5%, 1%\n",
      "    \n",
      "    If the returned statistic is larger than these critical values then\n",
      "    for the corresponding significance level, the null hypothesis that\n",
      "    the data come from the chosen distribution can be rejected.\n",
      "    The returned statistic is referred to as 'A2' in the references.\n",
      "    \n",
      "    References\n",
      "    ----------\n",
      "    .. [1] https://www.itl.nist.gov/div898/handbook/prc/section2/prc213.htm\n",
      "    .. [2] Stephens, M. A. (1974). EDF Statistics for Goodness of Fit and\n",
      "           Some Comparisons, Journal of the American Statistical Association,\n",
      "           Vol. 69, pp. 730-737.\n",
      "    .. [3] Stephens, M. A. (1976). Asymptotic Results for Goodness-of-Fit\n",
      "           Statistics with Unknown Parameters, Annals of Statistics, Vol. 4,\n",
      "           pp. 357-369.\n",
      "    .. [4] Stephens, M. A. (1977). Goodness of Fit for the Extreme Value\n",
      "           Distribution, Biometrika, Vol. 64, pp. 583-588.\n",
      "    .. [5] Stephens, M. A. (1977). Goodness of Fit with Special Reference\n",
      "           to Tests for Exponentiality , Technical Report No. 262,\n",
      "           Department of Statistics, Stanford University, Stanford, CA.\n",
      "    .. [6] Stephens, M. A. (1979). Tests of Fit for the Logistic Distribution\n",
      "           Based on the Empirical Distribution Function, Biometrika, Vol. 66,\n",
      "           pp. 591-595.\n",
      "\n"
     ]
    }
   ],
   "source": [
    "help(stats.anderson)"
   ]
  },
  {
   "cell_type": "markdown",
   "metadata": {},
   "source": [
    "<div class=\"alert alert-block alert-info\">\n",
    "<b><span style=\"font-family:Comic Sans MS\">Estimating fat-tails</span></b>\n",
    "</div>"
   ]
  },
  {
   "cell_type": "code",
   "execution_count": 44,
   "metadata": {},
   "outputs": [
    {
     "name": "stdout",
     "output_type": "stream",
     "text": [
      "mean:  0.0007706513842724666\n",
      "std:  1.00245666343976\n",
      "skewness:  0.0010183203860620012\n",
      "kurtosis:  0.0037787055280307236\n"
     ]
    }
   ],
   "source": [
    "import scipy as sp\n",
    "from scipy import stats, random\n",
    "import numpy as np\n",
    "np.random.seed(2021)\n",
    "new_series = random.normal(0,1,200000)\n",
    "print('mean: ',np.mean(new_series))\n",
    "print('std: ',np.std(new_series))\n",
    "print('skewness: ',stats.skew(new_series))\n",
    "print('kurtosis: ',stats.kurtosis(new_series))"
   ]
  },
  {
   "cell_type": "code",
   "execution_count": 45,
   "metadata": {},
   "outputs": [
    {
     "name": "stdout",
     "output_type": "stream",
     "text": [
      "mean:  0.0014946097029530825\n",
      "std:  0.018539234666339107\n",
      "skewness:  0.3718638405685746\n",
      "kurtosis:  4.983291030529145\n"
     ]
    }
   ],
   "source": [
    "print('mean: ',np.mean(base_series_new['AMZN_ret']))\n",
    "print('std: ',np.std(base_series_new['AMZN_ret']))\n",
    "print('skewness: ',stats.skew(base_series_new['AMZN_ret']))\n",
    "print('kurtosis: ',stats.kurtosis(base_series_new['AMZN_ret']))"
   ]
  },
  {
   "cell_type": "markdown",
   "metadata": {},
   "source": [
    "<div class=\"alert alert-block alert-info\">\n",
    "<b><span style=\"font-family:Comic Sans MS\">t-test</span></b>\n",
    "</div>"
   ]
  },
  {
   "cell_type": "code",
   "execution_count": 46,
   "metadata": {},
   "outputs": [
    {
     "name": "stdout",
     "output_type": "stream",
     "text": [
      "t-value & p-value (2-tail): Ttest_1sampResult(statistic=-222.71445934767846, pvalue=0.0)\n",
      "t-value & p-value (2-tail): Ttest_1sampResult(statistic=0.3438003131620681, pvalue=0.7309968261200415)\n"
     ]
    }
   ],
   "source": [
    "import scipy as sp\n",
    "from scipy import stats, random\n",
    "import numpy as np\n",
    "np.random.seed(2021)\n",
    "new_series_2 = stats.norm.rvs(size = 200000)\n",
    "print(\"t-value & p-value (2-tail):\", stats.ttest_1samp(new_series_2,0.5))\n",
    "print(\"t-value & p-value (2-tail):\", stats.ttest_1samp(new_series_2,0))"
   ]
  },
  {
   "cell_type": "code",
   "execution_count": 47,
   "metadata": {},
   "outputs": [
    {
     "name": "stdout",
     "output_type": "stream",
     "text": [
      "Mean t-value & p-value: 0.00149 Ttest_1sampResult(statistic=2.8582725236756716, pvalue=0.004329807915570649)\n"
     ]
    }
   ],
   "source": [
    "print(\"Mean t-value & p-value:\", round(sp.mean(base_series_new['AMZN_ret']),5),\n",
    "      stats.ttest_1samp(base_series_new['AMZN_ret'],0))"
   ]
  },
  {
   "cell_type": "markdown",
   "metadata": {},
   "source": [
    "<div class=\"alert alert-block alert-info\">\n",
    "<b><span style=\"font-family:Comic Sans MS\">High & Low Trading value</span></b>\n",
    "</div>"
   ]
  },
  {
   "cell_type": "code",
   "execution_count": 145,
   "metadata": {},
   "outputs": [],
   "source": [
    "data_path = '/Users/shovonsengupta/Desktop/All/EC-Council Course/AI_for_Finance/Section_6_Statistical_Analysis_of_Financial_Time_Series_Data/dataset'"
   ]
  },
  {
   "cell_type": "code",
   "execution_count": 93,
   "metadata": {},
   "outputs": [
    {
     "data": {
      "text/html": [
       "<div>\n",
       "<style scoped>\n",
       "    .dataframe tbody tr th:only-of-type {\n",
       "        vertical-align: middle;\n",
       "    }\n",
       "\n",
       "    .dataframe tbody tr th {\n",
       "        vertical-align: top;\n",
       "    }\n",
       "\n",
       "    .dataframe thead th {\n",
       "        text-align: right;\n",
       "    }\n",
       "</style>\n",
       "<table border=\"1\" class=\"dataframe\">\n",
       "  <thead>\n",
       "    <tr style=\"text-align: right;\">\n",
       "      <th></th>\n",
       "      <th>Date</th>\n",
       "      <th>Open</th>\n",
       "      <th>High</th>\n",
       "      <th>Low</th>\n",
       "      <th>Close</th>\n",
       "      <th>Adj Close</th>\n",
       "      <th>Volume</th>\n",
       "    </tr>\n",
       "  </thead>\n",
       "  <tbody>\n",
       "    <tr>\n",
       "      <th>0</th>\n",
       "      <td>2018-03-06</td>\n",
       "      <td>NaN</td>\n",
       "      <td>NaN</td>\n",
       "      <td>NaN</td>\n",
       "      <td>NaN</td>\n",
       "      <td>NaN</td>\n",
       "      <td>NaN</td>\n",
       "    </tr>\n",
       "    <tr>\n",
       "      <th>1</th>\n",
       "      <td>2018-03-07</td>\n",
       "      <td>10232.950195</td>\n",
       "      <td>10243.349609</td>\n",
       "      <td>10141.549805</td>\n",
       "      <td>10154.200195</td>\n",
       "      <td>10154.200195</td>\n",
       "      <td>249500.0</td>\n",
       "    </tr>\n",
       "    <tr>\n",
       "      <th>2</th>\n",
       "      <td>2018-03-08</td>\n",
       "      <td>10216.250000</td>\n",
       "      <td>10270.349609</td>\n",
       "      <td>10146.400391</td>\n",
       "      <td>10242.650391</td>\n",
       "      <td>10242.650391</td>\n",
       "      <td>226400.0</td>\n",
       "    </tr>\n",
       "    <tr>\n",
       "      <th>3</th>\n",
       "      <td>2018-03-09</td>\n",
       "      <td>10271.299805</td>\n",
       "      <td>10296.700195</td>\n",
       "      <td>10211.900391</td>\n",
       "      <td>10226.849609</td>\n",
       "      <td>10226.849609</td>\n",
       "      <td>186500.0</td>\n",
       "    </tr>\n",
       "    <tr>\n",
       "      <th>4</th>\n",
       "      <td>2018-03-12</td>\n",
       "      <td>10301.599609</td>\n",
       "      <td>10433.650391</td>\n",
       "      <td>10295.450195</td>\n",
       "      <td>10421.400391</td>\n",
       "      <td>10421.400391</td>\n",
       "      <td>216400.0</td>\n",
       "    </tr>\n",
       "  </tbody>\n",
       "</table>\n",
       "</div>"
      ],
      "text/plain": [
       "         Date          Open          High           Low         Close  \\\n",
       "0  2018-03-06           NaN           NaN           NaN           NaN   \n",
       "1  2018-03-07  10232.950195  10243.349609  10141.549805  10154.200195   \n",
       "2  2018-03-08  10216.250000  10270.349609  10146.400391  10242.650391   \n",
       "3  2018-03-09  10271.299805  10296.700195  10211.900391  10226.849609   \n",
       "4  2018-03-12  10301.599609  10433.650391  10295.450195  10421.400391   \n",
       "\n",
       "      Adj Close    Volume  \n",
       "0           NaN       NaN  \n",
       "1  10154.200195  249500.0  \n",
       "2  10242.650391  226400.0  \n",
       "3  10226.849609  186500.0  \n",
       "4  10421.400391  216400.0  "
      ]
     },
     "execution_count": 93,
     "metadata": {},
     "output_type": "execute_result"
    }
   ],
   "source": [
    "nsei_data = pd.read_csv(data_path+'/NSEI.csv')\n",
    "nsei_data.head()"
   ]
  },
  {
   "cell_type": "code",
   "execution_count": 94,
   "metadata": {},
   "outputs": [],
   "source": [
    "# Remove the NA() values\n",
    "nsei_data_new = pd.DataFrame(nsei_data.dropna())"
   ]
  },
  {
   "cell_type": "code",
   "execution_count": 95,
   "metadata": {},
   "outputs": [
    {
     "data": {
      "text/html": [
       "<div>\n",
       "<style scoped>\n",
       "    .dataframe tbody tr th:only-of-type {\n",
       "        vertical-align: middle;\n",
       "    }\n",
       "\n",
       "    .dataframe tbody tr th {\n",
       "        vertical-align: top;\n",
       "    }\n",
       "\n",
       "    .dataframe thead th {\n",
       "        text-align: right;\n",
       "    }\n",
       "</style>\n",
       "<table border=\"1\" class=\"dataframe\">\n",
       "  <thead>\n",
       "    <tr style=\"text-align: right;\">\n",
       "      <th></th>\n",
       "      <th>Date</th>\n",
       "      <th>Open</th>\n",
       "      <th>High</th>\n",
       "      <th>Low</th>\n",
       "      <th>Close</th>\n",
       "      <th>Adj Close</th>\n",
       "      <th>Volume</th>\n",
       "    </tr>\n",
       "  </thead>\n",
       "  <tbody>\n",
       "    <tr>\n",
       "      <th>1</th>\n",
       "      <td>2018-03-07</td>\n",
       "      <td>10232.950195</td>\n",
       "      <td>10243.349609</td>\n",
       "      <td>10141.549805</td>\n",
       "      <td>10154.200195</td>\n",
       "      <td>10154.200195</td>\n",
       "      <td>249500.0</td>\n",
       "    </tr>\n",
       "    <tr>\n",
       "      <th>2</th>\n",
       "      <td>2018-03-08</td>\n",
       "      <td>10216.250000</td>\n",
       "      <td>10270.349609</td>\n",
       "      <td>10146.400391</td>\n",
       "      <td>10242.650391</td>\n",
       "      <td>10242.650391</td>\n",
       "      <td>226400.0</td>\n",
       "    </tr>\n",
       "    <tr>\n",
       "      <th>3</th>\n",
       "      <td>2018-03-09</td>\n",
       "      <td>10271.299805</td>\n",
       "      <td>10296.700195</td>\n",
       "      <td>10211.900391</td>\n",
       "      <td>10226.849609</td>\n",
       "      <td>10226.849609</td>\n",
       "      <td>186500.0</td>\n",
       "    </tr>\n",
       "    <tr>\n",
       "      <th>4</th>\n",
       "      <td>2018-03-12</td>\n",
       "      <td>10301.599609</td>\n",
       "      <td>10433.650391</td>\n",
       "      <td>10295.450195</td>\n",
       "      <td>10421.400391</td>\n",
       "      <td>10421.400391</td>\n",
       "      <td>216400.0</td>\n",
       "    </tr>\n",
       "    <tr>\n",
       "      <th>5</th>\n",
       "      <td>2018-03-13</td>\n",
       "      <td>10389.500000</td>\n",
       "      <td>10478.599609</td>\n",
       "      <td>10377.849609</td>\n",
       "      <td>10426.849609</td>\n",
       "      <td>10426.849609</td>\n",
       "      <td>266700.0</td>\n",
       "    </tr>\n",
       "  </tbody>\n",
       "</table>\n",
       "</div>"
      ],
      "text/plain": [
       "         Date          Open          High           Low         Close  \\\n",
       "1  2018-03-07  10232.950195  10243.349609  10141.549805  10154.200195   \n",
       "2  2018-03-08  10216.250000  10270.349609  10146.400391  10242.650391   \n",
       "3  2018-03-09  10271.299805  10296.700195  10211.900391  10226.849609   \n",
       "4  2018-03-12  10301.599609  10433.650391  10295.450195  10421.400391   \n",
       "5  2018-03-13  10389.500000  10478.599609  10377.849609  10426.849609   \n",
       "\n",
       "      Adj Close    Volume  \n",
       "1  10154.200195  249500.0  \n",
       "2  10242.650391  226400.0  \n",
       "3  10226.849609  186500.0  \n",
       "4  10421.400391  216400.0  \n",
       "5  10426.849609  266700.0  "
      ]
     },
     "execution_count": 95,
     "metadata": {},
     "output_type": "execute_result"
    }
   ],
   "source": [
    "nsei_data_new.head()"
   ]
  },
  {
   "cell_type": "code",
   "execution_count": 102,
   "metadata": {},
   "outputs": [
    {
     "data": {
      "text/plain": [
       "(246, 7)"
      ]
     },
     "execution_count": 102,
     "metadata": {},
     "output_type": "execute_result"
    }
   ],
   "source": [
    "nsei_data_new.shape"
   ]
  },
  {
   "cell_type": "code",
   "execution_count": 101,
   "metadata": {},
   "outputs": [
    {
     "data": {
      "text/plain": [
       "'2018-03-07'"
      ]
     },
     "execution_count": 101,
     "metadata": {},
     "output_type": "execute_result"
    }
   ],
   "source": [
    "nsei_data_new['Date'].iloc[0]"
   ]
  },
  {
   "cell_type": "code",
   "execution_count": 103,
   "metadata": {},
   "outputs": [
    {
     "name": "stdout",
     "output_type": "stream",
     "text": [
      "day, price high, price low, adj Close 2018-03-07 10243.349609 10141.549805 10154.200195\n"
     ]
    }
   ],
   "source": [
    "print(\"day, price high, price low, adj Close\", \n",
    "      nsei_data_new['Date'].iloc[0],\n",
    "      nsei_data_new['High'].iloc[0],\n",
    "      nsei_data_new['Low'].iloc[0],\n",
    "      nsei_data_new['Adj Close'].iloc[0])"
   ]
  },
  {
   "cell_type": "markdown",
   "metadata": {},
   "source": [
    "<div class=\"alert alert-block alert-info\">\n",
    "<b><span style=\"font-family:Comic Sans MS\">Estimating Roll's spread</span></b>\n",
    "</div>"
   ]
  },
  {
   "cell_type": "code",
   "execution_count": 152,
   "metadata": {},
   "outputs": [
    {
     "data": {
      "text/html": [
       "<div>\n",
       "<style scoped>\n",
       "    .dataframe tbody tr th:only-of-type {\n",
       "        vertical-align: middle;\n",
       "    }\n",
       "\n",
       "    .dataframe tbody tr th {\n",
       "        vertical-align: top;\n",
       "    }\n",
       "\n",
       "    .dataframe thead th {\n",
       "        text-align: right;\n",
       "    }\n",
       "</style>\n",
       "<table border=\"1\" class=\"dataframe\">\n",
       "  <thead>\n",
       "    <tr style=\"text-align: right;\">\n",
       "      <th></th>\n",
       "      <th>Date</th>\n",
       "      <th>Open</th>\n",
       "      <th>High</th>\n",
       "      <th>Low</th>\n",
       "      <th>Close</th>\n",
       "      <th>Adj Close</th>\n",
       "      <th>Volume</th>\n",
       "    </tr>\n",
       "  </thead>\n",
       "  <tbody>\n",
       "    <tr>\n",
       "      <th>0</th>\n",
       "      <td>2020-03-16</td>\n",
       "      <td>98.000000</td>\n",
       "      <td>107.410004</td>\n",
       "      <td>95.000000</td>\n",
       "      <td>99.080002</td>\n",
       "      <td>93.871460</td>\n",
       "      <td>10568000</td>\n",
       "    </tr>\n",
       "    <tr>\n",
       "      <th>1</th>\n",
       "      <td>2020-03-17</td>\n",
       "      <td>100.610001</td>\n",
       "      <td>107.400002</td>\n",
       "      <td>97.099998</td>\n",
       "      <td>106.650002</td>\n",
       "      <td>101.043510</td>\n",
       "      <td>9258300</td>\n",
       "    </tr>\n",
       "    <tr>\n",
       "      <th>2</th>\n",
       "      <td>2020-03-18</td>\n",
       "      <td>99.410004</td>\n",
       "      <td>106.930000</td>\n",
       "      <td>99.400002</td>\n",
       "      <td>103.550003</td>\n",
       "      <td>98.106476</td>\n",
       "      <td>8772500</td>\n",
       "    </tr>\n",
       "    <tr>\n",
       "      <th>3</th>\n",
       "      <td>2020-03-19</td>\n",
       "      <td>102.330002</td>\n",
       "      <td>103.690002</td>\n",
       "      <td>98.239998</td>\n",
       "      <td>100.339996</td>\n",
       "      <td>95.065216</td>\n",
       "      <td>8396500</td>\n",
       "    </tr>\n",
       "    <tr>\n",
       "      <th>4</th>\n",
       "      <td>2020-03-20</td>\n",
       "      <td>100.919998</td>\n",
       "      <td>100.989998</td>\n",
       "      <td>94.709999</td>\n",
       "      <td>95.389999</td>\n",
       "      <td>90.375435</td>\n",
       "      <td>10546500</td>\n",
       "    </tr>\n",
       "  </tbody>\n",
       "</table>\n",
       "</div>"
      ],
      "text/plain": [
       "         Date        Open        High        Low       Close   Adj Close  \\\n",
       "0  2020-03-16   98.000000  107.410004  95.000000   99.080002   93.871460   \n",
       "1  2020-03-17  100.610001  107.400002  97.099998  106.650002  101.043510   \n",
       "2  2020-03-18   99.410004  106.930000  99.400002  103.550003   98.106476   \n",
       "3  2020-03-19  102.330002  103.690002  98.239998  100.339996   95.065216   \n",
       "4  2020-03-20  100.919998  100.989998  94.709999   95.389999   90.375435   \n",
       "\n",
       "     Volume  \n",
       "0  10568000  \n",
       "1   9258300  \n",
       "2   8772500  \n",
       "3   8396500  \n",
       "4  10546500  "
      ]
     },
     "execution_count": 152,
     "metadata": {},
     "output_type": "execute_result"
    }
   ],
   "source": [
    "# base_series_new.head()\n",
    "IBM_daily = pd.read_csv(data_path+'/IBM_daily.csv')\n",
    "IBM_daily.head()"
   ]
  },
  {
   "cell_type": "code",
   "execution_count": 154,
   "metadata": {},
   "outputs": [],
   "source": [
    "p = IBM_daily['Adj Close']"
   ]
  },
  {
   "cell_type": "code",
   "execution_count": 155,
   "metadata": {},
   "outputs": [],
   "source": [
    "import scipy as sp\n",
    "d = sp.diff(p)\n",
    "cov_ = sp.cov(d[:-1],d[1:])"
   ]
  },
  {
   "cell_type": "code",
   "execution_count": 156,
   "metadata": {},
   "outputs": [
    {
     "data": {
      "text/plain": [
       "array([[ 6.53877454, -0.7588864 ],\n",
       "       [-0.7588864 ,  6.33874677]])"
      ]
     },
     "execution_count": 156,
     "metadata": {},
     "output_type": "execute_result"
    }
   ],
   "source": [
    "cov_"
   ]
  },
  {
   "cell_type": "code",
   "execution_count": 158,
   "metadata": {},
   "outputs": [
    {
     "name": "stdout",
     "output_type": "stream",
     "text": [
      "Roll Spread for IBM is:  1.742\n"
     ]
    }
   ],
   "source": [
    "if cov_[0,1] < 0:\n",
    "    print('Roll Spread for IBM is: ', round(2*sp.sqrt(-cov_[0,1]),3))\n",
    "else:\n",
    "    print('Cov is positive for IBM: ', round(cov_[0,1],3))"
   ]
  },
  {
   "cell_type": "markdown",
   "metadata": {},
   "source": [
    "<div class=\"alert alert-block alert-info\">\n",
    "<b><span style=\"font-family:Comic Sans MS\">Estimating Amihud's illequidity</span></b>\n",
    "</div>"
   ]
  },
  {
   "cell_type": "code",
   "execution_count": 148,
   "metadata": {},
   "outputs": [
    {
     "data": {
      "text/html": [
       "<div>\n",
       "<style scoped>\n",
       "    .dataframe tbody tr th:only-of-type {\n",
       "        vertical-align: middle;\n",
       "    }\n",
       "\n",
       "    .dataframe tbody tr th {\n",
       "        vertical-align: top;\n",
       "    }\n",
       "\n",
       "    .dataframe thead th {\n",
       "        text-align: right;\n",
       "    }\n",
       "</style>\n",
       "<table border=\"1\" class=\"dataframe\">\n",
       "  <thead>\n",
       "    <tr style=\"text-align: right;\">\n",
       "      <th></th>\n",
       "      <th>Date</th>\n",
       "      <th>Open</th>\n",
       "      <th>High</th>\n",
       "      <th>Low</th>\n",
       "      <th>Close</th>\n",
       "      <th>Adj Close</th>\n",
       "      <th>Volume</th>\n",
       "    </tr>\n",
       "  </thead>\n",
       "  <tbody>\n",
       "    <tr>\n",
       "      <th>0</th>\n",
       "      <td>2020-03-16</td>\n",
       "      <td>98.000000</td>\n",
       "      <td>107.410004</td>\n",
       "      <td>95.000000</td>\n",
       "      <td>99.080002</td>\n",
       "      <td>93.871460</td>\n",
       "      <td>10568000</td>\n",
       "    </tr>\n",
       "    <tr>\n",
       "      <th>1</th>\n",
       "      <td>2020-03-17</td>\n",
       "      <td>100.610001</td>\n",
       "      <td>107.400002</td>\n",
       "      <td>97.099998</td>\n",
       "      <td>106.650002</td>\n",
       "      <td>101.043510</td>\n",
       "      <td>9258300</td>\n",
       "    </tr>\n",
       "    <tr>\n",
       "      <th>2</th>\n",
       "      <td>2020-03-18</td>\n",
       "      <td>99.410004</td>\n",
       "      <td>106.930000</td>\n",
       "      <td>99.400002</td>\n",
       "      <td>103.550003</td>\n",
       "      <td>98.106476</td>\n",
       "      <td>8772500</td>\n",
       "    </tr>\n",
       "    <tr>\n",
       "      <th>3</th>\n",
       "      <td>2020-03-19</td>\n",
       "      <td>102.330002</td>\n",
       "      <td>103.690002</td>\n",
       "      <td>98.239998</td>\n",
       "      <td>100.339996</td>\n",
       "      <td>95.065216</td>\n",
       "      <td>8396500</td>\n",
       "    </tr>\n",
       "    <tr>\n",
       "      <th>4</th>\n",
       "      <td>2020-03-20</td>\n",
       "      <td>100.919998</td>\n",
       "      <td>100.989998</td>\n",
       "      <td>94.709999</td>\n",
       "      <td>95.389999</td>\n",
       "      <td>90.375435</td>\n",
       "      <td>10546500</td>\n",
       "    </tr>\n",
       "  </tbody>\n",
       "</table>\n",
       "</div>"
      ],
      "text/plain": [
       "         Date        Open        High        Low       Close   Adj Close  \\\n",
       "0  2020-03-16   98.000000  107.410004  95.000000   99.080002   93.871460   \n",
       "1  2020-03-17  100.610001  107.400002  97.099998  106.650002  101.043510   \n",
       "2  2020-03-18   99.410004  106.930000  99.400002  103.550003   98.106476   \n",
       "3  2020-03-19  102.330002  103.690002  98.239998  100.339996   95.065216   \n",
       "4  2020-03-20  100.919998  100.989998  94.709999   95.389999   90.375435   \n",
       "\n",
       "     Volume  \n",
       "0  10568000  \n",
       "1   9258300  \n",
       "2   8772500  \n",
       "3   8396500  \n",
       "4  10546500  "
      ]
     },
     "execution_count": 148,
     "metadata": {},
     "output_type": "execute_result"
    }
   ],
   "source": [
    "IBM_daily = pd.read_csv(data_path+'/IBM_daily.csv')\n",
    "IBM_daily.head()"
   ]
  },
  {
   "cell_type": "code",
   "execution_count": 149,
   "metadata": {},
   "outputs": [
    {
     "name": "stdout",
     "output_type": "stream",
     "text": [
      "2021-03-12\n",
      "2020-03-16\n"
     ]
    }
   ],
   "source": [
    "print(max(IBM_daily['Date']))\n",
    "print(min(IBM_daily['Date']))"
   ]
  },
  {
   "cell_type": "code",
   "execution_count": 150,
   "metadata": {},
   "outputs": [
    {
     "name": "stdout",
     "output_type": "stream",
     "text": [
      "Aminud illequidity: 2.2899073355159894e-11\n"
     ]
    }
   ],
   "source": [
    "p = np.array(IBM_daily['Adj Close'])\n",
    "dollar_vol = np.array(IBM_daily['Volume']*p)\n",
    "retrn = np.array((p[1:] - p[:-1])/p[1:])\n",
    "illequidity = np.mean(np.divide(abs(retrn),dollar_vol[1:]))\n",
    "print('Aminud illequidity:', illequidity)"
   ]
  },
  {
   "cell_type": "markdown",
   "metadata": {},
   "source": [
    "<div class=\"alert alert-block alert-info\">\n",
    "<b><span style=\"font-family:Comic Sans MS\">Python for very high frequency data</span></b>\n",
    "</div>"
   ]
  },
  {
   "cell_type": "code",
   "execution_count": 169,
   "metadata": {
    "scrolled": true
   },
   "outputs": [],
   "source": [
    "# !pip install yfinance"
   ]
  },
  {
   "cell_type": "code",
   "execution_count": 188,
   "metadata": {},
   "outputs": [
    {
     "name": "stdout",
     "output_type": "stream",
     "text": [
      "[*********************100%***********************]  1 of 1 completed\n"
     ]
    },
    {
     "data": {
      "image/png": "[encoded data removed]",
      "text/plain": [
       "<Figure size 432x288 with 1 Axes>"
      ]
     },
     "metadata": {
      "needs_background": "light"
     },
     "output_type": "display_data"
    }
   ],
   "source": [
    "# Import yfinance and matplotlib\n",
    "import yfinance as yf  \n",
    "import matplotlib.pyplot as plt\n",
    "# Get the data for the SPY ETF by specifying the stock ticker, start date, and end date\n",
    "data = yf.download('SPY','2010-01-01','2021-01-01')\n",
    "# Plot the close prices\n",
    "data[\"Adj Close\"].plot()\n",
    "plt.show()"
   ]
  },
  {
   "cell_type": "code",
   "execution_count": 189,
   "metadata": {},
   "outputs": [
    {
     "name": "stdout",
     "output_type": "stream",
     "text": [
      "[*********************100%***********************]  2 of 2 completed\n"
     ]
    },
    {
     "data": {
      "image/png": "[encoded data removed]",
      "text/plain": [
       "<Figure size 432x288 with 1 Axes>"
      ]
     },
     "metadata": {
      "needs_background": "light"
     },
     "output_type": "display_data"
    }
   ],
   "source": [
    "# Get the data for the SPY (an ETF on the S&P 500 index) and the stock Apple by specifying the stock ticker, start date, and end date\n",
    "data = yf.download(['SPY', 'AAPL'],'2020-01-01','2021-03-06')\n",
    "# Plot the adjusted close prices\n",
    "data[\"Adj Close\"].plot()\n",
    "plt.show()"
   ]
  },
  {
   "cell_type": "code",
   "execution_count": 173,
   "metadata": {},
   "outputs": [
    {
     "name": "stdout",
     "output_type": "stream",
     "text": [
      "[*********************100%***********************]  6 of 6 completed\n",
      "\n",
      "1 Failed download:\n",
      "- AAPL210115C00018750: No data found, symbol may be delisted\n"
     ]
    },
    {
     "data": {
      "text/html": [
       "<div>\n",
       "<style scoped>\n",
       "    .dataframe tbody tr th:only-of-type {\n",
       "        vertical-align: middle;\n",
       "    }\n",
       "\n",
       "    .dataframe tbody tr th {\n",
       "        vertical-align: top;\n",
       "    }\n",
       "\n",
       "    .dataframe thead th {\n",
       "        text-align: right;\n",
       "    }\n",
       "</style>\n",
       "<table border=\"1\" class=\"dataframe\">\n",
       "  <thead>\n",
       "    <tr style=\"text-align: right;\">\n",
       "      <th></th>\n",
       "      <th>AAPL210115C00018750</th>\n",
       "      <th>ARKK</th>\n",
       "      <th>BTC-USD</th>\n",
       "      <th>CL=F</th>\n",
       "      <th>EURUSD=X</th>\n",
       "      <th>^TNX</th>\n",
       "    </tr>\n",
       "    <tr>\n",
       "      <th>Date</th>\n",
       "      <th></th>\n",
       "      <th></th>\n",
       "      <th></th>\n",
       "      <th></th>\n",
       "      <th></th>\n",
       "      <th></th>\n",
       "    </tr>\n",
       "  </thead>\n",
       "  <tbody>\n",
       "    <tr>\n",
       "      <th>2021-03-08</th>\n",
       "      <td>NaN</td>\n",
       "      <td>110.260002</td>\n",
       "      <td>52246.523438</td>\n",
       "      <td>65.050003</td>\n",
       "      <td>1.192563</td>\n",
       "      <td>1.596</td>\n",
       "    </tr>\n",
       "    <tr>\n",
       "      <th>2021-03-09</th>\n",
       "      <td>NaN</td>\n",
       "      <td>121.750000</td>\n",
       "      <td>54824.117188</td>\n",
       "      <td>64.010002</td>\n",
       "      <td>1.185171</td>\n",
       "      <td>1.546</td>\n",
       "    </tr>\n",
       "    <tr>\n",
       "      <th>2021-03-10</th>\n",
       "      <td>NaN</td>\n",
       "      <td>121.190002</td>\n",
       "      <td>56008.550781</td>\n",
       "      <td>64.440002</td>\n",
       "      <td>1.189791</td>\n",
       "      <td>1.520</td>\n",
       "    </tr>\n",
       "    <tr>\n",
       "      <th>2021-03-11</th>\n",
       "      <td>NaN</td>\n",
       "      <td>128.679993</td>\n",
       "      <td>57805.121094</td>\n",
       "      <td>66.019997</td>\n",
       "      <td>1.192606</td>\n",
       "      <td>1.527</td>\n",
       "    </tr>\n",
       "    <tr>\n",
       "      <th>2021-03-12</th>\n",
       "      <td>NaN</td>\n",
       "      <td>126.680000</td>\n",
       "      <td>57332.089844</td>\n",
       "      <td>65.610001</td>\n",
       "      <td>1.198610</td>\n",
       "      <td>1.635</td>\n",
       "    </tr>\n",
       "  </tbody>\n",
       "</table>\n",
       "</div>"
      ],
      "text/plain": [
       "            AAPL210115C00018750        ARKK       BTC-USD       CL=F  \\\n",
       "Date                                                                   \n",
       "2021-03-08                  NaN  110.260002  52246.523438  65.050003   \n",
       "2021-03-09                  NaN  121.750000  54824.117188  64.010002   \n",
       "2021-03-10                  NaN  121.190002  56008.550781  64.440002   \n",
       "2021-03-11                  NaN  128.679993  57805.121094  66.019997   \n",
       "2021-03-12                  NaN  126.680000  57332.089844  65.610001   \n",
       "\n",
       "            EURUSD=X   ^TNX  \n",
       "Date                         \n",
       "2021-03-08  1.192563  1.596  \n",
       "2021-03-09  1.185171  1.546  \n",
       "2021-03-10  1.189791  1.520  \n",
       "2021-03-11  1.192606  1.527  \n",
       "2021-03-12  1.198610  1.635  "
      ]
     },
     "execution_count": 173,
     "metadata": {},
     "output_type": "execute_result"
    }
   ],
   "source": [
    "# Get the data for the stock Apple by specifying the stock ticker, start date, and end date\n",
    "data = yf.download(['BTC-USD', 'EURUSD=X', 'AAPL210115C00018750', 'CL=F', 'ARKK', '^TNX' ],\n",
    "                   '2020-01-01','2021-03-13')\n",
    "data[\"Adj Close\"].tail()"
   ]
  },
  {
   "cell_type": "code",
   "execution_count": 174,
   "metadata": {},
   "outputs": [
    {
     "name": "stdout",
     "output_type": "stream",
     "text": [
      "[*********************100%***********************]  1 of 1 completed\n"
     ]
    },
    {
     "data": {
      "image/png": "[encoded data removed]",
      "text/plain": [
       "<Figure size 432x288 with 1 Axes>"
      ]
     },
     "metadata": {
      "needs_background": "light"
     },
     "output_type": "display_data"
    }
   ],
   "source": [
    "data = yf.download(\n",
    "\t\ttickers=['BTC-USD'], \n",
    "\t\t# use \"period\" instead of start/end\n",
    "\t\t# valid periods: 1d,5d,1mo,3mo,6mo,1y,2y,5y,10y,ytd,max\n",
    "\t\t# (optional, default is '1mo')\n",
    "\t\tperiod=\"5d\",\n",
    "\t\t# fetch data by interval (including intraday if period < 60 days)\n",
    "\t\t# valid intervals: 1m,2m,5m,15m,30m,60m,90m,1h,1d,5d,1wk,1mo,3mo\n",
    "       \t# (optional, default is '1d')\n",
    "\t\tinterval=\"1m\")\n",
    "# Plot the close prices\n",
    "data.Close.plot()\n",
    "plt.show()"
   ]
  },
  {
   "cell_type": "code",
   "execution_count": 180,
   "metadata": {
    "scrolled": true
   },
   "outputs": [
    {
     "data": {
      "image/png": "[encoded data removed]",
      "text/plain": [
       "<Figure size 432x288 with 1 Axes>"
      ]
     },
     "metadata": {
      "needs_background": "light"
     },
     "output_type": "display_data"
    }
   ],
   "source": [
    "# Use of quantdl\n",
    "# Import quandl\n",
    "# !pip install quandl\n",
    "import quandl\n",
    "# Get the data for Coca-cola\n",
    "data = quandl.get(\"WIKI/KO\", start_date=\"2018-01-01\", end_date=\"2021-01-01\", api_key=\"********\")\n",
    "# Plot the prices\n",
    "data.Close.plot()\n",
    "plt.show()"
   ]
  },
  {
   "cell_type": "code",
   "execution_count": 182,
   "metadata": {},
   "outputs": [
    {
     "data": {
      "image/png": "[encoded data removed]",
      "text/plain": [
       "<Figure size 432x288 with 1 Axes>"
      ]
     },
     "metadata": {
      "needs_background": "light"
     },
     "output_type": "display_data"
    }
   ],
   "source": [
    "# Get the data for Gold Futures, Continuous Contract #6.\n",
    "data = quandl.get(\"CHRIS/CME_GC6\", start_date=\"2015-01-01\", \n",
    "                  end_date=\"2020-01-01\", \n",
    "                  api_key='************')\n",
    "# Plot the prices\n",
    "data.Last.plot()\n",
    "plt.show()"
   ]
  },
  {
   "cell_type": "code",
   "execution_count": 185,
   "metadata": {},
   "outputs": [
    {
     "name": "stdout",
     "output_type": "stream",
     "text": [
      "[*********************100%***********************]  6 of 6 completed\n",
      "                  AAPL         AXP          BA         IBM         MU  \\\n",
      "Date                                                                    \n",
      "2020-12-31  132.492020  120.487518  214.059998  124.220062  75.180000   \n",
      "2021-01-04  129.216919  117.627548  202.720001  122.305649  74.050003   \n",
      "2021-01-05  130.814514  118.255341  211.630005  124.476639  77.260002   \n",
      "2021-01-06  126.411102  122.629997  211.029999  127.585091  77.110001   \n",
      "2021-01-07  130.724655  121.660004  212.710007  127.289062  79.110001   \n",
      "\n",
      "                   WMT  \n",
      "Date                    \n",
      "2020-12-31  144.149994  \n",
      "2021-01-04  146.529999  \n",
      "2021-01-05  145.750000  \n",
      "2021-01-06  146.660004  \n",
      "2021-01-07  146.649994  \n"
     ]
    }
   ],
   "source": [
    "# Some more examples\n",
    "# how to get high-frequency finance data\n",
    "# Define the ticker list\n",
    "import pandas as pd\n",
    "tickers_list = ['AAPL', 'WMT', 'IBM', 'MU', 'BA', 'AXP']\n",
    "\n",
    "# Fetch the data\n",
    "import yfinance as yf\n",
    "data = yf.download(tickers_list,'2021-1-1')['Adj Close']\n",
    "\n",
    "# Print first 5 rows of the data\n",
    "print(data.head())"
   ]
  },
  {
   "cell_type": "code",
   "execution_count": 186,
   "metadata": {
    "scrolled": false
   },
   "outputs": [
    {
     "data": {
      "image/png": "[encoded data removed]",
      "text/plain": [
       "<Figure size 720x504 with 1 Axes>"
      ]
     },
     "metadata": {
      "needs_background": "light"
     },
     "output_type": "display_data"
    }
   ],
   "source": [
    "# Plot all the close prices\n",
    "((data.pct_change()+1).cumprod()).plot(figsize=(10, 7))\n",
    "\n",
    "# Show the legend\n",
    "plt.legend()\n",
    "\n",
    "# Define the label for the title of the figure\n",
    "plt.title(\"Returns\", fontsize=16)\n",
    "\n",
    "# Define the labels for x-axis and y-axis\n",
    "plt.ylabel('Cumulative Returns', fontsize=14)\n",
    "plt.xlabel('Year', fontsize=14)\n",
    "\n",
    "# Plot the grid lines\n",
    "plt.grid(which=\"major\", color='k', linestyle='-.', linewidth=0.5)\n",
    "plt.show()"
   ]
  },
  {
   "cell_type": "code",
   "execution_count": 187,
   "metadata": {},
   "outputs": [
    {
     "name": "stdout",
     "output_type": "stream",
     "text": [
      "[*********************100%***********************]  1 of 1 completed\n",
      "                                 Open        High         Low       Close  \\\n",
      "Datetime                                                                    \n",
      "2021-03-15 13:48:00-04:00  233.129898  233.130005  233.050003  233.089996   \n",
      "2021-03-15 13:49:00-04:00  233.099304  233.130005  233.050003  233.080002   \n",
      "2021-03-15 13:50:00-04:00  233.080002  233.089996  232.945007  233.052094   \n",
      "2021-03-15 13:51:00-04:00  233.059998  233.089996  233.020004  233.059998   \n",
      "2021-03-15 13:52:44-04:00  233.050003  233.050003  233.050003  233.050003   \n",
      "\n",
      "                            Adj Close  Volume  \n",
      "Datetime                                       \n",
      "2021-03-15 13:48:00-04:00  233.089996   23564  \n",
      "2021-03-15 13:49:00-04:00  233.080002   30758  \n",
      "2021-03-15 13:50:00-04:00  233.052094   40898  \n",
      "2021-03-15 13:51:00-04:00  233.059998   29754  \n",
      "2021-03-15 13:52:44-04:00  233.050003       0  \n"
     ]
    }
   ],
   "source": [
    "# Minute level data\n",
    "# Import package\n",
    "import yfinance as yf\n",
    "\n",
    "# Get the data\n",
    "data = yf.download(tickers=\"MSFT\", period=\"5d\", interval=\"1m\")\n",
    "\n",
    "# Print the data\n",
    "print(data.tail())"
   ]
  },
  {
   "cell_type": "code",
   "execution_count": 190,
   "metadata": {},
   "outputs": [
    {
     "data": {
      "text/plain": [
       "(297, 12)"
      ]
     },
     "execution_count": 190,
     "metadata": {},
     "output_type": "execute_result"
    }
   ],
   "source": [
    "data.shape"
   ]
  },
  {
   "cell_type": "markdown",
   "metadata": {},
   "source": [
    "<div class=\"alert alert-block alert-info\">\n",
    "<b><span style=\"font-family:Comic Sans MS\">Introduction to CRSP</span></b>\n",
    "</div>"
   ]
  },
  {
   "cell_type": "markdown",
   "metadata": {},
   "source": [
    "__Congratulations!__"
   ]
  },
  {
   "cell_type": "code",
   "execution_count": null,
   "metadata": {},
   "outputs": [],
   "source": []
  }
 ],
 "metadata": {
  "kernelspec": {
   "display_name": "Python 3",
   "language": "python",
   "name": "python3"
  },
  "language_info": {
   "codemirror_mode": {
    "name": "ipython",
    "version": 3
   },
   "file_extension": ".py",
   "mimetype": "text/x-python",
   "name": "python",
   "nbconvert_exporter": "python",
   "pygments_lexer": "ipython3",
   "version": "3.8.3"
  }
 },
 "nbformat": 4,
 "nbformat_minor": 4
}
