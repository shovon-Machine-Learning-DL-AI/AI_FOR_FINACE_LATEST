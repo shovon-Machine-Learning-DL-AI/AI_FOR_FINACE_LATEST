{
 "cells": [
  {
   "cell_type": "markdown",
   "metadata": {},
   "source": [
    "<div class=\"alert alert-block alert-info\">\n",
    "<b><span style=\"font-family:Comic Sans MS\">Implied Volatility Model</span></b>\n",
    "</div>"
   ]
  },
  {
   "cell_type": "markdown",
   "metadata": {},
   "source": [
    "<div class=\"alert alert-block alert-success\">\n",
    "<b>Parameters of mibian's BS call:BS([UnderlyingPrice, StrikePrice, InterestRate, Daystoexpiration],callPrice=x)</b> \n",
    "    \n",
    "- UnderlyingPrice\n",
    "    \n",
    "- StrikePrice\n",
    "    \n",
    "- InterestRate \n",
    "    \n",
    "- Daystoexpiration\n",
    "    \n",
    "- callPrice\n",
    "</div>"
   ]
  },
  {
   "cell_type": "code",
   "execution_count": 2,
   "metadata": {},
   "outputs": [],
   "source": [
    "# To calculate IV\n",
    "# !pip install mibian"
   ]
  },
  {
   "cell_type": "code",
   "execution_count": 3,
   "metadata": {},
   "outputs": [],
   "source": [
    "import pandas as pd\n",
    "import matplotlib.pyplot as plt\n",
    "import datetime\n",
    "import mibian\n",
    "import seaborn as sns\n",
    "#Diable the warnings\n",
    "import warnings\n",
    "warnings.filterwarnings('ignore')"
   ]
  },
  {
   "cell_type": "code",
   "execution_count": 5,
   "metadata": {},
   "outputs": [],
   "source": [
    "spot_price = 3572.0\n",
    "call_strike = 3980.0\n",
    "put_strike = 3577.0\n",
    "call_price = 416.05\n",
    "put_price = 454.05\n",
    "interest_rate = 0.0\n",
    "days_to_expiry = 31"
   ]
  },
  {
   "cell_type": "markdown",
   "metadata": {},
   "source": [
    "__implied volatility for Call Option and Put Option__"
   ]
  },
  {
   "cell_type": "code",
   "execution_count": 6,
   "metadata": {},
   "outputs": [
    {
     "name": "stdout",
     "output_type": "stream",
     "text": [
      "137.26425170898438\n"
     ]
    }
   ],
   "source": [
    "import mibian\n",
    "call_option = mibian.BS([3572, 3980, 0, 31], callPrice= 416.05)\n",
    "print(call_option.impliedVolatility)"
   ]
  },
  {
   "cell_type": "code",
   "execution_count": 8,
   "metadata": {},
   "outputs": [
    {
     "name": "stdout",
     "output_type": "stream",
     "text": [
      "110.32867431640625\n"
     ]
    }
   ],
   "source": [
    "import mibian\n",
    "put_option = mibian.BS([3572, 3577, 0, 31], callPrice= 454.05)\n",
    "print(put_option.impliedVolatility)"
   ]
  },
  {
   "cell_type": "markdown",
   "metadata": {},
   "source": [
    "__Calculate greeks for Call / Put Option__"
   ]
  },
  {
   "cell_type": "code",
   "execution_count": 9,
   "metadata": {},
   "outputs": [
    {
     "name": "stdout",
     "output_type": "stream",
     "text": [
      "99.25676495241248\n",
      "0.28782645931195316\n",
      "-3.301627061825104\n",
      "3.5507524342264776\n",
      "0.0005683676512522722\n"
     ]
    }
   ],
   "source": [
    "call_option = mibian.BS([3572, 3980, 0, 31], volatility = 57.65)\n",
    "print(call_option.callPrice)\n",
    "print(call_option.callDelta)\n",
    "print(call_option.callTheta)\n",
    "print(call_option.vega)\n",
    "print(call_option.gamma)"
   ]
  },
  {
   "cell_type": "code",
   "execution_count": 10,
   "metadata": {},
   "outputs": [
    {
     "name": "stdout",
     "output_type": "stream",
     "text": [
      "245.6722158476116\n",
      "0.5315215961746926\n",
      "-3.992402385932301\n",
      "4.139972368754016\n",
      "0.0006389651316003899\n"
     ]
    }
   ],
   "source": [
    "import mibian\n",
    "put_option = mibian.BS([3572, 3577, 0, 31], volatility = 59.79)\n",
    "print(put_option.callPrice)\n",
    "print(put_option.callDelta)\n",
    "print(put_option.callTheta)\n",
    "print(put_option.vega)\n",
    "print(put_option.gamma)"
   ]
  },
  {
   "cell_type": "markdown",
   "metadata": {},
   "source": [
    "__Calculate the Put/Call Parity__"
   ]
  },
  {
   "cell_type": "code",
   "execution_count": 11,
   "metadata": {},
   "outputs": [
    {
     "name": "stdout",
     "output_type": "stream",
     "text": [
      "370.0\n"
     ]
    }
   ],
   "source": [
    "call_put = mibian.BS([3572, 3980, 0, 31], callPrice=416.05, putPrice=454.05)\n",
    "print(call_put.putCallParity)"
   ]
  },
  {
   "cell_type": "code",
   "execution_count": null,
   "metadata": {},
   "outputs": [],
   "source": []
  }
 ],
 "metadata": {
  "kernelspec": {
   "display_name": "Python 3",
   "language": "python",
   "name": "python3"
  },
  "language_info": {
   "codemirror_mode": {
    "name": "ipython",
    "version": 3
   },
   "file_extension": ".py",
   "mimetype": "text/x-python",
   "name": "python",
   "nbconvert_exporter": "python",
   "pygments_lexer": "ipython3",
   "version": "3.8.3"
  }
 },
 "nbformat": 4,
 "nbformat_minor": 4
}
