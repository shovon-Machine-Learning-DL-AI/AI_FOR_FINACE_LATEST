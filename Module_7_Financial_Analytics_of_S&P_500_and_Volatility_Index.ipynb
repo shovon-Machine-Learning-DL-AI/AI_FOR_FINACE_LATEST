{
 "cells": [
  {
   "cell_type": "markdown",
   "metadata": {},
   "source": [
    "<div class=\"alert alert-block alert-success\">\n",
    "<b>S&P_500 and VIX:</b> In this section, we will basically study the relationship between S&P - 500 with Volatility Index\n",
    "</div>"
   ]
  },
  {
   "cell_type": "markdown",
   "metadata": {},
   "source": [
    "<div class=\"alert alert-block alert-info\">\n",
    "<b><span style=\"font-family:Comic Sans MS\">Download the datasets</span></b>\n",
    "</div>"
   ]
  },
  {
   "cell_type": "code",
   "execution_count": 125,
   "metadata": {},
   "outputs": [
    {
     "name": "stdout",
     "output_type": "stream",
     "text": [
      "/Users/shovonsengupta/Desktop/All/EC-Council Course/AI for Finance - Videos/Section 7 Financial Analytics with Volatility Index/Codes\r\n"
     ]
    }
   ],
   "source": [
    "!pwd"
   ]
  },
  {
   "cell_type": "code",
   "execution_count": 126,
   "metadata": {},
   "outputs": [],
   "source": [
    "import pandas as pd\n",
    "import numpy as np\n",
    "df_spx = pd.read_csv(\"/Users/shovonsengupta/Desktop/All/EC-Council Course/AI for Finance - Videos/Section 7 Financial Analytics with Volatility Index/data/GSPC_daily_adjusted.csv\")\n",
    "df_vix = pd.read_csv(\"/Users/shovonsengupta/Desktop/All/EC-Council Course/AI for Finance - Videos/Section 7 Financial Analytics with Volatility Index/data/VIX_daily_adjusted_data.csv\")"
   ]
  },
  {
   "cell_type": "code",
   "execution_count": 127,
   "metadata": {},
   "outputs": [
    {
     "data": {
      "text/html": [
       "<div>\n",
       "<style scoped>\n",
       "    .dataframe tbody tr th:only-of-type {\n",
       "        vertical-align: middle;\n",
       "    }\n",
       "\n",
       "    .dataframe tbody tr th {\n",
       "        vertical-align: top;\n",
       "    }\n",
       "\n",
       "    .dataframe thead th {\n",
       "        text-align: right;\n",
       "    }\n",
       "</style>\n",
       "<table border=\"1\" class=\"dataframe\">\n",
       "  <thead>\n",
       "    <tr style=\"text-align: right;\">\n",
       "      <th></th>\n",
       "      <th>Date</th>\n",
       "      <th>Open</th>\n",
       "      <th>High</th>\n",
       "      <th>Low</th>\n",
       "      <th>Close</th>\n",
       "      <th>Adj Close</th>\n",
       "      <th>Volume</th>\n",
       "    </tr>\n",
       "  </thead>\n",
       "  <tbody>\n",
       "    <tr>\n",
       "      <th>0</th>\n",
       "      <td>2000-01-14</td>\n",
       "      <td>1449.680054</td>\n",
       "      <td>1473.000000</td>\n",
       "      <td>1449.680054</td>\n",
       "      <td>1465.150024</td>\n",
       "      <td>1465.150024</td>\n",
       "      <td>1085900000</td>\n",
       "    </tr>\n",
       "    <tr>\n",
       "      <th>1</th>\n",
       "      <td>2000-01-18</td>\n",
       "      <td>1465.150024</td>\n",
       "      <td>1465.150024</td>\n",
       "      <td>1451.300049</td>\n",
       "      <td>1455.140015</td>\n",
       "      <td>1455.140015</td>\n",
       "      <td>1056700000</td>\n",
       "    </tr>\n",
       "    <tr>\n",
       "      <th>2</th>\n",
       "      <td>2000-01-19</td>\n",
       "      <td>1455.140015</td>\n",
       "      <td>1461.390015</td>\n",
       "      <td>1448.680054</td>\n",
       "      <td>1455.900024</td>\n",
       "      <td>1455.900024</td>\n",
       "      <td>1087800000</td>\n",
       "    </tr>\n",
       "    <tr>\n",
       "      <th>3</th>\n",
       "      <td>2000-01-20</td>\n",
       "      <td>1455.900024</td>\n",
       "      <td>1465.709961</td>\n",
       "      <td>1438.540039</td>\n",
       "      <td>1445.569946</td>\n",
       "      <td>1445.569946</td>\n",
       "      <td>1100700000</td>\n",
       "    </tr>\n",
       "    <tr>\n",
       "      <th>4</th>\n",
       "      <td>2000-01-21</td>\n",
       "      <td>1445.569946</td>\n",
       "      <td>1453.180054</td>\n",
       "      <td>1439.599976</td>\n",
       "      <td>1441.359985</td>\n",
       "      <td>1441.359985</td>\n",
       "      <td>1209800000</td>\n",
       "    </tr>\n",
       "  </tbody>\n",
       "</table>\n",
       "</div>"
      ],
      "text/plain": [
       "         Date         Open         High          Low        Close  \\\n",
       "0  2000-01-14  1449.680054  1473.000000  1449.680054  1465.150024   \n",
       "1  2000-01-18  1465.150024  1465.150024  1451.300049  1455.140015   \n",
       "2  2000-01-19  1455.140015  1461.390015  1448.680054  1455.900024   \n",
       "3  2000-01-20  1455.900024  1465.709961  1438.540039  1445.569946   \n",
       "4  2000-01-21  1445.569946  1453.180054  1439.599976  1441.359985   \n",
       "\n",
       "     Adj Close      Volume  \n",
       "0  1465.150024  1085900000  \n",
       "1  1455.140015  1056700000  \n",
       "2  1455.900024  1087800000  \n",
       "3  1445.569946  1100700000  \n",
       "4  1441.359985  1209800000  "
      ]
     },
     "execution_count": 127,
     "metadata": {},
     "output_type": "execute_result"
    }
   ],
   "source": [
    "df_spx.head()"
   ]
  },
  {
   "cell_type": "code",
   "execution_count": 128,
   "metadata": {},
   "outputs": [
    {
     "data": {
      "text/html": [
       "<div>\n",
       "<style scoped>\n",
       "    .dataframe tbody tr th:only-of-type {\n",
       "        vertical-align: middle;\n",
       "    }\n",
       "\n",
       "    .dataframe tbody tr th {\n",
       "        vertical-align: top;\n",
       "    }\n",
       "\n",
       "    .dataframe thead th {\n",
       "        text-align: right;\n",
       "    }\n",
       "</style>\n",
       "<table border=\"1\" class=\"dataframe\">\n",
       "  <thead>\n",
       "    <tr style=\"text-align: right;\">\n",
       "      <th></th>\n",
       "      <th>Date</th>\n",
       "      <th>Open</th>\n",
       "      <th>High</th>\n",
       "      <th>Low</th>\n",
       "      <th>Close</th>\n",
       "      <th>Adj Close</th>\n",
       "      <th>Volume</th>\n",
       "    </tr>\n",
       "  </thead>\n",
       "  <tbody>\n",
       "    <tr>\n",
       "      <th>5278</th>\n",
       "      <td>2021-01-07</td>\n",
       "      <td>3764.709961</td>\n",
       "      <td>3811.550049</td>\n",
       "      <td>3764.709961</td>\n",
       "      <td>3803.790039</td>\n",
       "      <td>3803.790039</td>\n",
       "      <td>5080870000</td>\n",
       "    </tr>\n",
       "    <tr>\n",
       "      <th>5279</th>\n",
       "      <td>2021-01-08</td>\n",
       "      <td>3815.050049</td>\n",
       "      <td>3826.689941</td>\n",
       "      <td>3783.600098</td>\n",
       "      <td>3824.679932</td>\n",
       "      <td>3824.679932</td>\n",
       "      <td>4764180000</td>\n",
       "    </tr>\n",
       "    <tr>\n",
       "      <th>5280</th>\n",
       "      <td>2021-01-11</td>\n",
       "      <td>3803.139893</td>\n",
       "      <td>3817.860107</td>\n",
       "      <td>3789.020020</td>\n",
       "      <td>3799.610107</td>\n",
       "      <td>3799.610107</td>\n",
       "      <td>4450500000</td>\n",
       "    </tr>\n",
       "    <tr>\n",
       "      <th>5281</th>\n",
       "      <td>2021-01-12</td>\n",
       "      <td>3801.620117</td>\n",
       "      <td>3810.780029</td>\n",
       "      <td>3776.510010</td>\n",
       "      <td>3801.189941</td>\n",
       "      <td>3801.189941</td>\n",
       "      <td>4977210000</td>\n",
       "    </tr>\n",
       "    <tr>\n",
       "      <th>5282</th>\n",
       "      <td>2021-01-13</td>\n",
       "      <td>3802.229980</td>\n",
       "      <td>3820.959961</td>\n",
       "      <td>3791.500000</td>\n",
       "      <td>3809.840088</td>\n",
       "      <td>3809.840088</td>\n",
       "      <td>4590420000</td>\n",
       "    </tr>\n",
       "  </tbody>\n",
       "</table>\n",
       "</div>"
      ],
      "text/plain": [
       "            Date         Open         High          Low        Close  \\\n",
       "5278  2021-01-07  3764.709961  3811.550049  3764.709961  3803.790039   \n",
       "5279  2021-01-08  3815.050049  3826.689941  3783.600098  3824.679932   \n",
       "5280  2021-01-11  3803.139893  3817.860107  3789.020020  3799.610107   \n",
       "5281  2021-01-12  3801.620117  3810.780029  3776.510010  3801.189941   \n",
       "5282  2021-01-13  3802.229980  3820.959961  3791.500000  3809.840088   \n",
       "\n",
       "        Adj Close      Volume  \n",
       "5278  3803.790039  5080870000  \n",
       "5279  3824.679932  4764180000  \n",
       "5280  3799.610107  4450500000  \n",
       "5281  3801.189941  4977210000  \n",
       "5282  3809.840088  4590420000  "
      ]
     },
     "execution_count": 128,
     "metadata": {},
     "output_type": "execute_result"
    }
   ],
   "source": [
    "df_spx.tail()"
   ]
  },
  {
   "cell_type": "code",
   "execution_count": 7,
   "metadata": {},
   "outputs": [
    {
     "data": {
      "text/html": [
       "<div>\n",
       "<style scoped>\n",
       "    .dataframe tbody tr th:only-of-type {\n",
       "        vertical-align: middle;\n",
       "    }\n",
       "\n",
       "    .dataframe tbody tr th {\n",
       "        vertical-align: top;\n",
       "    }\n",
       "\n",
       "    .dataframe thead th {\n",
       "        text-align: right;\n",
       "    }\n",
       "</style>\n",
       "<table border=\"1\" class=\"dataframe\">\n",
       "  <thead>\n",
       "    <tr style=\"text-align: right;\">\n",
       "      <th></th>\n",
       "      <th>Date</th>\n",
       "      <th>Open</th>\n",
       "      <th>High</th>\n",
       "      <th>Low</th>\n",
       "      <th>Close</th>\n",
       "      <th>Adj Close</th>\n",
       "      <th>Volume</th>\n",
       "    </tr>\n",
       "  </thead>\n",
       "  <tbody>\n",
       "    <tr>\n",
       "      <th>0</th>\n",
       "      <td>2000-01-14</td>\n",
       "      <td>19.830000</td>\n",
       "      <td>20.150000</td>\n",
       "      <td>19.510000</td>\n",
       "      <td>19.660000</td>\n",
       "      <td>19.660000</td>\n",
       "      <td>0</td>\n",
       "    </tr>\n",
       "    <tr>\n",
       "      <th>1</th>\n",
       "      <td>2000-01-18</td>\n",
       "      <td>21.389999</td>\n",
       "      <td>21.629999</td>\n",
       "      <td>20.969999</td>\n",
       "      <td>21.500000</td>\n",
       "      <td>21.500000</td>\n",
       "      <td>0</td>\n",
       "    </tr>\n",
       "    <tr>\n",
       "      <th>2</th>\n",
       "      <td>2000-01-19</td>\n",
       "      <td>22.150000</td>\n",
       "      <td>22.160000</td>\n",
       "      <td>21.440001</td>\n",
       "      <td>21.719999</td>\n",
       "      <td>21.719999</td>\n",
       "      <td>0</td>\n",
       "    </tr>\n",
       "    <tr>\n",
       "      <th>3</th>\n",
       "      <td>2000-01-20</td>\n",
       "      <td>21.309999</td>\n",
       "      <td>22.600000</td>\n",
       "      <td>21.180000</td>\n",
       "      <td>21.750000</td>\n",
       "      <td>21.750000</td>\n",
       "      <td>0</td>\n",
       "    </tr>\n",
       "    <tr>\n",
       "      <th>4</th>\n",
       "      <td>2000-01-21</td>\n",
       "      <td>21.549999</td>\n",
       "      <td>21.910000</td>\n",
       "      <td>20.500000</td>\n",
       "      <td>20.820000</td>\n",
       "      <td>20.820000</td>\n",
       "      <td>0</td>\n",
       "    </tr>\n",
       "  </tbody>\n",
       "</table>\n",
       "</div>"
      ],
      "text/plain": [
       "         Date       Open       High        Low      Close  Adj Close  Volume\n",
       "0  2000-01-14  19.830000  20.150000  19.510000  19.660000  19.660000       0\n",
       "1  2000-01-18  21.389999  21.629999  20.969999  21.500000  21.500000       0\n",
       "2  2000-01-19  22.150000  22.160000  21.440001  21.719999  21.719999       0\n",
       "3  2000-01-20  21.309999  22.600000  21.180000  21.750000  21.750000       0\n",
       "4  2000-01-21  21.549999  21.910000  20.500000  20.820000  20.820000       0"
      ]
     },
     "execution_count": 7,
     "metadata": {},
     "output_type": "execute_result"
    }
   ],
   "source": [
    "df_vix.head()"
   ]
  },
  {
   "cell_type": "markdown",
   "metadata": {},
   "source": [
    "<div class=\"alert alert-block alert-info\">\n",
    "<b><span style=\"font-family:Comic Sans MS\">Basic Exploration</span></b>\n",
    "</div>"
   ]
  },
  {
   "cell_type": "code",
   "execution_count": 8,
   "metadata": {},
   "outputs": [
    {
     "name": "stdout",
     "output_type": "stream",
     "text": [
      "<class 'pandas.core.frame.DataFrame'>\n",
      "RangeIndex: 5283 entries, 0 to 5282\n",
      "Data columns (total 7 columns):\n",
      " #   Column     Non-Null Count  Dtype  \n",
      "---  ------     --------------  -----  \n",
      " 0   Date       5283 non-null   object \n",
      " 1   Open       5283 non-null   float64\n",
      " 2   High       5283 non-null   float64\n",
      " 3   Low        5283 non-null   float64\n",
      " 4   Close      5283 non-null   float64\n",
      " 5   Adj Close  5283 non-null   float64\n",
      " 6   Volume     5283 non-null   int64  \n",
      "dtypes: float64(5), int64(1), object(1)\n",
      "memory usage: 289.0+ KB\n"
     ]
    }
   ],
   "source": [
    "df_spx.info()"
   ]
  },
  {
   "cell_type": "code",
   "execution_count": 9,
   "metadata": {},
   "outputs": [
    {
     "name": "stdout",
     "output_type": "stream",
     "text": [
      "<class 'pandas.core.frame.DataFrame'>\n",
      "RangeIndex: 5283 entries, 0 to 5282\n",
      "Data columns (total 7 columns):\n",
      " #   Column     Non-Null Count  Dtype  \n",
      "---  ------     --------------  -----  \n",
      " 0   Date       5283 non-null   object \n",
      " 1   Open       5283 non-null   float64\n",
      " 2   High       5283 non-null   float64\n",
      " 3   Low        5283 non-null   float64\n",
      " 4   Close      5283 non-null   float64\n",
      " 5   Adj Close  5283 non-null   float64\n",
      " 6   Volume     5283 non-null   int64  \n",
      "dtypes: float64(5), int64(1), object(1)\n",
      "memory usage: 289.0+ KB\n"
     ]
    }
   ],
   "source": [
    "df_vix.info()"
   ]
  },
  {
   "cell_type": "code",
   "execution_count": 13,
   "metadata": {},
   "outputs": [],
   "source": [
    "import pandas as pd\n",
    "\n",
    "df_all = pd.DataFrame(columns=['date','SPX', 'VIX'])\n",
    "\n",
    "df_all['date'] = df_spx['Date']\n",
    "df_all['SPX'] = df_spx['Adj Close']\n",
    "df_all['VIX'] = df_vix['Adj Close']"
   ]
  },
  {
   "cell_type": "code",
   "execution_count": 14,
   "metadata": {},
   "outputs": [
    {
     "data": {
      "text/html": [
       "<div>\n",
       "<style scoped>\n",
       "    .dataframe tbody tr th:only-of-type {\n",
       "        vertical-align: middle;\n",
       "    }\n",
       "\n",
       "    .dataframe tbody tr th {\n",
       "        vertical-align: top;\n",
       "    }\n",
       "\n",
       "    .dataframe thead th {\n",
       "        text-align: right;\n",
       "    }\n",
       "</style>\n",
       "<table border=\"1\" class=\"dataframe\">\n",
       "  <thead>\n",
       "    <tr style=\"text-align: right;\">\n",
       "      <th></th>\n",
       "      <th>date</th>\n",
       "      <th>SPX</th>\n",
       "      <th>VIX</th>\n",
       "    </tr>\n",
       "  </thead>\n",
       "  <tbody>\n",
       "    <tr>\n",
       "      <th>0</th>\n",
       "      <td>2000-01-14</td>\n",
       "      <td>1465.150024</td>\n",
       "      <td>19.660000</td>\n",
       "    </tr>\n",
       "    <tr>\n",
       "      <th>1</th>\n",
       "      <td>2000-01-18</td>\n",
       "      <td>1455.140015</td>\n",
       "      <td>21.500000</td>\n",
       "    </tr>\n",
       "    <tr>\n",
       "      <th>2</th>\n",
       "      <td>2000-01-19</td>\n",
       "      <td>1455.900024</td>\n",
       "      <td>21.719999</td>\n",
       "    </tr>\n",
       "    <tr>\n",
       "      <th>3</th>\n",
       "      <td>2000-01-20</td>\n",
       "      <td>1445.569946</td>\n",
       "      <td>21.750000</td>\n",
       "    </tr>\n",
       "    <tr>\n",
       "      <th>4</th>\n",
       "      <td>2000-01-21</td>\n",
       "      <td>1441.359985</td>\n",
       "      <td>20.820000</td>\n",
       "    </tr>\n",
       "  </tbody>\n",
       "</table>\n",
       "</div>"
      ],
      "text/plain": [
       "         date          SPX        VIX\n",
       "0  2000-01-14  1465.150024  19.660000\n",
       "1  2000-01-18  1455.140015  21.500000\n",
       "2  2000-01-19  1455.900024  21.719999\n",
       "3  2000-01-20  1445.569946  21.750000\n",
       "4  2000-01-21  1441.359985  20.820000"
      ]
     },
     "execution_count": 14,
     "metadata": {},
     "output_type": "execute_result"
    }
   ],
   "source": [
    "df_all.head()"
   ]
  },
  {
   "cell_type": "code",
   "execution_count": 15,
   "metadata": {},
   "outputs": [
    {
     "data": {
      "text/plain": [
       "(5283, 3)"
      ]
     },
     "execution_count": 15,
     "metadata": {},
     "output_type": "execute_result"
    }
   ],
   "source": [
    "df_all.shape"
   ]
  },
  {
   "cell_type": "code",
   "execution_count": 16,
   "metadata": {},
   "outputs": [
    {
     "name": "stdout",
     "output_type": "stream",
     "text": [
      "<class 'pandas.core.frame.DataFrame'>\n",
      "RangeIndex: 5283 entries, 0 to 5282\n",
      "Data columns (total 3 columns):\n",
      " #   Column  Non-Null Count  Dtype  \n",
      "---  ------  --------------  -----  \n",
      " 0   date    5283 non-null   object \n",
      " 1   SPX     5283 non-null   float64\n",
      " 2   VIX     5283 non-null   float64\n",
      "dtypes: float64(2), object(1)\n",
      "memory usage: 123.9+ KB\n"
     ]
    }
   ],
   "source": [
    "df_all.info()"
   ]
  },
  {
   "cell_type": "code",
   "execution_count": 17,
   "metadata": {},
   "outputs": [],
   "source": [
    "# Convert Date to Index\n",
    "df_all.index = pd.to_datetime(df_all.date, errors='coerce')"
   ]
  },
  {
   "cell_type": "code",
   "execution_count": 18,
   "metadata": {},
   "outputs": [
    {
     "data": {
      "text/html": [
       "<div>\n",
       "<style scoped>\n",
       "    .dataframe tbody tr th:only-of-type {\n",
       "        vertical-align: middle;\n",
       "    }\n",
       "\n",
       "    .dataframe tbody tr th {\n",
       "        vertical-align: top;\n",
       "    }\n",
       "\n",
       "    .dataframe thead th {\n",
       "        text-align: right;\n",
       "    }\n",
       "</style>\n",
       "<table border=\"1\" class=\"dataframe\">\n",
       "  <thead>\n",
       "    <tr style=\"text-align: right;\">\n",
       "      <th></th>\n",
       "      <th>date</th>\n",
       "      <th>SPX</th>\n",
       "      <th>VIX</th>\n",
       "    </tr>\n",
       "    <tr>\n",
       "      <th>date</th>\n",
       "      <th></th>\n",
       "      <th></th>\n",
       "      <th></th>\n",
       "    </tr>\n",
       "  </thead>\n",
       "  <tbody>\n",
       "    <tr>\n",
       "      <th>2000-01-14</th>\n",
       "      <td>2000-01-14</td>\n",
       "      <td>1465.150024</td>\n",
       "      <td>19.660000</td>\n",
       "    </tr>\n",
       "    <tr>\n",
       "      <th>2000-01-18</th>\n",
       "      <td>2000-01-18</td>\n",
       "      <td>1455.140015</td>\n",
       "      <td>21.500000</td>\n",
       "    </tr>\n",
       "    <tr>\n",
       "      <th>2000-01-19</th>\n",
       "      <td>2000-01-19</td>\n",
       "      <td>1455.900024</td>\n",
       "      <td>21.719999</td>\n",
       "    </tr>\n",
       "    <tr>\n",
       "      <th>2000-01-20</th>\n",
       "      <td>2000-01-20</td>\n",
       "      <td>1445.569946</td>\n",
       "      <td>21.750000</td>\n",
       "    </tr>\n",
       "    <tr>\n",
       "      <th>2000-01-21</th>\n",
       "      <td>2000-01-21</td>\n",
       "      <td>1441.359985</td>\n",
       "      <td>20.820000</td>\n",
       "    </tr>\n",
       "  </tbody>\n",
       "</table>\n",
       "</div>"
      ],
      "text/plain": [
       "                  date          SPX        VIX\n",
       "date                                          \n",
       "2000-01-14  2000-01-14  1465.150024  19.660000\n",
       "2000-01-18  2000-01-18  1455.140015  21.500000\n",
       "2000-01-19  2000-01-19  1455.900024  21.719999\n",
       "2000-01-20  2000-01-20  1445.569946  21.750000\n",
       "2000-01-21  2000-01-21  1441.359985  20.820000"
      ]
     },
     "execution_count": 18,
     "metadata": {},
     "output_type": "execute_result"
    }
   ],
   "source": [
    "df_all.head()"
   ]
  },
  {
   "cell_type": "code",
   "execution_count": 20,
   "metadata": {
    "scrolled": true
   },
   "outputs": [],
   "source": [
    "df_all = df_all.drop(['date'],axis=1)"
   ]
  },
  {
   "cell_type": "code",
   "execution_count": 21,
   "metadata": {},
   "outputs": [
    {
     "data": {
      "text/html": [
       "<div>\n",
       "<style scoped>\n",
       "    .dataframe tbody tr th:only-of-type {\n",
       "        vertical-align: middle;\n",
       "    }\n",
       "\n",
       "    .dataframe tbody tr th {\n",
       "        vertical-align: top;\n",
       "    }\n",
       "\n",
       "    .dataframe thead th {\n",
       "        text-align: right;\n",
       "    }\n",
       "</style>\n",
       "<table border=\"1\" class=\"dataframe\">\n",
       "  <thead>\n",
       "    <tr style=\"text-align: right;\">\n",
       "      <th></th>\n",
       "      <th>SPX</th>\n",
       "      <th>VIX</th>\n",
       "    </tr>\n",
       "    <tr>\n",
       "      <th>date</th>\n",
       "      <th></th>\n",
       "      <th></th>\n",
       "    </tr>\n",
       "  </thead>\n",
       "  <tbody>\n",
       "    <tr>\n",
       "      <th>2000-01-14</th>\n",
       "      <td>1465.150024</td>\n",
       "      <td>19.660000</td>\n",
       "    </tr>\n",
       "    <tr>\n",
       "      <th>2000-01-18</th>\n",
       "      <td>1455.140015</td>\n",
       "      <td>21.500000</td>\n",
       "    </tr>\n",
       "    <tr>\n",
       "      <th>2000-01-19</th>\n",
       "      <td>1455.900024</td>\n",
       "      <td>21.719999</td>\n",
       "    </tr>\n",
       "    <tr>\n",
       "      <th>2000-01-20</th>\n",
       "      <td>1445.569946</td>\n",
       "      <td>21.750000</td>\n",
       "    </tr>\n",
       "    <tr>\n",
       "      <th>2000-01-21</th>\n",
       "      <td>1441.359985</td>\n",
       "      <td>20.820000</td>\n",
       "    </tr>\n",
       "  </tbody>\n",
       "</table>\n",
       "</div>"
      ],
      "text/plain": [
       "                    SPX        VIX\n",
       "date                              \n",
       "2000-01-14  1465.150024  19.660000\n",
       "2000-01-18  1455.140015  21.500000\n",
       "2000-01-19  1455.900024  21.719999\n",
       "2000-01-20  1445.569946  21.750000\n",
       "2000-01-21  1441.359985  20.820000"
      ]
     },
     "execution_count": 21,
     "metadata": {},
     "output_type": "execute_result"
    }
   ],
   "source": [
    "df_all.head()"
   ]
  },
  {
   "cell_type": "code",
   "execution_count": 22,
   "metadata": {},
   "outputs": [
    {
     "data": {
      "text/plain": [
       "DatetimeIndex(['2000-01-14', '2000-01-18', '2000-01-19', '2000-01-20',\n",
       "               '2000-01-21', '2000-01-24', '2000-01-25', '2000-01-26',\n",
       "               '2000-01-27', '2000-01-28',\n",
       "               ...\n",
       "               '2020-12-30', '2020-12-31', '2021-01-04', '2021-01-05',\n",
       "               '2021-01-06', '2021-01-07', '2021-01-08', '2021-01-11',\n",
       "               '2021-01-12', '2021-01-13'],\n",
       "              dtype='datetime64[ns]', name='date', length=5283, freq=None)"
      ]
     },
     "execution_count": 22,
     "metadata": {},
     "output_type": "execute_result"
    }
   ],
   "source": [
    "# Check\n",
    "df_all.index"
   ]
  },
  {
   "cell_type": "markdown",
   "metadata": {},
   "source": [
    "<div class=\"alert alert-block alert-info\">\n",
    "<b><span style=\"font-family:Comic Sans MS\">EDA and Summary Statistics</span></b>\n",
    "</div>"
   ]
  },
  {
   "cell_type": "code",
   "execution_count": 23,
   "metadata": {},
   "outputs": [
    {
     "data": {
      "text/html": [
       "<div>\n",
       "<style scoped>\n",
       "    .dataframe tbody tr th:only-of-type {\n",
       "        vertical-align: middle;\n",
       "    }\n",
       "\n",
       "    .dataframe tbody tr th {\n",
       "        vertical-align: top;\n",
       "    }\n",
       "\n",
       "    .dataframe thead th {\n",
       "        text-align: right;\n",
       "    }\n",
       "</style>\n",
       "<table border=\"1\" class=\"dataframe\">\n",
       "  <thead>\n",
       "    <tr style=\"text-align: right;\">\n",
       "      <th></th>\n",
       "      <th>SPX</th>\n",
       "      <th>VIX</th>\n",
       "    </tr>\n",
       "  </thead>\n",
       "  <tbody>\n",
       "    <tr>\n",
       "      <th>count</th>\n",
       "      <td>5283.000000</td>\n",
       "      <td>5283.000000</td>\n",
       "    </tr>\n",
       "    <tr>\n",
       "      <th>mean</th>\n",
       "      <td>1657.263726</td>\n",
       "      <td>19.954853</td>\n",
       "    </tr>\n",
       "    <tr>\n",
       "      <th>std</th>\n",
       "      <td>679.429194</td>\n",
       "      <td>8.940795</td>\n",
       "    </tr>\n",
       "    <tr>\n",
       "      <th>min</th>\n",
       "      <td>676.530029</td>\n",
       "      <td>9.140000</td>\n",
       "    </tr>\n",
       "    <tr>\n",
       "      <th>25%</th>\n",
       "      <td>1163.349976</td>\n",
       "      <td>13.620000</td>\n",
       "    </tr>\n",
       "    <tr>\n",
       "      <th>50%</th>\n",
       "      <td>1386.949951</td>\n",
       "      <td>17.650000</td>\n",
       "    </tr>\n",
       "    <tr>\n",
       "      <th>75%</th>\n",
       "      <td>2075.074951</td>\n",
       "      <td>23.625000</td>\n",
       "    </tr>\n",
       "    <tr>\n",
       "      <th>max</th>\n",
       "      <td>3824.679932</td>\n",
       "      <td>82.690002</td>\n",
       "    </tr>\n",
       "  </tbody>\n",
       "</table>\n",
       "</div>"
      ],
      "text/plain": [
       "               SPX          VIX\n",
       "count  5283.000000  5283.000000\n",
       "mean   1657.263726    19.954853\n",
       "std     679.429194     8.940795\n",
       "min     676.530029     9.140000\n",
       "25%    1163.349976    13.620000\n",
       "50%    1386.949951    17.650000\n",
       "75%    2075.074951    23.625000\n",
       "max    3824.679932    82.690002"
      ]
     },
     "execution_count": 23,
     "metadata": {},
     "output_type": "execute_result"
    }
   ],
   "source": [
    "df_all.describe()"
   ]
  },
  {
   "cell_type": "code",
   "execution_count": 45,
   "metadata": {},
   "outputs": [
    {
     "data": {
      "image/png": "[encoded data removed]",
      "text/plain": [
       "<Figure size 1440x576 with 2 Axes>"
      ]
     },
     "metadata": {
      "needs_background": "light"
     },
     "output_type": "display_data"
    }
   ],
   "source": [
    "%matplotlib inline\n",
    "import matplotlib.pyplot as plt\n",
    "\n",
    "plt.figure(figsize = (20, 8))\n",
    "\n",
    "ax_spx = df_all['SPX'].plot()\n",
    "ax_vix = df_all['VIX'].plot(secondary_y=True)\n",
    "\n",
    "ax_spx.legend(loc=1)\n",
    "ax_vix.legend(loc=2)\n",
    "plt.show();"
   ]
  },
  {
   "cell_type": "code",
   "execution_count": 40,
   "metadata": {},
   "outputs": [
    {
     "data": {
      "image/png": "[encoded data removed]",
      "text/plain": [
       "<Figure size 1440x432 with 2 Axes>"
      ]
     },
     "metadata": {
      "needs_background": "light"
     },
     "output_type": "display_data"
    }
   ],
   "source": [
    "df_all.diff().hist(figsize=(20, 6),color='blue',bins=200);"
   ]
  },
  {
   "cell_type": "code",
   "execution_count": 39,
   "metadata": {},
   "outputs": [
    {
     "data": {
      "image/png": "[encoded data removed]",
      "text/plain": [
       "<Figure size 1440x432 with 2 Axes>"
      ]
     },
     "metadata": {
      "needs_background": "light"
     },
     "output_type": "display_data"
    }
   ],
   "source": [
    "df_all.pct_change().hist(figsize=(20, 6),color='green',bins=200);"
   ]
  },
  {
   "cell_type": "code",
   "execution_count": 38,
   "metadata": {},
   "outputs": [
    {
     "data": {
      "image/png": "[encoded data removed]",
      "text/plain": [
       "<Figure size 1440x576 with 2 Axes>"
      ]
     },
     "metadata": {
      "needs_background": "light"
     },
     "output_type": "display_data"
    }
   ],
   "source": [
    "import numpy as np\n",
    "\n",
    "log_returns = np.log(df_all / df_all.shift(1)).dropna()\n",
    "log_returns.plot(\n",
    "    subplots=True,\n",
    "    figsize=(20, 8),\n",
    "    color='blue',\n",
    "    grid=True\n",
    ");\n",
    "for ax in plt.gcf().axes:\n",
    "    ax.legend(loc='upper left')"
   ]
  },
  {
   "cell_type": "markdown",
   "metadata": {},
   "source": [
    "<div class=\"alert alert-block alert-info\">\n",
    "<b><span style=\"font-family:Comic Sans MS\">Check the Correlation between SPX and VIX</span></b>\n",
    "</div>"
   ]
  },
  {
   "cell_type": "code",
   "execution_count": 51,
   "metadata": {},
   "outputs": [
    {
     "data": {
      "image/png": "[encoded data removed]",
      "text/plain": [
       "<Figure size 1080x432 with 2 Axes>"
      ]
     },
     "metadata": {
      "needs_background": "light"
     },
     "output_type": "display_data"
    }
   ],
   "source": [
    "# Check for Data Centric Correlation\n",
    "# for visualizing correlations\n",
    "import seaborn as sns\n",
    "f, ax = plt.subplots(figsize=(15, 6))\n",
    "corr = df_all.corr()\n",
    "hm = sns.heatmap(round(corr,2), annot=True, ax=ax, cmap=\"Blues\",fmt='.2f',\n",
    "            linewidths=.07)\n",
    "f.subplots_adjust(top=0.95)\n",
    "t= f.suptitle('Correlation Heatmap: VIX and SPX', fontsize=10)"
   ]
  },
  {
   "cell_type": "code",
   "execution_count": 52,
   "metadata": {},
   "outputs": [
    {
     "data": {
      "image/png": "[encoded data removed]",
      "text/plain": [
       "<Figure size 1080x432 with 2 Axes>"
      ]
     },
     "metadata": {
      "needs_background": "light"
     },
     "output_type": "display_data"
    }
   ],
   "source": [
    "import seaborn as sns\n",
    "f, ax = plt.subplots(figsize=(15, 6))\n",
    "corr = log_returns.corr()\n",
    "hm = sns.heatmap(round(corr,2), annot=True, ax=ax, cmap=\"Greens\",fmt='.2f',\n",
    "            linewidths=.07)\n",
    "f.subplots_adjust(top=0.95)\n",
    "t= f.suptitle('Correlation Heatmap: VIX and SPX', fontsize=10)"
   ]
  },
  {
   "cell_type": "code",
   "execution_count": 53,
   "metadata": {},
   "outputs": [
    {
     "data": {
      "image/png": "[encoded data removed]",
      "text/plain": [
       "<Figure size 720x576 with 1 Axes>"
      ]
     },
     "metadata": {
      "needs_background": "light"
     },
     "output_type": "display_data"
    }
   ],
   "source": [
    "import statsmodels.api as sm\n",
    "\n",
    "log_returns.plot(\n",
    "    figsize=(10,8),\n",
    "     x=\"SPX\",\n",
    "     y=\"VIX\",\n",
    "     kind='scatter')\n",
    "\n",
    "ols_fit = sm.OLS(log_returns['VIX'].values,\n",
    "log_returns['SPX'].values).fit()\n",
    "\n",
    "plt.plot(log_returns['SPX'], ols_fit.fittedvalues, 'r');"
   ]
  },
  {
   "cell_type": "code",
   "execution_count": 57,
   "metadata": {},
   "outputs": [
    {
     "data": {
      "image/png": "[encoded data removed]",
      "text/plain": [
       "<Figure size 1440x576 with 1 Axes>"
      ]
     },
     "metadata": {
      "needs_background": "light"
     },
     "output_type": "display_data"
    }
   ],
   "source": [
    "plt.ylabel('Rolling Annual Correlation')\n",
    "\n",
    "df_corr = df_all['SPX'].rolling(252).corr(other=df_all['VIX'])\n",
    "df_corr.plot(figsize=(20,8));"
   ]
  },
  {
   "attachments": {},
   "cell_type": "markdown",
   "metadata": {},
   "source": [
    "<div class=\"alert alert-block alert-info\">\n",
    "<b><span style=\"font-family:Comic Sans MS\">Calculating the VIX Index - [http://www.cboe.com/micro/vix/vixwhite.pdf]</span></b>\n",
    "</div>"
   ]
  },
  {
   "cell_type": "code",
   "execution_count": 58,
   "metadata": {},
   "outputs": [],
   "source": [
    "import csv \n",
    "\n",
    "META_DATA_ROWS = 3  # Header data starts at line 4\n",
    "COLS = 7  # Each option data occupy 7 columns\n",
    "\n",
    "def read_file(filepath):\n",
    "    meta_rows = []\n",
    "    calls_and_puts = []\n",
    "\n",
    "    with open(filepath, 'r') as file:\n",
    "        reader = csv.reader(file)\n",
    "        for row, cells in enumerate(reader):\n",
    "            if row < META_DATA_ROWS:\n",
    "                meta_rows.append(cells)\n",
    "            else:\n",
    "                call = cells[:COLS]\n",
    "                put = cells[COLS:-1]\n",
    "\n",
    "                calls_and_puts.append((call, put))                        \n",
    "\n",
    "    return (meta_rows, calls_and_puts)"
   ]
  },
  {
   "cell_type": "code",
   "execution_count": 59,
   "metadata": {},
   "outputs": [],
   "source": [
    "(meta_rows, calls_and_puts) = read_file('/Users/shovonsengupta/Desktop/All/EC-Council Course/AI for Finance - Videos/Section 7 Financial Analytics with Volatility Index/data/SPX_EOD_2018_10_15.csv')"
   ]
  },
  {
   "cell_type": "code",
   "execution_count": 60,
   "metadata": {},
   "outputs": [
    {
     "name": "stdout",
     "output_type": "stream",
     "text": [
      "['SPX (S&P 500 INDEX)', '2750.79', '-16.34']\n",
      "['Oct 15 2018 @ 20:00 ET']\n",
      "['Calls', 'Last Sale', 'Net', 'Bid', 'Ask', 'Vol', 'Open Int', 'Puts', 'Last Sale', 'Net', 'Bid', 'Ask', 'Vol', 'Open Int']\n"
     ]
    }
   ],
   "source": [
    "for line in meta_rows:\n",
    "    print(line)"
   ]
  },
  {
   "cell_type": "code",
   "execution_count": 61,
   "metadata": {},
   "outputs": [],
   "source": [
    "from dateutil import parser\n",
    "\n",
    "def get_dt_current(meta_rows):\n",
    "    \"\"\"\n",
    "    Extracts time information.\n",
    "\n",
    "    :param meta_rows: 2D array\n",
    "    :return: parsed datetime object\n",
    "    \"\"\"\n",
    "    # First cell of second row contains time info\n",
    "    date_time_row = meta_rows[1][0]\n",
    "\n",
    "    # Format text as ET time string\n",
    "    current_time = date_time_row.strip()\\\n",
    "        .replace('@ ', '')\\\n",
    "        .replace('ET', '-05:00')\\\n",
    "        .replace(',', '')\n",
    "\n",
    "    dt_current =  parser.parse(current_time)\n",
    "    return dt_current"
   ]
  },
  {
   "cell_type": "code",
   "execution_count": 62,
   "metadata": {},
   "outputs": [
    {
     "name": "stdout",
     "output_type": "stream",
     "text": [
      "2018-10-15 20:00:00-05:00\n"
     ]
    }
   ],
   "source": [
    "dt_current =  get_dt_current(meta_rows)\n",
    "print(dt_current)"
   ]
  },
  {
   "cell_type": "code",
   "execution_count": 63,
   "metadata": {},
   "outputs": [
    {
     "name": "stdout",
     "output_type": "stream",
     "text": [
      "(['2018 Oct 15 1700.00 (SPXW1815J1700)', '0.0', '0.0', '1039.30', '1063.00', '0', '0'], ['2018 Oct 15 1700.00 (SPXW1815V1700)', '0.15', '0.0', ' ', '0.05', '0'])\n",
      "(['2018 Oct 15 1800.00 (SPXW1815J1800)', '0.0', '0.0', '939.40', '963.00', '0', '0'], ['2018 Oct 15 1800.00 (SPXW1815V1800)', '0.10', '0.0', ' ', '0.05', '0'])\n"
     ]
    }
   ],
   "source": [
    "for line in calls_and_puts[:2]:\n",
    "    print(line)"
   ]
  },
  {
   "cell_type": "code",
   "execution_count": 64,
   "metadata": {},
   "outputs": [],
   "source": [
    "from decimal import Decimal\n",
    "\n",
    "def parse_expiry_and_strike(text):\n",
    "    \"\"\"\n",
    "    Extracts information about the contract data.\n",
    "\n",
    "    :param text: the string to parse.\n",
    "    :return: a tuple of expiry date and strike price\n",
    "    \"\"\"\n",
    "    # SPX Weeklys should expire at 3PM Chicago time.\n",
    "    [year, month, day, strike, option_code] = text.split(' ')\n",
    "    expiry = '%s %s %s 3:00PM -05:00' % (year, month, day)\n",
    "    dt_object = parser.parse(expiry)    \n",
    "\n",
    "    \"\"\"\n",
    "    Third friday SPX standard options expire at start of trading\n",
    "    8.30 A.M. Chicago time.\n",
    "    \"\"\"\n",
    "    if is_third_friday(dt_object):\n",
    "        dt_object = dt_object.replace(hour=8, minute=30)\n",
    "\n",
    "    strike = Decimal(strike)    \n",
    "    return (dt_object, strike)"
   ]
  },
  {
   "cell_type": "code",
   "execution_count": 65,
   "metadata": {},
   "outputs": [],
   "source": [
    "def is_third_friday(dt_object):\n",
    "    return dt_object.weekday() == 4 and 15 <= dt_object.day <= 21"
   ]
  },
  {
   "cell_type": "markdown",
   "metadata": {},
   "source": [
    "Test the above custom function with a simple contract code data and printing the results:"
   ]
  },
  {
   "cell_type": "code",
   "execution_count": 68,
   "metadata": {},
   "outputs": [],
   "source": [
    "test_contract_code = '2018 Sep 26 1800.00 (*)'\n",
    "(expiry, strike) = parse_expiry_and_strike(test_contract_code)"
   ]
  },
  {
   "cell_type": "code",
   "execution_count": 69,
   "metadata": {},
   "outputs": [
    {
     "name": "stdout",
     "output_type": "stream",
     "text": [
      "Expiry: 2018-09-26 15:00:00-05:00\n",
      "Strike price: 1800.00\n"
     ]
    }
   ],
   "source": [
    "print('Expiry:', expiry)\n",
    "print('Strike price:', strike)"
   ]
  },
  {
   "cell_type": "markdown",
   "metadata": {},
   "source": [
    "Test the function with a contract code data that falls on a say - third Friday."
   ]
  },
  {
   "cell_type": "code",
   "execution_count": 70,
   "metadata": {},
   "outputs": [],
   "source": [
    "test_contract_code = '2018 Oct 19 2555.00 (*)'\n",
    "(expiry, strike) = parse_expiry_and_strike(test_contract_code)"
   ]
  },
  {
   "cell_type": "code",
   "execution_count": 71,
   "metadata": {},
   "outputs": [
    {
     "name": "stdout",
     "output_type": "stream",
     "text": [
      "Expiry: 2018-10-19 08:30:00-05:00\n",
      "Strike price: 2555.00\n"
     ]
    }
   ],
   "source": [
    "print('Expiry:', expiry)\n",
    "print('Strike price:', strike)"
   ]
  },
  {
   "cell_type": "markdown",
   "metadata": {},
   "source": [
    "Parse a single call or put option price entry, and return useful information"
   ]
  },
  {
   "cell_type": "code",
   "execution_count": 72,
   "metadata": {},
   "outputs": [],
   "source": [
    "def format_option_data(option_data):\n",
    "    [desc, _, _, bid_str, ask_str] = option_data[:5]\n",
    "    bid = Decimal(bid_str.strip() or '0')\n",
    "    ask = Decimal(ask_str.strip() or '0')\n",
    "    mid = (bid+ask) / Decimal(2)\n",
    "    (expiry, strike) = parse_expiry_and_strike(desc)\n",
    "    return (expiry, strike, bid, ask, mid)"
   ]
  },
  {
   "cell_type": "markdown",
   "metadata": {},
   "source": [
    "<div class=\"alert alert-block alert-info\">\n",
    "<b><span style=\"font-family:Comic Sans MS\">Finding near-term and next-term options</span></b>\n",
    "</div>"
   ]
  },
  {
   "cell_type": "code",
   "execution_count": 73,
   "metadata": {},
   "outputs": [],
   "source": [
    "CALL_COLS = ['call_bid', 'call_ask', 'call_mid']\n",
    "PUT_COLS = ['put_bid', 'put_ask', 'put_mid']\n",
    "COLUMNS = CALL_COLS + PUT_COLS + ['diff']"
   ]
  },
  {
   "cell_type": "code",
   "execution_count": 74,
   "metadata": {},
   "outputs": [],
   "source": [
    "import pandas as pd\n",
    "\n",
    "def generate_options_chain(calls_and_puts):\n",
    "    chain = {}\n",
    "\n",
    "    for row in calls_and_puts:\n",
    "        (call, put) = row\n",
    "\n",
    "        (call_expiry, call_strike, call_bid, call_ask, call_mid) = \\\n",
    "            format_option_data(call)\n",
    "        (put_expiry, put_strike, put_bid, put_ask, put_mid) = \\\n",
    "            format_option_data(put)\n",
    "\n",
    "        # Ensure each line contains the same put and call maturity\n",
    "        assert(call_expiry == put_expiry)\n",
    "\n",
    "        # Get or create the DataFrame at the expiry\n",
    "        df = chain.get(call_expiry, pd.DataFrame(columns=COLUMNS))\n",
    "\n",
    "        df.loc[call_strike, CALL_COLS] = \\\n",
    "            [call_bid, call_ask, call_mid]\n",
    "        df.loc[call_strike, PUT_COLS] = \\\n",
    "            [put_bid, put_ask, put_mid]\n",
    "        df.loc[call_strike, 'diff'] = abs(put_mid-call_mid)\n",
    "\n",
    "        chain[call_expiry] = df\n",
    "\n",
    "    return chain"
   ]
  },
  {
   "cell_type": "code",
   "execution_count": 75,
   "metadata": {},
   "outputs": [],
   "source": [
    "chain = generate_options_chain(calls_and_puts)"
   ]
  },
  {
   "cell_type": "code",
   "execution_count": 76,
   "metadata": {},
   "outputs": [
    {
     "name": "stdout",
     "output_type": "stream",
     "text": [
      "2018-10-15 15:00:00-05:00\n",
      "2018-10-17 15:00:00-05:00\n",
      "...\n",
      "2020-06-19 08:30:00-05:00\n",
      "2020-12-18 08:30:00-05:00\n"
     ]
    }
   ],
   "source": [
    "chain_keys = list(chain.keys())\n",
    "for row in chain_keys[:2]:\n",
    "    print(row)\n",
    "print('...')\n",
    "for row in chain_keys[-2:]:\n",
    "    print(row)"
   ]
  },
  {
   "cell_type": "code",
   "execution_count": 77,
   "metadata": {},
   "outputs": [],
   "source": [
    "def find_option_terms(chain, dt_current):\n",
    "    \"\"\"\n",
    "    Find the near-term and next-term dates from\n",
    "    the given indexes of the dictionary.\n",
    "\n",
    "    :param chain: dictionary object\n",
    "    :param dt_current: DateTime object of option quotes\n",
    "    :return: tuple of 2 datetime objects\n",
    "    \"\"\"\n",
    "    dt_near = None\n",
    "    dt_next = None\n",
    "\n",
    "    for dt_object in chain.keys():\n",
    "        delta = dt_object - dt_current\n",
    "        if delta.days > 23:\n",
    "            # Skip non-fridays\n",
    "            if dt_object.weekday() != 4:\n",
    "                continue\n",
    "\n",
    "            # Save the near term date\n",
    "            if dt_near is None:\n",
    "                dt_near = dt_object            \n",
    "                continue\n",
    "\n",
    "            # Save the next term date\n",
    "            if dt_next is None:\n",
    "                dt_next = dt_object            \n",
    "                break\n",
    "\n",
    "    return (dt_near, dt_next)"
   ]
  },
  {
   "cell_type": "code",
   "execution_count": 78,
   "metadata": {},
   "outputs": [],
   "source": [
    "(dt_near, dt_next) = find_option_terms(chain, dt_current)"
   ]
  },
  {
   "cell_type": "code",
   "execution_count": 79,
   "metadata": {},
   "outputs": [
    {
     "name": "stdout",
     "output_type": "stream",
     "text": [
      "Found near-term maturity 2018-11-09 15:00:00-05:00 with 24 days, 19:00:00 to expiry\n",
      "Found next-term maturity 2018-11-16 08:30:00-05:00 with 31 days, 12:30:00 to expiry\n"
     ]
    }
   ],
   "source": [
    "print('Found near-term maturity', dt_near, \n",
    "      'with', dt_near-dt_current, 'to expiry')\n",
    "print('Found next-term maturity', dt_next, \n",
    "      'with', dt_next-dt_current, 'to expiry')"
   ]
  },
  {
   "cell_type": "markdown",
   "metadata": {},
   "source": [
    "__Calculating the required minutes__"
   ]
  },
  {
   "cell_type": "code",
   "execution_count": 80,
   "metadata": {},
   "outputs": [],
   "source": [
    "dt_start_year = dt_current.replace(month=1, day=1, hour=0, minute=0, second=0)\n",
    "dt_end_year = dt_start_year.replace(year=dt_current.year+1)\n",
    "\n",
    "N_t1 = Decimal((dt_near-dt_current).total_seconds() // 60)\n",
    "N_t2 = Decimal((dt_next-dt_current).total_seconds() // 60)\n",
    "N_30 = Decimal(30 * 24 * 60)\n",
    "N_365 = Decimal((dt_end_year-dt_start_year).total_seconds() // 60)"
   ]
  },
  {
   "cell_type": "code",
   "execution_count": 81,
   "metadata": {},
   "outputs": [
    {
     "name": "stdout",
     "output_type": "stream",
     "text": [
      "N_365: 525600\n",
      "N_30: 43200\n",
      "N_t1: 35700\n",
      "N_t2: 45390\n"
     ]
    }
   ],
   "source": [
    "print('N_365:', N_365)\n",
    "print('N_30:', N_30)\n",
    "print('N_t1:', N_t1)\n",
    "print('N_t2:', N_t2)"
   ]
  },
  {
   "cell_type": "code",
   "execution_count": 82,
   "metadata": {},
   "outputs": [],
   "source": [
    "t1 = N_t1 / N_365\n",
    "t2 = N_t2 / N_365"
   ]
  },
  {
   "cell_type": "code",
   "execution_count": 83,
   "metadata": {},
   "outputs": [
    {
     "name": "stdout",
     "output_type": "stream",
     "text": [
      "t1:0.06792\n",
      "t2:0.08636\n"
     ]
    }
   ],
   "source": [
    "print('t1:%.5f'%t1)\n",
    "print('t2:%.5f'%t2)"
   ]
  },
  {
   "cell_type": "markdown",
   "metadata": {},
   "source": [
    "__Calculating the forward SPX index level__"
   ]
  },
  {
   "cell_type": "code",
   "execution_count": 84,
   "metadata": {},
   "outputs": [],
   "source": [
    "import math\n",
    "\n",
    "def determine_forward_level(df, r, t):\n",
    "    \"\"\"\n",
    "    Calculate the forward SPX index level.\n",
    "\n",
    "    :param df: pandas DataFrame for a single option chain\n",
    "    :param r: risk-free interest rate for t\n",
    "    :param t: time to settlement in years\n",
    "    :return: Decimal object\n",
    "    \"\"\"\n",
    "    min_diff = min(df['diff'])\n",
    "    pd_k = df[df['diff'] == min_diff]\n",
    "    k = pd_k.index.values[0]\n",
    "\n",
    "    call_price = pd_k.loc[k, 'call_mid']\n",
    "    put_price = pd_k.loc[k, 'put_mid']\n",
    "    return k + Decimal(math.exp(r*t))*(call_price-put_price)"
   ]
  },
  {
   "cell_type": "code",
   "execution_count": 85,
   "metadata": {},
   "outputs": [],
   "source": [
    "r = Decimal(2.17/100)"
   ]
  },
  {
   "cell_type": "code",
   "execution_count": 86,
   "metadata": {},
   "outputs": [],
   "source": [
    "df_near = chain.get(dt_near)\n",
    "f1 = determine_forward_level(df_near, r, t1)"
   ]
  },
  {
   "cell_type": "code",
   "execution_count": 87,
   "metadata": {},
   "outputs": [
    {
     "name": "stdout",
     "output_type": "stream",
     "text": [
      "f1: 2747.596459994546094129930225\n"
     ]
    }
   ],
   "source": [
    "print('f1:', f1)"
   ]
  },
  {
   "cell_type": "markdown",
   "metadata": {},
   "source": [
    "__Finding the required forward strike prices__"
   ]
  },
  {
   "cell_type": "code",
   "execution_count": 88,
   "metadata": {},
   "outputs": [],
   "source": [
    "def find_k0(df, f):\n",
    "    return df[df.index<f].tail(1).index.values[0]"
   ]
  },
  {
   "cell_type": "code",
   "execution_count": 89,
   "metadata": {},
   "outputs": [],
   "source": [
    "k0_near = find_k0(df_near, f1)"
   ]
  },
  {
   "cell_type": "code",
   "execution_count": 90,
   "metadata": {},
   "outputs": [
    {
     "name": "stdout",
     "output_type": "stream",
     "text": [
      "k0_near: 2745.00\n"
     ]
    }
   ],
   "source": [
    "print('k0_near:', k0_near)"
   ]
  },
  {
   "cell_type": "markdown",
   "metadata": {},
   "source": [
    "__Determining strike price boundaries__"
   ]
  },
  {
   "cell_type": "code",
   "execution_count": 91,
   "metadata": {},
   "outputs": [],
   "source": [
    "def find_lower_and_upper_bounds(df, k0):\n",
    "    \"\"\"\n",
    "    Find the lower and upper boundry strike prices.\n",
    "\n",
    "    :param df: the pandas DataFrame of option chain\n",
    "    :param k0: the forward strike price\n",
    "    :return: a tuple of two Decimal objects\n",
    "    \"\"\"\n",
    "    # Find lower bound\n",
    "    otm_puts = df[df.index<k0].filter(['put_bid', 'put_ask'])\n",
    "    k_lower = 0\n",
    "    for i, k in enumerate(otm_puts.index[::-1][:-2]):\n",
    "        k_lower = k\n",
    "        put_bid_t1 = otm_puts.iloc[-i-1-1]['put_bid']\n",
    "        put_bid_t2 = otm_puts.iloc[-i-1-2]['put_bid']\n",
    "        if put_bid_t1 == 0 and put_bid_t2 == 0:\n",
    "            break\n",
    "        if put_bid_t2 == 0:\n",
    "            k_lower = otm_puts.index[-i-1-1]\n",
    "\n",
    "    # Find upper bound\n",
    "    otm_calls = df[df.index>k0].filter(['call_bid', 'call_ask'])    \n",
    "    k_upper = 0\n",
    "    for i, k in enumerate(otm_calls.index[:-2]):\n",
    "        call_bid_t1 = otm_calls.iloc[i+1]['call_bid']\n",
    "        call_bid_t2 = otm_calls.iloc[i+2]['call_bid']\n",
    "        if call_bid_t1 == 0 and call_bid_t2 == 0:\n",
    "            k_upper = k\n",
    "            break\n",
    "\n",
    "    return (k_lower, k_upper)"
   ]
  },
  {
   "cell_type": "code",
   "execution_count": 92,
   "metadata": {},
   "outputs": [],
   "source": [
    "(k_lower_near, k_upper_near) = find_lower_and_upper_bounds(df_near, k0_near)"
   ]
  },
  {
   "cell_type": "code",
   "execution_count": 93,
   "metadata": {},
   "outputs": [
    {
     "name": "stdout",
     "output_type": "stream",
     "text": [
      "1250.00 3040.00\n"
     ]
    }
   ],
   "source": [
    "print(k_lower_near, k_upper_near)"
   ]
  },
  {
   "cell_type": "markdown",
   "metadata": {},
   "source": [
    "__Tabulating contributions by strike prices__"
   ]
  },
  {
   "cell_type": "code",
   "execution_count": 94,
   "metadata": {},
   "outputs": [],
   "source": [
    "def calculate_contrib_by_strike(delta_k, k, r, t, q):\n",
    "    return (delta_k / k**2)*Decimal(math.exp(r*t))*q"
   ]
  },
  {
   "cell_type": "code",
   "execution_count": 95,
   "metadata": {},
   "outputs": [],
   "source": [
    "def find_prev_k(k, i, k_lower, df, bid_column):\n",
    "    \"\"\"\n",
    "    Finds the strike price immediately below k \n",
    "    with non-zero bid.\n",
    "\n",
    "    :param k: current strike price at i\n",
    "    :param i: current index of df\n",
    "    :param k_lower: lower strike price boundary of df\n",
    "    :param bid_column: The column name that reads the bid price.\n",
    "        Can be 'put_bid' or 'call_bid'.\n",
    "    :return: strike price as Decimal object.\n",
    "    \"\"\"    \n",
    "    if k <= k_lower:\n",
    "        k_prev = df.index[i-1]\n",
    "        return k_prev\n",
    "\n",
    "    # Iterate backwards to find put bids           \n",
    "    k_prev = 0\n",
    "    prev_bid = 0\n",
    "    steps = 1\n",
    "    while prev_bid == 0:                                \n",
    "        k_prev = df.index[i-steps]\n",
    "        prev_bid = df.loc[k_prev][bid_column]\n",
    "        steps += 1\n",
    "\n",
    "    return k_prev"
   ]
  },
  {
   "cell_type": "code",
   "execution_count": 96,
   "metadata": {},
   "outputs": [],
   "source": [
    "def find_next_k(k, i, k_upper, df, bid_column):\n",
    "    \"\"\"\n",
    "    Finds the strike price immediately above k \n",
    "    with non-zero bid.\n",
    "\n",
    "    :param k: current strike price at i\n",
    "    :param i: current index of df\n",
    "    :param k_upper: upper strike price boundary of df\n",
    "    :param bid_column: The column name that reads the bid price.\n",
    "        Can be 'put_bid' or 'call_bid'.\n",
    "    :return: strike price as Decimal object.\n",
    "    \"\"\"    \n",
    "    if k >= k_upper:\n",
    "        k_next = df.index[i+1]\n",
    "        return k_next\n",
    "\n",
    "    k_next = 0\n",
    "    next_bid = 0\n",
    "    steps = 1\n",
    "    while next_bid == 0:\n",
    "        k_next = df.index[i+steps]\n",
    "        next_bid = df.loc[k_next][bid_column]\n",
    "        steps += 1\n",
    "\n",
    "    return k_next"
   ]
  },
  {
   "cell_type": "code",
   "execution_count": 97,
   "metadata": {},
   "outputs": [],
   "source": [
    "import pandas as pd\n",
    "\n",
    "def tabulate_contrib_by_strike(df, k0, k_lower, k_upper, r, t):\n",
    "    \"\"\"\n",
    "    Computes the contribution to the VIX index\n",
    "    for every strike price in df.\n",
    "\n",
    "    :param df: pandas DataFrame containing the option dataset\n",
    "    :param k0: forward strike price index level\n",
    "    :param k_lower: lower boundary strike price\n",
    "    :param k_upper: upper boundary strike price\n",
    "    :param r: the risk-free interest rate\n",
    "    :param t: the time to expiry, in years\n",
    "    :return: new pandas DataFrame with contributions by strike price\n",
    "    \"\"\"\n",
    "    COLUMNS = ['Option Type', 'mid', 'contrib']\n",
    "    pd_contrib = pd.DataFrame(columns=COLUMNS)\n",
    "\n",
    "    for i, k in enumerate(df.index):\n",
    "        mid, bid, bid_column = 0, 0, ''\n",
    "        if k_lower <= k < k0:\n",
    "            option_type = 'Put'\n",
    "            bid_column = 'put_bid'\n",
    "            mid = df.loc[k]['put_mid']\n",
    "            bid = df.loc[k][bid_column]\n",
    "        elif k == k0:\n",
    "            option_type = 'atm'\n",
    "        elif k0 < k <= k_upper:\n",
    "            option_type = 'Call'\n",
    "            bid_column = 'call_bid'\n",
    "            mid = df.loc[k]['call_mid']\n",
    "            bid = df.loc[k][bid_column]\n",
    "        else:\n",
    "            continue  # skip out-of-range strike prices\n",
    "\n",
    "        if bid == 0:\n",
    "            continue  # skip zero bids\n",
    "\n",
    "        k_prev = find_prev_k(k, i, k_lower, df, bid_column)\n",
    "        k_next = find_next_k(k, i, k_upper, df, bid_column)\n",
    "        delta_k = Decimal((k_next-k_prev)/2)\n",
    "\n",
    "        contrib = calculate_contrib_by_strike(delta_k, k, r, t, mid)\n",
    "        pd_contrib.loc[k, COLUMNS] = [option_type, mid, contrib]\n",
    "\n",
    "    return pd_contrib"
   ]
  },
  {
   "cell_type": "code",
   "execution_count": 99,
   "metadata": {},
   "outputs": [],
   "source": [
    "pd_contrib_near = tabulate_contrib_by_strike(df_near, k0_near, k_lower_near, k_upper_near, r, t1)"
   ]
  },
  {
   "cell_type": "code",
   "execution_count": 100,
   "metadata": {},
   "outputs": [
    {
     "data": {
      "text/html": [
       "<div>\n",
       "<style scoped>\n",
       "    .dataframe tbody tr th:only-of-type {\n",
       "        vertical-align: middle;\n",
       "    }\n",
       "\n",
       "    .dataframe tbody tr th {\n",
       "        vertical-align: top;\n",
       "    }\n",
       "\n",
       "    .dataframe thead th {\n",
       "        text-align: right;\n",
       "    }\n",
       "</style>\n",
       "<table border=\"1\" class=\"dataframe\">\n",
       "  <thead>\n",
       "    <tr style=\"text-align: right;\">\n",
       "      <th></th>\n",
       "      <th>Option Type</th>\n",
       "      <th>mid</th>\n",
       "      <th>contrib</th>\n",
       "    </tr>\n",
       "  </thead>\n",
       "  <tbody>\n",
       "    <tr>\n",
       "      <th>1250.00</th>\n",
       "      <td>Put</td>\n",
       "      <td>0.10</td>\n",
       "      <td>0.000003204720007271874493426366826</td>\n",
       "    </tr>\n",
       "    <tr>\n",
       "      <th>1300.00</th>\n",
       "      <td>Put</td>\n",
       "      <td>0.125</td>\n",
       "      <td>0.000003703679742131881579865901010</td>\n",
       "    </tr>\n",
       "    <tr>\n",
       "      <th>1350.00</th>\n",
       "      <td>Put</td>\n",
       "      <td>0.15</td>\n",
       "      <td>0.000004121296305647986745661479970</td>\n",
       "    </tr>\n",
       "    <tr>\n",
       "      <th>1400.00</th>\n",
       "      <td>Put</td>\n",
       "      <td>0.20</td>\n",
       "      <td>0.000005109566338124799893855814454</td>\n",
       "    </tr>\n",
       "    <tr>\n",
       "      <th>1450.00</th>\n",
       "      <td>Put</td>\n",
       "      <td>0.20</td>\n",
       "      <td>0.000004763258036967708819004706934</td>\n",
       "    </tr>\n",
       "  </tbody>\n",
       "</table>\n",
       "</div>"
      ],
      "text/plain": [
       "        Option Type    mid                              contrib\n",
       "1250.00         Put   0.10  0.000003204720007271874493426366826\n",
       "1300.00         Put  0.125  0.000003703679742131881579865901010\n",
       "1350.00         Put   0.15  0.000004121296305647986745661479970\n",
       "1400.00         Put   0.20  0.000005109566338124799893855814454\n",
       "1450.00         Put   0.20  0.000004763258036967708819004706934"
      ]
     },
     "execution_count": 100,
     "metadata": {},
     "output_type": "execute_result"
    }
   ],
   "source": [
    "pd_contrib_near.head()"
   ]
  },
  {
   "cell_type": "code",
   "execution_count": 101,
   "metadata": {},
   "outputs": [
    {
     "data": {
      "text/html": [
       "<div>\n",
       "<style scoped>\n",
       "    .dataframe tbody tr th:only-of-type {\n",
       "        vertical-align: middle;\n",
       "    }\n",
       "\n",
       "    .dataframe tbody tr th {\n",
       "        vertical-align: top;\n",
       "    }\n",
       "\n",
       "    .dataframe thead th {\n",
       "        text-align: right;\n",
       "    }\n",
       "</style>\n",
       "<table border=\"1\" class=\"dataframe\">\n",
       "  <thead>\n",
       "    <tr style=\"text-align: right;\">\n",
       "      <th></th>\n",
       "      <th>Option Type</th>\n",
       "      <th>mid</th>\n",
       "      <th>contrib</th>\n",
       "    </tr>\n",
       "  </thead>\n",
       "  <tbody>\n",
       "    <tr>\n",
       "      <th>3020.00</th>\n",
       "      <td>Call</td>\n",
       "      <td>0.175</td>\n",
       "      <td>9.608028452572290489411343569E-8</td>\n",
       "    </tr>\n",
       "    <tr>\n",
       "      <th>3025.00</th>\n",
       "      <td>Call</td>\n",
       "      <td>0.225</td>\n",
       "      <td>1.231237623174939828257858985E-7</td>\n",
       "    </tr>\n",
       "    <tr>\n",
       "      <th>3030.00</th>\n",
       "      <td>Call</td>\n",
       "      <td>0.175</td>\n",
       "      <td>9.544713775211615220689389699E-8</td>\n",
       "    </tr>\n",
       "    <tr>\n",
       "      <th>3035.00</th>\n",
       "      <td>Call</td>\n",
       "      <td>0.20</td>\n",
       "      <td>1.087233242345573774601901086E-7</td>\n",
       "    </tr>\n",
       "    <tr>\n",
       "      <th>3040.00</th>\n",
       "      <td>Call</td>\n",
       "      <td>0.15</td>\n",
       "      <td>8.127448187590304540304760266E-8</td>\n",
       "    </tr>\n",
       "  </tbody>\n",
       "</table>\n",
       "</div>"
      ],
      "text/plain": [
       "        Option Type    mid                           contrib\n",
       "3020.00        Call  0.175  9.608028452572290489411343569E-8\n",
       "3025.00        Call  0.225  1.231237623174939828257858985E-7\n",
       "3030.00        Call  0.175  9.544713775211615220689389699E-8\n",
       "3035.00        Call   0.20  1.087233242345573774601901086E-7\n",
       "3040.00        Call   0.15  8.127448187590304540304760266E-8"
      ]
     },
     "execution_count": 101,
     "metadata": {},
     "output_type": "execute_result"
    }
   ],
   "source": [
    "pd_contrib_near.tail()"
   ]
  },
  {
   "cell_type": "markdown",
   "metadata": {},
   "source": [
    "__Calculating the volatilities__"
   ]
  },
  {
   "cell_type": "code",
   "execution_count": 102,
   "metadata": {},
   "outputs": [],
   "source": [
    "def calculate_volatility(pd_contrib, t, f, k0):\n",
    "    \"\"\"\n",
    "    Calculate the volatility for a single-term option\n",
    "\n",
    "    :param pd_contrib: pandas DataFrame containing \n",
    "        contributions by strike\n",
    "    :param t: time to settlement of the option\n",
    "    :param f: forward index level\n",
    "    :param k0: immediate strike price below the forward level\n",
    "    :return: volatility as Decimal object\n",
    "    \"\"\"\n",
    "    term_1 = Decimal(2/t)*pd_contrib['contrib'].sum()\n",
    "    term_2 = Decimal(1/t)*(f/k0 - 1)**2\n",
    "    return term_1 - term_2"
   ]
  },
  {
   "cell_type": "code",
   "execution_count": 103,
   "metadata": {},
   "outputs": [],
   "source": [
    "volatility_near = calculate_volatility(pd_contrib_near, t1, f1, k0_near)"
   ]
  },
  {
   "cell_type": "code",
   "execution_count": 104,
   "metadata": {},
   "outputs": [
    {
     "name": "stdout",
     "output_type": "stream",
     "text": [
      "volatility_near: 0.04891704334249740486501736967\n"
     ]
    }
   ],
   "source": [
    "print('volatility_near:', volatility_near)"
   ]
  },
  {
   "cell_type": "markdown",
   "metadata": {},
   "source": [
    "__Calculating the next-term options__"
   ]
  },
  {
   "cell_type": "code",
   "execution_count": 105,
   "metadata": {},
   "outputs": [],
   "source": [
    "df_next = chain.get(dt_next)\n",
    "\n",
    "f2 = determine_forward_level(df_next, r, t2)\n",
    "k0_next = find_k0(df_next, f2)\n",
    "(k_lower_next, k_upper_next) = find_lower_and_upper_bounds(df_next, k0_next)\n",
    "pd_contrib_next = tabulate_contrib_by_strike(df_next, k0_next, k_lower_next, k_upper_next, r, t2)\n",
    "volatility_next = calculate_volatility(pd_contrib_next, t2, f2, k0_next)"
   ]
  },
  {
   "cell_type": "markdown",
   "metadata": {},
   "source": [
    "<div class=\"alert alert-block alert-info\">\n",
    "<b><span style=\"font-family:Comic Sans MS\">Calculate the VIX Index</span></b>\n",
    "</div>"
   ]
  },
  {
   "cell_type": "code",
   "execution_count": 106,
   "metadata": {},
   "outputs": [],
   "source": [
    "def calculate_vix_index(t1, volatility_1, t2, volatility_2, N_t1, N_t2, N_30, N_365):\n",
    "    inner_term_1 = t1*Decimal(volatility_1)*(N_t2-N_30)/(N_t2-N_t1)\n",
    "    inner_term_2 = t2*Decimal(volatility_2)*(N_30-N_t1)/(N_t2-N_t1)\n",
    "    sqrt_terms = math.sqrt((inner_term_1+inner_term_2)*N_365/N_30)\n",
    "    return 100 * sqrt_terms"
   ]
  },
  {
   "cell_type": "code",
   "execution_count": 107,
   "metadata": {},
   "outputs": [],
   "source": [
    "vix = calculate_vix_index(t1, volatility_near, t2, volatility_next, N_t1, N_t2, N_30, N_365)"
   ]
  },
  {
   "cell_type": "code",
   "execution_count": 108,
   "metadata": {},
   "outputs": [
    {
     "name": "stdout",
     "output_type": "stream",
     "text": [
      "At 2018-10-15 20:00:00-05:00 the VIX is 21.431114075693934\n"
     ]
    }
   ],
   "source": [
    "print('At', dt_current, 'the VIX is', vix)"
   ]
  },
  {
   "cell_type": "markdown",
   "metadata": {},
   "source": [
    "<div class=\"alert alert-block alert-info\">\n",
    "<b><span style=\"font-family:Comic Sans MS\">Calculating multiple VIX indexes</span></b>\n",
    "</div>"
   ]
  },
  {
   "cell_type": "code",
   "execution_count": 109,
   "metadata": {},
   "outputs": [],
   "source": [
    "def process_file(filepath):\n",
    "    \"\"\"\n",
    "    Reads the filepath and calculates the VIX index.\n",
    "\n",
    "    :param filepath: path the options chain file\n",
    "    :return: VIX index value\n",
    "    \"\"\"\n",
    "    headers, calls_and_puts = read_file(filepath)    \n",
    "    dt_current = get_dt_current(headers)\n",
    "\n",
    "    chain = generate_options_chain(calls_and_puts)\n",
    "    (dt_near, dt_next) = find_option_terms(chain, dt_current)\n",
    "\n",
    "    N_t1 = Decimal((dt_near-dt_current).total_seconds() // 60)\n",
    "    N_t2 = Decimal((dt_next-dt_current).total_seconds() // 60)\n",
    "    t1 = N_t1 / N_365\n",
    "    t2 = N_t2 / N_365\n",
    "\n",
    "    # Process near-term options\n",
    "    df_near = chain.get(dt_near)\n",
    "    f1 = determine_forward_level(df_near, r, t1)\n",
    "    k0_near = find_k0(df_near, f1)\n",
    "    (k_lower_near, k_upper_near) = find_lower_and_upper_bounds(df_near, k0_near)\n",
    "    pd_contrib_near = tabulate_contrib_by_strike(df_near, k0_near, k_lower_near, k_upper_near, r, t1)\n",
    "    volatility_near = calculate_volatility(pd_contrib_near, t1, f1, k0_near)\n",
    "\n",
    "    # Process next-term options\n",
    "    df_next = chain.get(dt_next)\n",
    "    f2 = determine_forward_level(df_next, r, t2)\n",
    "    k0_next = find_k0(df_next, f2)\n",
    "    (k_lower_next, k_upper_next) = find_lower_and_upper_bounds(df_next, k0_next)\n",
    "    pd_contrib_next = tabulate_contrib_by_strike(df_next, k0_next, k_lower_next, k_upper_next, r, t2)\n",
    "    volatility_next = calculate_volatility(pd_contrib_next, t2, f2, k0_next)\n",
    "\n",
    "    vix = calculate_vix_index(t1, volatility_near, t2, volatility_next, N_t1, N_t2, N_30, N_365)\n",
    "\n",
    "    return vix"
   ]
  },
  {
   "cell_type": "code",
   "execution_count": 112,
   "metadata": {},
   "outputs": [],
   "source": [
    "FILE_DATES = [\n",
    "    '2018_10_15',\n",
    "    '2018_10_16',\n",
    "    '2018_10_17',\n",
    "    '2018_10_18',\n",
    "    '2018_10_19',\n",
    "]\n",
    "FILE_PATH_PATTERN = '/Users/shovonsengupta/Desktop/All/EC-Council Course/AI for Finance - Videos/Section 7 Financial Analytics with Volatility Index/data/SPX_EOD_%s.csv'"
   ]
  },
  {
   "cell_type": "code",
   "execution_count": 113,
   "metadata": {},
   "outputs": [],
   "source": [
    "pd_calcs = pd.DataFrame(columns=['VIX'])\n",
    "\n",
    "for file_date in FILE_DATES:\n",
    "    filepath = FILE_PATH_PATTERN % file_date\n",
    "\n",
    "    vix = process_file(filepath)    \n",
    "    date_obj = parser.parse(file_date.replace('_', '-'))\n",
    "\n",
    "    pd_calcs.loc[date_obj, 'VIX'] = vix"
   ]
  },
  {
   "cell_type": "code",
   "execution_count": 114,
   "metadata": {},
   "outputs": [
    {
     "data": {
      "text/html": [
       "<div>\n",
       "<style scoped>\n",
       "    .dataframe tbody tr th:only-of-type {\n",
       "        vertical-align: middle;\n",
       "    }\n",
       "\n",
       "    .dataframe tbody tr th {\n",
       "        vertical-align: top;\n",
       "    }\n",
       "\n",
       "    .dataframe thead th {\n",
       "        text-align: right;\n",
       "    }\n",
       "</style>\n",
       "<table border=\"1\" class=\"dataframe\">\n",
       "  <thead>\n",
       "    <tr style=\"text-align: right;\">\n",
       "      <th></th>\n",
       "      <th>VIX</th>\n",
       "    </tr>\n",
       "  </thead>\n",
       "  <tbody>\n",
       "    <tr>\n",
       "      <th>2018-10-15</th>\n",
       "      <td>21.431114</td>\n",
       "    </tr>\n",
       "    <tr>\n",
       "      <th>2018-10-16</th>\n",
       "      <td>17.73844</td>\n",
       "    </tr>\n",
       "    <tr>\n",
       "      <th>2018-10-17</th>\n",
       "      <td>17.474078</td>\n",
       "    </tr>\n",
       "    <tr>\n",
       "      <th>2018-10-18</th>\n",
       "      <td>20.04767</td>\n",
       "    </tr>\n",
       "    <tr>\n",
       "      <th>2018-10-19</th>\n",
       "      <td>19.919557</td>\n",
       "    </tr>\n",
       "  </tbody>\n",
       "</table>\n",
       "</div>"
      ],
      "text/plain": [
       "                  VIX\n",
       "2018-10-15  21.431114\n",
       "2018-10-16   17.73844\n",
       "2018-10-17  17.474078\n",
       "2018-10-18   20.04767\n",
       "2018-10-19  19.919557"
      ]
     },
     "execution_count": 114,
     "metadata": {},
     "output_type": "execute_result"
    }
   ],
   "source": [
    "pd_calcs.head(5)"
   ]
  },
  {
   "cell_type": "markdown",
   "metadata": {},
   "source": [
    "__A quick comparison of the results__"
   ]
  },
  {
   "cell_type": "code",
   "execution_count": 116,
   "metadata": {},
   "outputs": [
    {
     "data": {
      "text/html": [
       "<div>\n",
       "<style scoped>\n",
       "    .dataframe tbody tr th:only-of-type {\n",
       "        vertical-align: middle;\n",
       "    }\n",
       "\n",
       "    .dataframe tbody tr th {\n",
       "        vertical-align: top;\n",
       "    }\n",
       "\n",
       "    .dataframe thead th {\n",
       "        text-align: right;\n",
       "    }\n",
       "</style>\n",
       "<table border=\"1\" class=\"dataframe\">\n",
       "  <thead>\n",
       "    <tr style=\"text-align: right;\">\n",
       "      <th></th>\n",
       "      <th>Date</th>\n",
       "      <th>Open</th>\n",
       "      <th>High</th>\n",
       "      <th>Low</th>\n",
       "      <th>Close</th>\n",
       "      <th>Adj Close</th>\n",
       "      <th>Volume</th>\n",
       "    </tr>\n",
       "  </thead>\n",
       "  <tbody>\n",
       "    <tr>\n",
       "      <th>0</th>\n",
       "      <td>2000-01-14</td>\n",
       "      <td>19.830000</td>\n",
       "      <td>20.150000</td>\n",
       "      <td>19.510000</td>\n",
       "      <td>19.660000</td>\n",
       "      <td>19.660000</td>\n",
       "      <td>0</td>\n",
       "    </tr>\n",
       "    <tr>\n",
       "      <th>1</th>\n",
       "      <td>2000-01-18</td>\n",
       "      <td>21.389999</td>\n",
       "      <td>21.629999</td>\n",
       "      <td>20.969999</td>\n",
       "      <td>21.500000</td>\n",
       "      <td>21.500000</td>\n",
       "      <td>0</td>\n",
       "    </tr>\n",
       "    <tr>\n",
       "      <th>2</th>\n",
       "      <td>2000-01-19</td>\n",
       "      <td>22.150000</td>\n",
       "      <td>22.160000</td>\n",
       "      <td>21.440001</td>\n",
       "      <td>21.719999</td>\n",
       "      <td>21.719999</td>\n",
       "      <td>0</td>\n",
       "    </tr>\n",
       "    <tr>\n",
       "      <th>3</th>\n",
       "      <td>2000-01-20</td>\n",
       "      <td>21.309999</td>\n",
       "      <td>22.600000</td>\n",
       "      <td>21.180000</td>\n",
       "      <td>21.750000</td>\n",
       "      <td>21.750000</td>\n",
       "      <td>0</td>\n",
       "    </tr>\n",
       "    <tr>\n",
       "      <th>4</th>\n",
       "      <td>2000-01-21</td>\n",
       "      <td>21.549999</td>\n",
       "      <td>21.910000</td>\n",
       "      <td>20.500000</td>\n",
       "      <td>20.820000</td>\n",
       "      <td>20.820000</td>\n",
       "      <td>0</td>\n",
       "    </tr>\n",
       "  </tbody>\n",
       "</table>\n",
       "</div>"
      ],
      "text/plain": [
       "         Date       Open       High        Low      Close  Adj Close  Volume\n",
       "0  2000-01-14  19.830000  20.150000  19.510000  19.660000  19.660000       0\n",
       "1  2000-01-18  21.389999  21.629999  20.969999  21.500000  21.500000       0\n",
       "2  2000-01-19  22.150000  22.160000  21.440001  21.719999  21.719999       0\n",
       "3  2000-01-20  21.309999  22.600000  21.180000  21.750000  21.750000       0\n",
       "4  2000-01-21  21.549999  21.910000  20.500000  20.820000  20.820000       0"
      ]
     },
     "execution_count": 116,
     "metadata": {},
     "output_type": "execute_result"
    }
   ],
   "source": [
    "df_vix.head()"
   ]
  },
  {
   "cell_type": "code",
   "execution_count": 118,
   "metadata": {},
   "outputs": [],
   "source": [
    "# Convert Date to Index\n",
    "df_vix.index = pd.to_datetime(df_vix.Date, errors='coerce')"
   ]
  },
  {
   "cell_type": "code",
   "execution_count": 119,
   "metadata": {},
   "outputs": [
    {
     "data": {
      "text/html": [
       "<div>\n",
       "<style scoped>\n",
       "    .dataframe tbody tr th:only-of-type {\n",
       "        vertical-align: middle;\n",
       "    }\n",
       "\n",
       "    .dataframe tbody tr th {\n",
       "        vertical-align: top;\n",
       "    }\n",
       "\n",
       "    .dataframe thead th {\n",
       "        text-align: right;\n",
       "    }\n",
       "</style>\n",
       "<table border=\"1\" class=\"dataframe\">\n",
       "  <thead>\n",
       "    <tr style=\"text-align: right;\">\n",
       "      <th></th>\n",
       "      <th>Date</th>\n",
       "      <th>Open</th>\n",
       "      <th>High</th>\n",
       "      <th>Low</th>\n",
       "      <th>Close</th>\n",
       "      <th>Adj Close</th>\n",
       "      <th>Volume</th>\n",
       "    </tr>\n",
       "    <tr>\n",
       "      <th>Date</th>\n",
       "      <th></th>\n",
       "      <th></th>\n",
       "      <th></th>\n",
       "      <th></th>\n",
       "      <th></th>\n",
       "      <th></th>\n",
       "      <th></th>\n",
       "    </tr>\n",
       "  </thead>\n",
       "  <tbody>\n",
       "    <tr>\n",
       "      <th>2000-01-14</th>\n",
       "      <td>2000-01-14</td>\n",
       "      <td>19.830000</td>\n",
       "      <td>20.150000</td>\n",
       "      <td>19.510000</td>\n",
       "      <td>19.660000</td>\n",
       "      <td>19.660000</td>\n",
       "      <td>0</td>\n",
       "    </tr>\n",
       "    <tr>\n",
       "      <th>2000-01-18</th>\n",
       "      <td>2000-01-18</td>\n",
       "      <td>21.389999</td>\n",
       "      <td>21.629999</td>\n",
       "      <td>20.969999</td>\n",
       "      <td>21.500000</td>\n",
       "      <td>21.500000</td>\n",
       "      <td>0</td>\n",
       "    </tr>\n",
       "    <tr>\n",
       "      <th>2000-01-19</th>\n",
       "      <td>2000-01-19</td>\n",
       "      <td>22.150000</td>\n",
       "      <td>22.160000</td>\n",
       "      <td>21.440001</td>\n",
       "      <td>21.719999</td>\n",
       "      <td>21.719999</td>\n",
       "      <td>0</td>\n",
       "    </tr>\n",
       "    <tr>\n",
       "      <th>2000-01-20</th>\n",
       "      <td>2000-01-20</td>\n",
       "      <td>21.309999</td>\n",
       "      <td>22.600000</td>\n",
       "      <td>21.180000</td>\n",
       "      <td>21.750000</td>\n",
       "      <td>21.750000</td>\n",
       "      <td>0</td>\n",
       "    </tr>\n",
       "    <tr>\n",
       "      <th>2000-01-21</th>\n",
       "      <td>2000-01-21</td>\n",
       "      <td>21.549999</td>\n",
       "      <td>21.910000</td>\n",
       "      <td>20.500000</td>\n",
       "      <td>20.820000</td>\n",
       "      <td>20.820000</td>\n",
       "      <td>0</td>\n",
       "    </tr>\n",
       "  </tbody>\n",
       "</table>\n",
       "</div>"
      ],
      "text/plain": [
       "                  Date       Open       High        Low      Close  Adj Close  \\\n",
       "Date                                                                            \n",
       "2000-01-14  2000-01-14  19.830000  20.150000  19.510000  19.660000  19.660000   \n",
       "2000-01-18  2000-01-18  21.389999  21.629999  20.969999  21.500000  21.500000   \n",
       "2000-01-19  2000-01-19  22.150000  22.160000  21.440001  21.719999  21.719999   \n",
       "2000-01-20  2000-01-20  21.309999  22.600000  21.180000  21.750000  21.750000   \n",
       "2000-01-21  2000-01-21  21.549999  21.910000  20.500000  20.820000  20.820000   \n",
       "\n",
       "            Volume  \n",
       "Date                \n",
       "2000-01-14       0  \n",
       "2000-01-18       0  \n",
       "2000-01-19       0  \n",
       "2000-01-20       0  \n",
       "2000-01-21       0  "
      ]
     },
     "execution_count": 119,
     "metadata": {},
     "output_type": "execute_result"
    }
   ],
   "source": [
    "df_vix.head()"
   ]
  },
  {
   "cell_type": "code",
   "execution_count": 120,
   "metadata": {},
   "outputs": [],
   "source": [
    "df_vix = df_vix.drop(['Date'],axis=1)"
   ]
  },
  {
   "cell_type": "code",
   "execution_count": 121,
   "metadata": {},
   "outputs": [
    {
     "data": {
      "text/html": [
       "<div>\n",
       "<style scoped>\n",
       "    .dataframe tbody tr th:only-of-type {\n",
       "        vertical-align: middle;\n",
       "    }\n",
       "\n",
       "    .dataframe tbody tr th {\n",
       "        vertical-align: top;\n",
       "    }\n",
       "\n",
       "    .dataframe thead th {\n",
       "        text-align: right;\n",
       "    }\n",
       "</style>\n",
       "<table border=\"1\" class=\"dataframe\">\n",
       "  <thead>\n",
       "    <tr style=\"text-align: right;\">\n",
       "      <th></th>\n",
       "      <th>Open</th>\n",
       "      <th>High</th>\n",
       "      <th>Low</th>\n",
       "      <th>Close</th>\n",
       "      <th>Adj Close</th>\n",
       "      <th>Volume</th>\n",
       "    </tr>\n",
       "    <tr>\n",
       "      <th>Date</th>\n",
       "      <th></th>\n",
       "      <th></th>\n",
       "      <th></th>\n",
       "      <th></th>\n",
       "      <th></th>\n",
       "      <th></th>\n",
       "    </tr>\n",
       "  </thead>\n",
       "  <tbody>\n",
       "    <tr>\n",
       "      <th>2000-01-14</th>\n",
       "      <td>19.830000</td>\n",
       "      <td>20.150000</td>\n",
       "      <td>19.510000</td>\n",
       "      <td>19.660000</td>\n",
       "      <td>19.660000</td>\n",
       "      <td>0</td>\n",
       "    </tr>\n",
       "    <tr>\n",
       "      <th>2000-01-18</th>\n",
       "      <td>21.389999</td>\n",
       "      <td>21.629999</td>\n",
       "      <td>20.969999</td>\n",
       "      <td>21.500000</td>\n",
       "      <td>21.500000</td>\n",
       "      <td>0</td>\n",
       "    </tr>\n",
       "    <tr>\n",
       "      <th>2000-01-19</th>\n",
       "      <td>22.150000</td>\n",
       "      <td>22.160000</td>\n",
       "      <td>21.440001</td>\n",
       "      <td>21.719999</td>\n",
       "      <td>21.719999</td>\n",
       "      <td>0</td>\n",
       "    </tr>\n",
       "    <tr>\n",
       "      <th>2000-01-20</th>\n",
       "      <td>21.309999</td>\n",
       "      <td>22.600000</td>\n",
       "      <td>21.180000</td>\n",
       "      <td>21.750000</td>\n",
       "      <td>21.750000</td>\n",
       "      <td>0</td>\n",
       "    </tr>\n",
       "    <tr>\n",
       "      <th>2000-01-21</th>\n",
       "      <td>21.549999</td>\n",
       "      <td>21.910000</td>\n",
       "      <td>20.500000</td>\n",
       "      <td>20.820000</td>\n",
       "      <td>20.820000</td>\n",
       "      <td>0</td>\n",
       "    </tr>\n",
       "  </tbody>\n",
       "</table>\n",
       "</div>"
      ],
      "text/plain": [
       "                 Open       High        Low      Close  Adj Close  Volume\n",
       "Date                                                                     \n",
       "2000-01-14  19.830000  20.150000  19.510000  19.660000  19.660000       0\n",
       "2000-01-18  21.389999  21.629999  20.969999  21.500000  21.500000       0\n",
       "2000-01-19  22.150000  22.160000  21.440001  21.719999  21.719999       0\n",
       "2000-01-20  21.309999  22.600000  21.180000  21.750000  21.750000       0\n",
       "2000-01-21  21.549999  21.910000  20.500000  20.820000  20.820000       0"
      ]
     },
     "execution_count": 121,
     "metadata": {},
     "output_type": "execute_result"
    }
   ],
   "source": [
    "df_vix.head()"
   ]
  },
  {
   "cell_type": "code",
   "execution_count": 122,
   "metadata": {},
   "outputs": [],
   "source": [
    "df_vix = df_vix['2018-10-14':'2018-10-21']['Adj Close']"
   ]
  },
  {
   "cell_type": "code",
   "execution_count": 123,
   "metadata": {},
   "outputs": [
    {
     "data": {
      "text/plain": [
       "Date\n",
       "2018-10-15    21.299999\n",
       "2018-10-16    17.620001\n",
       "2018-10-17    17.400000\n",
       "2018-10-18    20.059999\n",
       "2018-10-19    19.889999\n",
       "Name: Adj Close, dtype: float64"
      ]
     },
     "execution_count": 123,
     "metadata": {},
     "output_type": "execute_result"
    }
   ],
   "source": [
    "df_vix.head(5)"
   ]
  },
  {
   "cell_type": "code",
   "execution_count": 124,
   "metadata": {},
   "outputs": [
    {
     "data": {
      "image/png": "[encoded data removed]",
      "text/plain": [
       "<Figure size 720x432 with 1 Axes>"
      ]
     },
     "metadata": {
      "needs_background": "light"
     },
     "output_type": "display_data"
    }
   ],
   "source": [
    "df_merged = pd.DataFrame({\n",
    "    'Calculated': pd_calcs['VIX'],\n",
    "    'Actual': df_vix,\n",
    "})\n",
    "df_merged.plot(figsize=(10, 6), grid=True, style=['b', 'ro']);"
   ]
  },
  {
   "cell_type": "code",
   "execution_count": null,
   "metadata": {},
   "outputs": [],
   "source": []
  }
 ],
 "metadata": {
  "kernelspec": {
   "display_name": "Python 3",
   "language": "python",
   "name": "python3"
  },
  "language_info": {
   "codemirror_mode": {
    "name": "ipython",
    "version": 3
   },
   "file_extension": ".py",
   "mimetype": "text/x-python",
   "name": "python",
   "nbconvert_exporter": "python",
   "pygments_lexer": "ipython3",
   "version": "3.8.3"
  }
 },
 "nbformat": 4,
 "nbformat_minor": 4
}
