{
 "cells": [
  {
   "cell_type": "markdown",
   "metadata": {},
   "source": [
    "<div class=\"alert alert-block alert-success\">\n",
    "<b>An Introduction to Option:</b> \"An option is a derivative of an asset that gives an owner the right but not the obligation to transact the underlying asset at a certain date for a certain price, known as the maturity date and strike price, respectively.\"\n",
    "    \n",
    "<b>An Introduction to Call Option:</b> \"The call option gives the buyer the right to buy an asset by a certain date for a certain price. A seller or writer of a call option is obligated to sell the underlying security to the buyer at the agreed price, should the buyer exercise his/her rights on the agreed date.\"\n",
    "    \n",
    "<b>An Introduction to Put Option:</b> \"gives the buyer the right to sell the underlying asset by a certain date for a certain price. A seller or writer of a put option is obligated to buy the underlying security from the buyer at the agreed price, should the buyer exercise his/her rights on the agreed date.\"\n",
    "</div>"
   ]
  },
  {
   "cell_type": "markdown",
   "metadata": {},
   "source": [
    "<div class=\"alert alert-block alert-warning\">\n",
    "The most options that are available are the European Options and American Options. There are other variant as well like Bermudan options or\n",
    "Asian Options as well. Here in this section , we will discuss about mainly European Options."
   ]
  },
  {
   "cell_type": "markdown",
   "metadata": {},
   "source": [
    "<div class=\"alert alert-block alert-success\">\n",
    "<b>Problem Statement:</b> Consider a two-step binomial tree. A non-dividend paying stock price starts at $$$100,$$ and in each of the two time steps, the stock may go up by 20 percent or go down by 20 percent.We suppose that the risk-free rate is 5 percent per annum and the time to maturity T is 2 years. We would like to find the value of an European put option with a strike price K of $$$102.,$$\n",
    "</div>"
   ]
  },
  {
   "cell_type": "markdown",
   "metadata": {},
   "source": [
    "<div class=\"alert alert-block alert-info\">\n",
    "<b><span style=\"font-family:Comic Sans MS\">Solution:</span></b>\n",
    "</div>"
   ]
  },
  {
   "cell_type": "markdown",
   "metadata": {},
   "source": [
    "__Pricing an European Option__"
   ]
  },
  {
   "cell_type": "code",
   "execution_count": 1,
   "metadata": {},
   "outputs": [],
   "source": [
    "import math\n",
    "\n",
    "r = 0.05\n",
    "T = 2\n",
    "t = T/2\n",
    "u = 1.2\n",
    "d = 0.8\n",
    "\n",
    "q = (math.exp(r*t)-d)/(u-d)"
   ]
  },
  {
   "cell_type": "code",
   "execution_count": 2,
   "metadata": {},
   "outputs": [
    {
     "name": "stdout",
     "output_type": "stream",
     "text": [
      "q is 0.6281777409400603\n"
     ]
    }
   ],
   "source": [
    "# Calculate the risk-neutral probability 'q' of the stock given in the preceeding example:\n",
    "print('q is', q)"
   ]
  },
  {
   "cell_type": "markdown",
   "metadata": {},
   "source": [
    "<div class=\"alert alert-block alert-info\">\n",
    "<b><span style=\"font-family:Comic Sans MS\">Define the custom function to calculate the European put option price </span></b>\n",
    "</div>"
   ]
  },
  {
   "cell_type": "code",
   "execution_count": 3,
   "metadata": {},
   "outputs": [],
   "source": [
    "import math\n",
    "\n",
    "\"\"\" \n",
    "Stores common attributes of a stock option \n",
    "\"\"\"\n",
    "class StockOption(object):\n",
    "    def __init__(\n",
    "        self, S0, K, r=0.05, T=1, N=2, pu=0, pd=0, \n",
    "        div=0, sigma=0, is_put=False, is_am=False):\n",
    "        \"\"\"\n",
    "        Initialize the stock option base class.\n",
    "        Defaults to European call unless specified.\n",
    "\n",
    "        :param S0: initial stock price\n",
    "        :param K: strike price\n",
    "        :param r: risk-free interest rate\n",
    "        :param T: time to maturity\n",
    "        :param N: number of time steps\n",
    "        :param pu: probability at up state\n",
    "        :param pd: probability at down state\n",
    "        :param div: Dividend yield\n",
    "        :param is_put: True for a put option,\n",
    "                False for a call option\n",
    "        :param is_am: True for an American option,\n",
    "                False for a European option\n",
    "        \"\"\"\n",
    "        self.S0 = S0\n",
    "        self.K = K\n",
    "        self.r = r\n",
    "        self.T = T\n",
    "        self.N = max(1, N)\n",
    "        self.STs = [] # Declare the stock prices tree\n",
    "\n",
    "        \"\"\" Optional parameters used by derived classes \"\"\"\n",
    "        self.pu, self.pd = pu, pd\n",
    "        self.div = div\n",
    "        self.sigma = sigma\n",
    "        self.is_call = not is_put\n",
    "        self.is_european = not is_am\n",
    "        \n",
    "    \n",
    "    @property\n",
    "    def dt(self):\n",
    "        \"\"\" Single time step, in years \"\"\"\n",
    "        return self.T/float(self.N)\n",
    "    \n",
    "    @property\n",
    "    def df(self):\n",
    "        \"\"\" The discount factor \"\"\"\n",
    "        return math.exp(-(self.r-self.div)*self.dt)"
   ]
  },
  {
   "cell_type": "code",
   "execution_count": 4,
   "metadata": {},
   "outputs": [],
   "source": [
    "import math\n",
    "import numpy as np\n",
    "from decimal import Decimal\n",
    "\n",
    "\"\"\" \n",
    "Price a European option by the binomial tree model \n",
    "\"\"\"\n",
    "class BinEurOpt(StockOption):\n",
    "\n",
    "    def setup_parameters(self):\n",
    "        # Required calculations for the model\n",
    "        self.M = self.N+1  # Number of terminal nodes of tree\n",
    "        self.u = 1+self.pu  # Expected value in the up state\n",
    "        self.d = 1-self.pd  # Expected value in the down state\n",
    "        self.qu = (math.exp(\n",
    "            (self.r-self.div)*self.dt)-self.d)/(self.u-self.d)\n",
    "        self.qd = 1-self.qu\n",
    "\n",
    "    def init_stock_price_tree(self):\n",
    "        # Initialize terminal price nodes to zeros\n",
    "        self.STs = np.zeros(self.M)\n",
    "\n",
    "        # Calculate expected stock prices for each node\n",
    "        for i in range(self.M):\n",
    "            self.STs[i] = self.S0 * (self.u**(self.N-i)) * (self.d**i)\n",
    "\n",
    "    def init_payoffs_tree(self):\n",
    "        \"\"\"\n",
    "        Returns the payoffs when the option \n",
    "        expires at terminal nodes\n",
    "        \"\"\" \n",
    "        if self.is_call:\n",
    "            return np.maximum(0, self.STs-self.K)\n",
    "        else:\n",
    "            return np.maximum(0, self.K-self.STs)\n",
    "\n",
    "    def traverse_tree(self, payoffs):\n",
    "        \"\"\"\n",
    "        Starting from the time the option expires, traverse\n",
    "        backwards and calculate discounted payoffs at each node\n",
    "        \"\"\"\n",
    "        for i in range(self.N):\n",
    "            payoffs = (payoffs[:-1]*self.qu + \n",
    "                       payoffs[1:]*self.qd)*self.df\n",
    "\n",
    "        return payoffs\n",
    "\n",
    "    def begin_tree_traversal(self):\n",
    "        payoffs = self.init_payoffs_tree()\n",
    "        return self.traverse_tree(payoffs)\n",
    "\n",
    "    def price(self):\n",
    "        \"\"\" Entry point of the pricing implementation \"\"\"\n",
    "        self.setup_parameters()\n",
    "        self.init_stock_price_tree()\n",
    "        payoffs = self.begin_tree_traversal()\n",
    "\n",
    "        # Option value converges to first node\n",
    "        return payoffs[0]"
   ]
  },
  {
   "cell_type": "code",
   "execution_count": 5,
   "metadata": {},
   "outputs": [],
   "source": [
    "eu_option = BinEurOpt(100, 102, r=0.05, T=2, N=2, pu=0.2, pd=0.2, is_put=True)"
   ]
  },
  {
   "cell_type": "code",
   "execution_count": 6,
   "metadata": {},
   "outputs": [
    {
     "name": "stdout",
     "output_type": "stream",
     "text": [
      "The calculated European put option price is: 7.289744579409192\n"
     ]
    }
   ],
   "source": [
    "print('The calculated European put option price is:', eu_option.price())"
   ]
  },
  {
   "cell_type": "markdown",
   "metadata": {},
   "source": [
    "<div class=\"alert alert-block alert-info\">\n",
    "<b><span style=\"font-family:Comic Sans MS\">Define the custom function to calculate the American put option price </span></b>\n",
    "</div>"
   ]
  },
  {
   "cell_type": "code",
   "execution_count": 7,
   "metadata": {},
   "outputs": [],
   "source": [
    "import math\n",
    "import numpy as np\n",
    "\n",
    "\"\"\" \n",
    "Calculate the Price of a European or American option by the binomial tree \n",
    "\"\"\"\n",
    "class BinomialTreeOption(StockOption):\n",
    "\n",
    "    def setup_parameters(self):\n",
    "        self.u = 1+self.pu  # Expected value in the up state\n",
    "        self.d = 1-self.pd  # Expected value in the down state\n",
    "        self.qu = (math.exp(\n",
    "            (self.r-self.div)*self.dt)-self.d)/(self.u-self.d)\n",
    "        self.qd = 1-self.qu\n",
    "\n",
    "    def init_stock_price_tree(self):\n",
    "        # Initialize a 2D tree at T=0\n",
    "        self.STs = [np.array([self.S0])]\n",
    "\n",
    "        # Simulate the possible stock prices path\n",
    "        for i in range(self.N):\n",
    "            prev_branches = self.STs[-1]\n",
    "            st = np.concatenate(\n",
    "                (prev_branches*self.u, \n",
    "                 [prev_branches[-1]*self.d]))\n",
    "            self.STs.append(st) # Add nodes at each time step\n",
    "\n",
    "    def init_payoffs_tree(self):\n",
    "        if self.is_call:\n",
    "            return np.maximum(0, self.STs[self.N]-self.K)\n",
    "        else:\n",
    "            return np.maximum(0, self.K-self.STs[self.N])\n",
    "\n",
    "    def check_early_exercise(self, payoffs, node):\n",
    "        if self.is_call:\n",
    "            return np.maximum(payoffs, self.STs[node] - self.K)\n",
    "        else:\n",
    "            return np.maximum(payoffs, self.K - self.STs[node])\n",
    "\n",
    "    def traverse_tree(self, payoffs):\n",
    "        for i in reversed(range(self.N)):\n",
    "            # The payoffs from NOT exercising the option\n",
    "            payoffs = (payoffs[:-1]*self.qu + \n",
    "                       payoffs[1:]*self.qd)*self.df\n",
    "\n",
    "            # Payoffs from exercising, for American options\n",
    "            if not self.is_european:\n",
    "                payoffs = self.check_early_exercise(payoffs,i)\n",
    "\n",
    "        return payoffs\n",
    "\n",
    "    def begin_tree_traversal(self):\n",
    "        payoffs = self.init_payoffs_tree()\n",
    "        return self.traverse_tree(payoffs)\n",
    "\n",
    "    def price(self):\n",
    "        \"\"\"  The pricing implementation \"\"\"\n",
    "        self.setup_parameters()\n",
    "        self.init_stock_price_tree()\n",
    "        payoffs = self.begin_tree_traversal()\n",
    "        return payoffs[0]"
   ]
  },
  {
   "cell_type": "code",
   "execution_count": 8,
   "metadata": {},
   "outputs": [],
   "source": [
    "am_option = BinomialTreeOption(100, 102, r=0.05, T=2, N=2, pu=0.2, pd=0.2, is_put=True, is_am=True)"
   ]
  },
  {
   "cell_type": "code",
   "execution_count": 9,
   "metadata": {},
   "outputs": [
    {
     "name": "stdout",
     "output_type": "stream",
     "text": [
      "The calculated American put option price is: 9.049201805306126\n"
     ]
    }
   ],
   "source": [
    "print(\"The calculated American put option price is:\", am_option.price())"
   ]
  },
  {
   "cell_type": "markdown",
   "metadata": {},
   "source": [
    "<div class=\"alert alert-block alert-info\">\n",
    "<b><span style=\"font-family:Comic Sans MS\">Graphical representation of binomial tree model </span></b>\n",
    "</div>"
   ]
  },
  {
   "cell_type": "code",
   "execution_count": 10,
   "metadata": {},
   "outputs": [],
   "source": [
    "def binomial_grid(n):\n",
    "    import networkx as nx, matplotlib.pyplot as plt\n",
    "    G = nx.Graph()\n",
    "    for i in range(0, n + 1):\n",
    "        for j in range(1, i + 2):\n",
    "            if i < n:\n",
    "                G.add_edge((i, j), (i + 1, j))\n",
    "                G.add_edge((i, j), (i + 1, j + 1))\n",
    "\n",
    "    posG = {}\n",
    "    for node in G.nodes():\n",
    "        posG[node] = (\n",
    "         node[0], n + 2 + node[0] - 2 * node[1])\n",
    "\n",
    "    nx.draw(G, pos=posG)"
   ]
  },
  {
   "cell_type": "code",
   "execution_count": 11,
   "metadata": {},
   "outputs": [
    {
     "data": {
      "image/png": "[encoded data removed]",
      "text/plain": [
       "<Figure size 432x288 with 1 Axes>"
      ]
     },
     "metadata": {},
     "output_type": "display_data"
    }
   ],
   "source": [
    "import numpy as np\n",
    "import matplotlib.pyplot as plt\n",
    "#\n",
    "s=100;\n",
    "x=10;\n",
    "r=0.05;\n",
    "sigma=0.2;\n",
    "T=3./12.;\n",
    "n=2;\n",
    "q=0 # q is dividend yield \n",
    "deltaT=T/n\t# step\n",
    "u=np.exp(sigma*np.sqrt(deltaT)) \n",
    "d=1/u\n",
    "a=np.exp((r-q)*deltaT) \n",
    "p=(a-d)/(u-d)\n",
    "s_dollar='S=$'\n",
    "c_dollar='c=$' \n",
    "p2=round(p,2)\n",
    "plt.figtext(0.15,0.91,'Note: x='+str(x)+', r='+str(r)+', deltaT='+str(deltaT)+',p='+str(p2))\n",
    "plt.figtext(0.35,0.61,'p')\n",
    "plt.figtext(0.65,0.76,'p')\n",
    "plt.figtext(0.65,0.43,'p')\n",
    "plt.figtext(0.35,0.36,'1-p')\n",
    "plt.figtext(0.65,0.53,'1-p')\n",
    "plt.figtext(0.65,0.21,'1-p')\n",
    "\n",
    "# at level 2 \n",
    "su=round(s*u,2);\n",
    "suu=round(s*u*u,2) \n",
    "sd=round(s*d,2);\n",
    "sdd=round(s*d*d,2) \n",
    "sud=s\n",
    "c_suu=round(max(suu-x,0),2) \n",
    "c_s=round(max(s-x,0),2) \n",
    "c_sdd=round(max(sdd-x,0),2) \n",
    "plt.figtext(0.8,0.94,'s*u*u') \n",
    "plt.figtext(0.8,0.91,s_dollar+str(suu)) \n",
    "plt.figtext(0.8,0.87,c_dollar+str(c_suu)) \n",
    "plt.figtext(0.8,0.6,s_dollar+str(sud)) \n",
    "plt.figtext(0.8,0.64,'s*u*d=s') \n",
    "plt.figtext(0.8,0.57,c_dollar+str(c_s)) \n",
    "plt.figtext(0.8,0.32,'s*d*d') \n",
    "plt.figtext(0.8,0.28,s_dollar+str(sdd)) \n",
    "plt.figtext(0.8,0.24,c_dollar+str(c_sdd))\n",
    "\n",
    "# at level 1\n",
    "c_01=round((p*c_suu+(1-p)*c_s)*np.exp(-r*deltaT),2) \n",
    "c_02=round((p*c_s+(1-p)*c_sdd)*np.exp(-r*deltaT),2)\n",
    "\n",
    "plt.figtext(0.43,0.78,'s*u') \n",
    "plt.figtext(0.43,0.74,s_dollar+str(su)) \n",
    "plt.figtext(0.43,0.71,c_dollar+str(c_01)) \n",
    "plt.figtext(0.43,0.32,'s*d') \n",
    "plt.figtext(0.43,0.27,s_dollar+str(sd)) \n",
    "plt.figtext(0.43,0.23,c_dollar+str(c_02))\n",
    "# at level 0 (today)\n",
    "\n",
    "c_00=round(p*np.exp(-r*deltaT)*c_01+(1-p)*np.exp(-r*deltaT)*c_02,2) \n",
    "plt.figtext(0.09,0.6,s_dollar+str(s)) \n",
    "plt.figtext(0.09,0.56,c_dollar+str(c_00)) \n",
    "binomial_grid(n)\n",
    "plt.show()"
   ]
  },
  {
   "cell_type": "markdown",
   "metadata": {},
   "source": [
    "<div class=\"alert alert-block alert-info\">\n",
    "<b><span style=\"font-family:Comic Sans MS\">Cox-Ross-Rubinstein binomial tree option pricing model </span></b>\n",
    "</div>"
   ]
  },
  {
   "cell_type": "markdown",
   "metadata": {},
   "source": [
    "<div class=\"alert alert-block alert-warning\">\n",
    "Consider again the two-step binomial tree. \n",
    "    \n",
    "- The non-dividend paying stock has a current price of $$ $100 , $$ \n",
    "    \n",
    "- and a volatility of 35 percent.\n",
    "    \n",
    "- Suppose that the risk-free rate is 5 percent per annum \n",
    "    \n",
    "- and the time to maturity T is 2 years \n",
    "    \n",
    "We would like to find the value of an European put option with a strike price K of $102 by the CRR model:"
   ]
  },
  {
   "cell_type": "code",
   "execution_count": 20,
   "metadata": {},
   "outputs": [],
   "source": [
    "import math\n",
    "\n",
    "\"\"\" \n",
    "Price an option by the binomial CRR model \n",
    "\"\"\"\n",
    "class BinomialCRROption(BinomialTreeOption):\n",
    "    def setup_parameters(self):\n",
    "        self.u = math.exp(self.sigma * math.sqrt(self.dt))\n",
    "        self.d = 1./self.u\n",
    "        self.qu = (math.exp((self.r-self.div)*self.dt) - \n",
    "                   self.d)/(self.u-self.d)\n",
    "        self.qd = 1-self.qu"
   ]
  },
  {
   "cell_type": "code",
   "execution_count": 21,
   "metadata": {},
   "outputs": [],
   "source": [
    "eu_option = BinomialCRROption(100, 102, \n",
    "                              r=0.05, \n",
    "                              T=2, \n",
    "                              N=2, \n",
    "                              sigma=0.35, \n",
    "                              is_put=True)"
   ]
  },
  {
   "cell_type": "code",
   "execution_count": 22,
   "metadata": {},
   "outputs": [
    {
     "name": "stdout",
     "output_type": "stream",
     "text": [
      "The calculated European put option price is: 13.457793676858904\n"
     ]
    }
   ],
   "source": [
    "print('The calculated European put option price is:', eu_option.price())"
   ]
  },
  {
   "cell_type": "code",
   "execution_count": 23,
   "metadata": {},
   "outputs": [],
   "source": [
    "am_option = BinomialCRROption(100, 102, \n",
    "                              r=0.05, \n",
    "                              T=2, \n",
    "                              N=2, \n",
    "                              sigma=0.35, \n",
    "                              is_put=True, \n",
    "                              is_am=True)"
   ]
  },
  {
   "cell_type": "code",
   "execution_count": 24,
   "metadata": {},
   "outputs": [
    {
     "name": "stdout",
     "output_type": "stream",
     "text": [
      "The calculated American put option price is: 15.894043975009147\n"
     ]
    }
   ],
   "source": [
    "print('The calculated American put option price is:', am_option.price())"
   ]
  },
  {
   "cell_type": "markdown",
   "metadata": {},
   "source": [
    "<div class=\"alert alert-block alert-info\">\n",
    "<b><span style=\"font-family:Comic Sans MS\">Leisen-Reimer(LR) binomial tree option pricing model </span></b>\n",
    "</div>"
   ]
  },
  {
   "cell_type": "markdown",
   "metadata": {},
   "source": [
    "<details>\n",
    "<summary>\n",
    "<i><b>\"Binomial Models For Option Valuation - Examining And Improving convergence\" By LEISEN & REIMER</b> </i>\n",
    "<a href=\"chrome-extension://ohfgljdgelakfkefopgklcohadegdpjf/http://janroman.dhis.org/finance/Binomial%20Models/Leisen%20Reimer.pdf\">\n",
    "Useful Source</a>\n",
    "</summary>\n",
    "<img src=\"img/LR_BIN_MODEL.png\"/>\n",
    "<p></p>\n",
    "</details>"
   ]
  },
  {
   "cell_type": "code",
   "execution_count": 25,
   "metadata": {},
   "outputs": [],
   "source": [
    "import math\n",
    "\n",
    "\"\"\" \n",
    "Price an option by the Leisen-Reimer tree\n",
    "\"\"\"\n",
    "class BinomialLROption(BinomialTreeOption):\n",
    "\n",
    "    def setup_parameters(self):\n",
    "        odd_N = self.N if (self.N%2 == 0) else (self.N+1)\n",
    "        d1 = (math.log(self.S0/self.K) +\n",
    "              ((self.r-self.div) +\n",
    "               (self.sigma**2)/2.)*self.T)/\\\n",
    "            (self.sigma*math.sqrt(self.T))\n",
    "        d2 = (math.log(self.S0/self.K) +\n",
    "              ((self.r-self.div) -\n",
    "               (self.sigma**2)/2.)*self.T)/\\\n",
    "            (self.sigma * math.sqrt(self.T))\n",
    "\n",
    "        pbar = self.pp_2_inversion(d1, odd_N)\n",
    "        self.p = self.pp_2_inversion(d2, odd_N)\n",
    "        self.u = 1/self.df * pbar/self.p\n",
    "        self.d = (1/self.df-self.p*self.u)/(1-self.p)\n",
    "        self.qu = self.p\n",
    "        self.qd = 1-self.p\n",
    "\n",
    "    def pp_2_inversion(self, z, n):\n",
    "        return .5 + math.copysign(1, z)*\\\n",
    "            math.sqrt(.25 - .25*\n",
    "                math.exp(\n",
    "                    -((z/(n+1./3.+.1/(n+1)))**2.)*(n+1./6.)\n",
    "                )\n",
    "            )"
   ]
  },
  {
   "cell_type": "code",
   "execution_count": 26,
   "metadata": {},
   "outputs": [],
   "source": [
    "eu_option = BinomialLROption(100, 102, r=0.05, T=2, N=4, sigma=0.35, is_put=True)\n",
    "am_option = BinomialLROption(100, 102, r=0.05, T=2, N=4, sigma=0.35, is_put=True, is_am=True)"
   ]
  },
  {
   "cell_type": "code",
   "execution_count": 27,
   "metadata": {},
   "outputs": [
    {
     "name": "stdout",
     "output_type": "stream",
     "text": [
      "The calculated European put option price is: 13.182885304677367\n",
      "The calculated American put option price is: 14.901491527088913\n"
     ]
    }
   ],
   "source": [
    "print('The calculated European put option price is:', eu_option.price())\n",
    "print('The calculated American put option price is:', am_option.price())"
   ]
  },
  {
   "cell_type": "markdown",
   "metadata": {},
   "source": [
    "<div class=\"alert alert-block alert-success\">\n",
    "<b>An Introduction to Future:</b> \"Futures are derivative financial contracts that obligate the parties to transact an asset at a predetermined future date and price. The buyer must purchase or the seller must sell the underlying asset at the set price, regardless of the current market price at the expiration date.\n",
    "Underlying assets include physical commodities or other financial instruments. Futures contracts detail the quantity of the underlying asset and are standardized to facilitate trading on a futures exchange. Futures can be used for hedging or trade speculation.\" ---- <b>Investopedia</b>\n",
    "\n",
    "</div>"
   ]
  },
  {
   "cell_type": "markdown",
   "metadata": {},
   "source": [
    "<div class=\"alert alert-block alert-info\">\n",
    "<b><span style=\"font-family:Comic Sans MS\"> Payoff and profit/loss functions for call and put options </span></b>\n",
    "</div>"
   ]
  },
  {
   "cell_type": "markdown",
   "metadata": {},
   "source": [
    "<div class=\"alert alert-block alert-success\">\n",
    "$$ PO (call) = max(S_T - X, 0), $$ \n",
    "</div>"
   ]
  },
  {
   "cell_type": "code",
   "execution_count": 12,
   "metadata": {},
   "outputs": [],
   "source": [
    "# Base custom function to calculate the Payoff for a call option\n",
    "def payoff_call(sT, X):\n",
    "    return (sT-X+abs(sT-X))/2"
   ]
  },
  {
   "cell_type": "code",
   "execution_count": 13,
   "metadata": {},
   "outputs": [
    {
     "data": {
      "text/plain": [
       "0.0"
      ]
     },
     "execution_count": 13,
     "metadata": {},
     "output_type": "execute_result"
    }
   ],
   "source": [
    "payoff_call(50,55)"
   ]
  },
  {
   "cell_type": "code",
   "execution_count": 14,
   "metadata": {},
   "outputs": [
    {
     "data": {
      "text/plain": [
       "45.0"
      ]
     },
     "execution_count": 14,
     "metadata": {},
     "output_type": "execute_result"
    }
   ],
   "source": [
    "payoff_call(100,55)"
   ]
  },
  {
   "cell_type": "code",
   "execution_count": 15,
   "metadata": {},
   "outputs": [
    {
     "data": {
      "text/plain": [
       "array([10, 20, 30, 40, 50, 60, 70, 80, 90])"
      ]
     },
     "execution_count": 15,
     "metadata": {},
     "output_type": "execute_result"
    }
   ],
   "source": [
    "# We can have a array of the first input variable - Stock Price\n",
    "import numpy as np\n",
    "X = 50\n",
    "sT=np.arange(10,100,10)\n",
    "sT"
   ]
  },
  {
   "cell_type": "code",
   "execution_count": 16,
   "metadata": {},
   "outputs": [
    {
     "data": {
      "text/plain": [
       "array([ 0.,  0.,  0.,  0.,  0., 10., 20., 30., 40.])"
      ]
     },
     "execution_count": 16,
     "metadata": {},
     "output_type": "execute_result"
    }
   ],
   "source": [
    "payoff_call(sT,X)"
   ]
  },
  {
   "cell_type": "code",
   "execution_count": 17,
   "metadata": {},
   "outputs": [
    {
     "data": {
      "image/png": "[encoded data removed]",
      "text/plain": [
       "<Figure size 432x288 with 1 Axes>"
      ]
     },
     "metadata": {
      "needs_background": "light"
     },
     "output_type": "display_data"
    }
   ],
   "source": [
    "# We can show the relationship grphically as well\n",
    "import numpy as np\n",
    "import matplotlib.pyplot as plt\n",
    "S = np.arange(20,200,5)\n",
    "X=40\n",
    "payoff=(abs(S-X)+S-X)/2\n",
    "plt.ylim(-10,50)\n",
    "plt.plot(S,payoff)\n",
    "plt.title(\"Payoff for a call (X=40)\")\n",
    "plt.xlabel(\"stock price\")\n",
    "plt.ylabel(\"Payoff of a call\")\n",
    "plt.show()"
   ]
  },
  {
   "cell_type": "markdown",
   "metadata": {},
   "source": [
    "<div class=\"alert alert-block alert-info\">\n",
    "<b><span style=\"font-family:Comic Sans MS\"> Profit and Loss function for call option Buyer and Seller </span></b>\n",
    "</div>"
   ]
  },
  {
   "cell_type": "markdown",
   "metadata": {},
   "source": [
    "<div class=\"alert alert-block alert-success\">\n",
    "For a call option buyer:\n",
    "$$ Profit/Loss(call) = max(S_T - X, 0) - c, $$ \n",
    "and\n",
    "For a call option seller:\n",
    "$$ Profit/Loss(call) = c - max(S_T - X, 0), $$\n",
    "</div>"
   ]
  },
  {
   "cell_type": "markdown",
   "metadata": {},
   "source": [
    "__Profit and Loss function for a call option__"
   ]
  },
  {
   "cell_type": "code",
   "execution_count": 18,
   "metadata": {},
   "outputs": [
    {
     "data": {
      "image/png": "[encoded data removed]",
      "text/plain": [
       "<Figure size 432x288 with 1 Axes>"
      ]
     },
     "metadata": {
      "needs_background": "light"
     },
     "output_type": "display_data"
    }
   ],
   "source": [
    "import numpy as np\n",
    "import matplotlib.pyplot as plt\n",
    "\n",
    "S = np.arange(30,90,5)\n",
    "X=45;C=2.5\n",
    "y=(abs(S-X)+S-X)/2 - C\n",
    "y2=np.zeros(len(S))\n",
    "plt.ylim(-30,50)\n",
    "plt.plot(S,y)\n",
    "plt.plot(S,y2,'-.')\n",
    "plt.plot(S,-y)\n",
    "plt.title(\"Profit/Loss function\")\n",
    "plt.xlabel('Stock price')\n",
    "plt.ylabel('Profit (loss)')\n",
    "plt.annotate('Call option buyer', xy=(55,15), xytext=(35,20),\n",
    "             arrowprops=dict(facecolor='blue',shrink=0.01),)\n",
    "plt.annotate('Call option seller', xy=(55,-10), xytext=(40,-20),\n",
    "             arrowprops=dict(facecolor='red',shrink=0.01),)\n",
    "plt.show()"
   ]
  },
  {
   "cell_type": "markdown",
   "metadata": {},
   "source": [
    "__Profit and Loss function for a put option__"
   ]
  },
  {
   "cell_type": "markdown",
   "metadata": {},
   "source": [
    "<div class=\"alert alert-block alert-success\">\n",
    "payoff function for a put option:\n",
    "    \n",
    "$$ PO(put) = max(X - S_T,0), $$\n",
    "\n",
    "and For a put option buyer, the profit/loss function is:\n",
    "    \n",
    "$$ Profit/Loss(put) = max(X - S_T, 0) - p, $$ \n",
    "    \n",
    "and\n",
    "    \n",
    "For a put option seller:\n",
    "    \n",
    "$$ Profit/Loss(put) = p - max(X - S_T, 0) $$\n",
    "</div>"
   ]
  },
  {
   "cell_type": "code",
   "execution_count": 19,
   "metadata": {},
   "outputs": [
    {
     "data": {
      "image/png": "[encoded data removed]",
      "text/plain": [
       "<Figure size 432x288 with 1 Axes>"
      ]
     },
     "metadata": {
      "needs_background": "light"
     },
     "output_type": "display_data"
    }
   ],
   "source": [
    "import numpy as np\n",
    "import matplotlib.pyplot as plt\n",
    "S = np.arange(30,90,5)\n",
    "X=45;P=2;C=2.5\n",
    "y=C-(abs(X-S)+X-S)/2 \n",
    "y2=np.zeros(len(S)) \n",
    "x3=[X, X]\n",
    "y3=[-30,10]\n",
    "plt.ylim(-30,50)\n",
    "plt.plot(S,y) \n",
    "plt.plot(S,y2,'-.') \n",
    "plt.plot(S,-y) \n",
    "plt.plot(x3,y3)\n",
    "plt.title(\"Profit/Loss function for a put option\") \n",
    "plt.xlabel('Stock price')\n",
    "plt.ylabel('Profit (loss)')\n",
    "plt.annotate('Put option buyer', xy=(35,12), xytext=(35,45), arrowprops=dict(facecolor='red',shrink=0.01),)\n",
    "plt.annotate('Put option seller', xy=(35,-10), xytext=(35,-25), arrowprops=dict(facecolor='blue',shrink=0.01),)\n",
    "plt.annotate('Exercise price', xy=(45,-30), xytext=(50,-20), arrowprops=dict(facecolor='black',shrink=0.01),)\n",
    "plt.show()"
   ]
  },
  {
   "cell_type": "markdown",
   "metadata": {},
   "source": [
    "__Relationship between European Option and American Option__"
   ]
  },
  {
   "cell_type": "markdown",
   "metadata": {},
   "source": [
    "<div class=\"alert alert-block alert-success\">\n",
    " \n",
    "$$ C_a >= C_e  $$\n",
    "\n",
    "$$ P_a >= P_e  $$\n",
    "\n",
    "</div>"
   ]
  },
  {
   "cell_type": "markdown",
   "metadata": {},
   "source": [
    "<div class=\"alert alert-block alert-info\">\n",
    "<b><span style=\"font-family:Comic Sans MS\"> Hedging Strategy </span></b>\n",
    "</div>"
   ]
  },
  {
   "cell_type": "markdown",
   "metadata": {},
   "source": [
    "Please refer to the discussion based on the presentation deck for this section"
   ]
  },
  {
   "cell_type": "markdown",
   "metadata": {},
   "source": []
  },
  {
   "cell_type": "code",
   "execution_count": null,
   "metadata": {},
   "outputs": [],
   "source": []
  }
 ],
 "metadata": {
  "kernelspec": {
   "display_name": "Python 3",
   "language": "python",
   "name": "python3"
  },
  "language_info": {
   "codemirror_mode": {
    "name": "ipython",
    "version": 3
   },
   "file_extension": ".py",
   "mimetype": "text/x-python",
   "name": "python",
   "nbconvert_exporter": "python",
   "pygments_lexer": "ipython3",
   "version": "3.8.3"
  }
 },
 "nbformat": 4,
 "nbformat_minor": 4
}
