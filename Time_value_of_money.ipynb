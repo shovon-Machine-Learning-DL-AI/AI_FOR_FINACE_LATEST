{
 "cells": [
  {
   "cell_type": "markdown",
   "metadata": {},
   "source": [
    "<img src=\"img/TVM1.png\" title=\"Time Value of Money\"/>"
   ]
  },
  {
   "cell_type": "markdown",
   "metadata": {},
   "source": [
    "<div class=\"alert alert-block alert-success\">\n",
    "<b>Background:</b> In this section we will learn about using the Numpy and some other packages to calculate vaious components associated with <b>Time Value of Money</b>\n",
    "</div>"
   ]
  },
  {
   "cell_type": "markdown",
   "metadata": {},
   "source": [
    "<div class=\"alert alert-block alert-info\">\n",
    "<b><span style=\"font-family:Comic Sans MS\">Installing relevant packages -> Numpy and SciPy</span></b>\n",
    "</div>"
   ]
  },
  {
   "cell_type": "code",
   "execution_count": 1,
   "metadata": {},
   "outputs": [],
   "source": [
    "# !python3 -m pip install --upgrade <package name> --- Pip install command in Python with Upgrade option\n",
    "# !python3 -m pip install pytorch-lightning --- Pip install command in Python\n",
    "# conda install pytorch-lightning -c conda-forge --- Conda install option (syntax)"
   ]
  },
  {
   "cell_type": "code",
   "execution_count": 2,
   "metadata": {},
   "outputs": [],
   "source": [
    "# !python3 -m pip install --upgrade numpy"
   ]
  },
  {
   "cell_type": "code",
   "execution_count": 3,
   "metadata": {},
   "outputs": [
    {
     "name": "stdout",
     "output_type": "stream",
     "text": [
      "1.18.5\n",
      "1.5.0\n",
      "1.0.0\n"
     ]
    }
   ],
   "source": [
    "# !pip install numpy==1.18.5\n",
    "# !pip install scipy==1.5.0\n",
    "# !pip install numpy_financial==1.0.0\n",
    "import numpy as np\n",
    "import scipy as scp\n",
    "import numpy_financial as npf\n",
    "print(np.__version__)\n",
    "print(scp.__version__)\n",
    "print(npf.__version__)"
   ]
  },
  {
   "cell_type": "markdown",
   "metadata": {},
   "source": [
    "<div class=\"alert alert-block alert-info\">\n",
    "<b><span style=\"font-family:Comic Sans MS\">Calculate Time value of Money</span></b>\n",
    "</div>"
   ]
  },
  {
   "cell_type": "code",
   "execution_count": 4,
   "metadata": {},
   "outputs": [
    {
     "data": {
      "image/png": "[encoded data removed]",
      "text/plain": [
       "<Figure size 432x288 with 1 Axes>"
      ]
     },
     "metadata": {},
     "output_type": "display_data"
    }
   ],
   "source": [
    "import numpy_financial as npf\n",
    "import matplotlib.pyplot as plt\n",
    "from matplotlib.pyplot import *\n",
    "%matplotlib inline\n",
    "\n",
    "fig1 = figure(facecolor='white')\n",
    "ax1 = axes(frameon=True)\n",
    "ax1.set_frame_on(True)\n",
    "ax1.get_xaxis().tick_bottom()\n",
    "ax1.axes.get_yaxis().set_visible(True)\n",
    "x=range(0,20,5)\t\n",
    "x1=range(len(x),0,-1)\n",
    "y = [0]*len(x);\n",
    "name=\"Today's value of $1000 received today\"\n",
    "annotate(name,xy=(0,0),xytext=(2,0.02),arrowprops=dict(facecolor='green',shrink=0.0003))\n",
    "s = [50*2**n for n in x1];\n",
    "title(\"Time value of money \")\n",
    "xlabel(\"Time (number of years)\")\n",
    "scatter(x,y,s=s);\n",
    "show()"
   ]
  },
  {
   "cell_type": "markdown",
   "metadata": {},
   "source": [
    "<div class=\"alert alert-block alert-info\">\n",
    "<b><span style=\"font-family:Comic Sans MS\">Calculate Future Value and Present Value of a given amount of Money</span></b>\n",
    "</div>"
   ]
  },
  {
   "cell_type": "markdown",
   "metadata": {},
   "source": [
    "<div class=\"alert alert-block alert-warning\">\n",
    "<b>Problem Statement:</b> What would be the <b>Future Value</b> of $5000 invested today at the end of 5th year with a 10% annual interest rate\n",
    "</div>"
   ]
  },
  {
   "cell_type": "markdown",
   "metadata": {},
   "source": [
    "<img src=\"img/TVM2.png\" title=\"Time Value of Money\"/>"
   ]
  },
  {
   "cell_type": "markdown",
   "metadata": {},
   "source": [
    "<img src=\"img/TVM3.png\" title=\"Time Value of Money\"/>"
   ]
  },
  {
   "cell_type": "code",
   "execution_count": 13,
   "metadata": {},
   "outputs": [
    {
     "data": {
      "text/plain": [
       "-8052.550000000003"
      ]
     },
     "execution_count": 13,
     "metadata": {},
     "output_type": "execute_result"
    }
   ],
   "source": [
    "# import numpy as np\n",
    "from numpy_financial import fv\n",
    "fv(0.1,5,0,5000)"
   ]
  },
  {
   "cell_type": "markdown",
   "metadata": {},
   "source": [
    "**python script**\n",
    "\n",
    "numpy_financial.fv(rate, nper, pmt, pv, when='end')\n",
    "\n",
    "__parameters:__\n",
    "    \n",
    "    rate:rate of interest as decimal (not per cent) per period\n",
    "        \n",
    "    nper:Number of compounding periods\n",
    "        \n",
    "    pmt:Payment\n",
    "        \n",
    "    pv:Present Value\n",
    "        \n",
    "    when:When payments are due (‘begin’ (1) or ‘end’ (0)). Defaults to {‘end’, 0}."
   ]
  },
  {
   "cell_type": "code",
   "execution_count": 14,
   "metadata": {},
   "outputs": [
    {
     "data": {
      "text/plain": [
       "-5000.0"
      ]
     },
     "execution_count": 14,
     "metadata": {},
     "output_type": "execute_result"
    }
   ],
   "source": [
    "# Alternatively you can find the present value of $8052.55\n",
    "from numpy_financial import pv\n",
    "pv(0.1,5,0,8052.550000000003)"
   ]
  },
  {
   "cell_type": "code",
   "execution_count": 15,
   "metadata": {},
   "outputs": [
    {
     "data": {
      "text/plain": [
       "5000.0"
      ]
     },
     "execution_count": 15,
     "metadata": {},
     "output_type": "execute_result"
    }
   ],
   "source": [
    "# One can try to use the formula shown above to calculate the PV of the $8052.550000000003 with \n",
    "# annual int. rate 10%\n",
    "# PV = FV/(1+R)^n\n",
    "8052.550000000003/(1+0.10)**5"
   ]
  },
  {
   "cell_type": "code",
   "execution_count": 16,
   "metadata": {
    "scrolled": true
   },
   "outputs": [
    {
     "name": "stdout",
     "output_type": "stream",
     "text": [
      "Help on function fv in module numpy_financial._financial:\n",
      "\n",
      "fv(rate, nper, pmt, pv, when='end')\n",
      "    Compute the future value.\n",
      "    \n",
      "    Given:\n",
      "     * a present value, `pv`\n",
      "     * an interest `rate` compounded once per period, of which\n",
      "       there are\n",
      "     * `nper` total\n",
      "     * a (fixed) payment, `pmt`, paid either\n",
      "     * at the beginning (`when` = {'begin', 1}) or the end\n",
      "       (`when` = {'end', 0}) of each period\n",
      "    \n",
      "    Return:\n",
      "       the value at the end of the `nper` periods\n",
      "    \n",
      "    Parameters\n",
      "    ----------\n",
      "    rate : scalar or array_like of shape(M, )\n",
      "        Rate of interest as decimal (not per cent) per period\n",
      "    nper : scalar or array_like of shape(M, )\n",
      "        Number of compounding periods\n",
      "    pmt : scalar or array_like of shape(M, )\n",
      "        Payment\n",
      "    pv : scalar or array_like of shape(M, )\n",
      "        Present value\n",
      "    when : {{'begin', 1}, {'end', 0}}, {string, int}, optional\n",
      "        When payments are due ('begin' (1) or 'end' (0)).\n",
      "        Defaults to {'end', 0}.\n",
      "    \n",
      "    Returns\n",
      "    -------\n",
      "    out : ndarray\n",
      "        Future values.  If all input is scalar, returns a scalar float.  If\n",
      "        any input is array_like, returns future values for each input element.\n",
      "        If multiple inputs are array_like, they all must have the same shape.\n",
      "    \n",
      "    Notes\n",
      "    -----\n",
      "    The future value is computed by solving the equation::\n",
      "    \n",
      "     fv +\n",
      "     pv*(1+rate)**nper +\n",
      "     pmt*(1 + rate*when)/rate*((1 + rate)**nper - 1) == 0\n",
      "    \n",
      "    or, when ``rate == 0``::\n",
      "    \n",
      "     fv + pv + pmt * nper == 0\n",
      "    \n",
      "    References\n",
      "    ----------\n",
      "    .. [WRW] Wheeler, D. A., E. Rathke, and R. Weir (Eds.) (2009, May).\n",
      "       Open Document Format for Office Applications (OpenDocument)v1.2,\n",
      "       Part 2: Recalculated Formula (OpenFormula) Format - Annotated Version,\n",
      "       Pre-Draft 12. Organization for the Advancement of Structured Information\n",
      "       Standards (OASIS). Billerica, MA, USA. [ODT Document].\n",
      "       Available:\n",
      "       http://www.oasis-open.org/committees/documents.php?wg_abbrev=office-formula\n",
      "       OpenDocument-formula-20090508.odt\n",
      "    \n",
      "    Examples\n",
      "    --------\n",
      "    >>> import numpy as np\n",
      "    >>> import numpy_financial as npf\n",
      "    \n",
      "    What is the future value after 10 years of saving $100 now, with\n",
      "    an additional monthly savings of $100.  Assume the interest rate is\n",
      "    5% (annually) compounded monthly?\n",
      "    \n",
      "    >>> npf.fv(0.05/12, 10*12, -100, -100)\n",
      "    15692.928894335748\n",
      "    \n",
      "    By convention, the negative sign represents cash flow out (i.e. money not\n",
      "    available today).  Thus, saving $100 a month at 5% annual interest leads\n",
      "    to $15,692.93 available to spend in 10 years.\n",
      "    \n",
      "    If any input is array_like, returns an array of equal shape.  Let's\n",
      "    compare different interest rates from the example above.\n",
      "    \n",
      "    >>> a = np.array((0.05, 0.06, 0.07))/12\n",
      "    >>> npf.fv(a, 10*12, -100, -100)\n",
      "    array([ 15692.92889434,  16569.87435405,  17509.44688102]) # may vary\n",
      "\n"
     ]
    }
   ],
   "source": [
    "# You can seek help to know more about the function\n",
    "help(fv)"
   ]
  },
  {
   "cell_type": "code",
   "execution_count": 17,
   "metadata": {
    "scrolled": true
   },
   "outputs": [
    {
     "name": "stdout",
     "output_type": "stream",
     "text": [
      "Help on function pv in module numpy_financial._financial:\n",
      "\n",
      "pv(rate, nper, pmt, fv=0, when='end')\n",
      "    Compute the present value.\n",
      "    \n",
      "    Given:\n",
      "     * a future value, `fv`\n",
      "     * an interest `rate` compounded once per period, of which\n",
      "       there are\n",
      "     * `nper` total\n",
      "     * a (fixed) payment, `pmt`, paid either\n",
      "     * at the beginning (`when` = {'begin', 1}) or the end\n",
      "       (`when` = {'end', 0}) of each period\n",
      "    \n",
      "    Return:\n",
      "       the value now\n",
      "    \n",
      "    Parameters\n",
      "    ----------\n",
      "    rate : array_like\n",
      "        Rate of interest (per period)\n",
      "    nper : array_like\n",
      "        Number of compounding periods\n",
      "    pmt : array_like\n",
      "        Payment\n",
      "    fv : array_like, optional\n",
      "        Future value\n",
      "    when : {{'begin', 1}, {'end', 0}}, {string, int}, optional\n",
      "        When payments are due ('begin' (1) or 'end' (0))\n",
      "    \n",
      "    Returns\n",
      "    -------\n",
      "    out : ndarray, float\n",
      "        Present value of a series of payments or investments.\n",
      "    \n",
      "    Notes\n",
      "    -----\n",
      "    The present value is computed by solving the equation::\n",
      "    \n",
      "     fv +\n",
      "     pv*(1 + rate)**nper +\n",
      "     pmt*(1 + rate*when)/rate*((1 + rate)**nper - 1) = 0\n",
      "    \n",
      "    or, when ``rate = 0``::\n",
      "    \n",
      "     fv + pv + pmt * nper = 0\n",
      "    \n",
      "    for `pv`, which is then returned.\n",
      "    \n",
      "    References\n",
      "    ----------\n",
      "    .. [WRW] Wheeler, D. A., E. Rathke, and R. Weir (Eds.) (2009, May).\n",
      "       Open Document Format for Office Applications (OpenDocument)v1.2,\n",
      "       Part 2: Recalculated Formula (OpenFormula) Format - Annotated Version,\n",
      "       Pre-Draft 12. Organization for the Advancement of Structured Information\n",
      "       Standards (OASIS). Billerica, MA, USA. [ODT Document].\n",
      "       Available:\n",
      "       http://www.oasis-open.org/committees/documents.php?wg_abbrev=office-formula\n",
      "       OpenDocument-formula-20090508.odt\n",
      "    \n",
      "    Examples\n",
      "    --------\n",
      "    >>> import numpy as np\n",
      "    >>> import numpy_financial as npf\n",
      "    \n",
      "    What is the present value (e.g., the initial investment)\n",
      "    of an investment that needs to total $15692.93\n",
      "    after 10 years of saving $100 every month?  Assume the\n",
      "    interest rate is 5% (annually) compounded monthly.\n",
      "    \n",
      "    >>> npf.pv(0.05/12, 10*12, -100, 15692.93)\n",
      "    -100.00067131625819\n",
      "    \n",
      "    By convention, the negative sign represents cash flow out\n",
      "    (i.e., money not available today).  Thus, to end up with\n",
      "    $15,692.93 in 10 years saving $100 a month at 5% annual\n",
      "    interest, one's initial deposit should also be $100.\n",
      "    \n",
      "    If any input is array_like, ``pv`` returns an array of equal shape.\n",
      "    Let's compare different interest rates in the example above:\n",
      "    \n",
      "    >>> a = np.array((0.05, 0.04, 0.03))/12\n",
      "    >>> npf.pv(a, 10*12, -100, 15692.93)\n",
      "    array([ -100.00067132,  -649.26771385, -1273.78633713]) # may vary\n",
      "    \n",
      "    So, to end up with the same $15692.93 under the same $100 per month\n",
      "    \"savings plan,\" for annual interest rates of 4% and 3%, one would\n",
      "    need initial investments of $649.27 and $1273.79, respectively.\n",
      "\n"
     ]
    }
   ],
   "source": [
    "help(pv)"
   ]
  },
  {
   "cell_type": "markdown",
   "metadata": {},
   "source": [
    "<div class=\"alert alert-block alert-info\">\n",
    "<b><span style=\"font-family:Comic Sans MS\">Use custom function to calculate Future Value and Present Value of a given amount of Money</span></b>\n",
    "</div>"
   ]
  },
  {
   "cell_type": "code",
   "execution_count": 18,
   "metadata": {},
   "outputs": [],
   "source": [
    "# Define the function for the PV caculation\n",
    "def Custom_PresentValue(r, n, fv):\n",
    "    '''\n",
    "    This function is defined to calculate the present value of a future cashflow\n",
    "    Params:\n",
    "          r: rate of interest or period rate\n",
    "          n: number of period\n",
    "          fv: future value\n",
    "          \n",
    "    formula: pv = fv/(1+r)**n\n",
    "    '''\n",
    "    import numpy_financial as npf\n",
    "    return(-npf.pv(r,n,0,fv))"
   ]
  },
  {
   "cell_type": "code",
   "execution_count": 19,
   "metadata": {},
   "outputs": [
    {
     "data": {
      "text/plain": [
       "5000.0"
      ]
     },
     "execution_count": 19,
     "metadata": {},
     "output_type": "execute_result"
    }
   ],
   "source": [
    "Custom_PresentValue(0.1,5,8052.550000000003)"
   ]
  },
  {
   "cell_type": "code",
   "execution_count": 20,
   "metadata": {},
   "outputs": [],
   "source": [
    "# Define the function for the FV caculation\n",
    "def Custom_FutureValue(r, n, pv):\n",
    "    '''\n",
    "    This function is defined to calculate the future value of present sum of money\n",
    "    Params:\n",
    "          r: rate of interest or period rate\n",
    "          n: number of period\n",
    "          pv: present value\n",
    "          \n",
    "    formula: fv = pv*(1+r)**n\n",
    "    '''\n",
    "    import numpy_financial as npf\n",
    "    return(-npf.fv(r,n,0,pv))"
   ]
  },
  {
   "cell_type": "code",
   "execution_count": 21,
   "metadata": {},
   "outputs": [
    {
     "data": {
      "text/plain": [
       "8052.550000000003"
      ]
     },
     "execution_count": 21,
     "metadata": {},
     "output_type": "execute_result"
    }
   ],
   "source": [
    "Custom_FutureValue(0.1,5,5000)"
   ]
  },
  {
   "cell_type": "markdown",
   "metadata": {},
   "source": [
    "<div class=\"alert alert-block alert-info\">\n",
    "<b><span style=\"font-family:Comic Sans MS\"> Define our own Financial Calculator using custom functions</span></b>\n",
    "</div>"
   ]
  },
  {
   "cell_type": "code",
   "execution_count": 22,
   "metadata": {},
   "outputs": [],
   "source": [
    "def PresentValue_Func(fv,r,n):\n",
    "    '''\n",
    "    This function is defined to calculate the Present value of a future cash flow\n",
    "    Params:\n",
    "          r: rate of interest or period rate\n",
    "          n: number of period\n",
    "          fv: Future Value\n",
    "          \n",
    "    formula: pv = fv/(1+r)**n\n",
    "    '''\n",
    "    return fv/(1+r)**n\n",
    "\n",
    "def PresentValue_Perpetuity(c,r):\n",
    "    '''\n",
    "    This function is defined to calculate the Present value of a perpetuity\n",
    "    Params:\n",
    "          r: rate of interest or period rate/annual discount rate\n",
    "          c: cash flow\n",
    "          \n",
    "          \n",
    "    formula: PVP = c/r\n",
    "    '''\n",
    "    return c/r\n",
    "\n",
    "def PresentValue_PerpetuityGrowing(c,r,g):\n",
    "    '''\n",
    "    This function is defined to calculate the Present value of a perpetuity\n",
    "    Params:\n",
    "          r: rate of interest or period rate/annual discount rate\n",
    "          c: cash flow\n",
    "          g: consistant growth rate\n",
    "          \n",
    "          \n",
    "    formula: PVPG = c/(r-g)\n",
    "    '''\n",
    "    return c/(r-g)\n",
    "\n",
    "def PresentValue_PerpetuityDue(c,r):\n",
    "    '''\n",
    "    This function is defined to calculate the Present value of a perpetuity due\n",
    "    Params:\n",
    "          r: rate of interest or period rate\n",
    "          c: cash flow\n",
    "          \n",
    "    formula: PVPD = c/r*(1+r)\n",
    "    '''\n",
    "    return c/r*(1+r)\n",
    "\n",
    "def PresentValue_Annuity(c,r,n):\n",
    "    '''\n",
    "    This function is defined to calculate the Present value of a annuity\n",
    "    Params:\n",
    "          r: rate of interest or period rate\n",
    "          c: cash flow\n",
    "          n: number of period\n",
    "          \n",
    "    formula: PVA = c/r*(1-1/(1+r)**n)\n",
    "    '''\n",
    "    return c/r*(1-1/(1+r)**n)\n",
    "\n",
    "def PresentValue_AnnuityDue(c,r,n):\n",
    "    '''\n",
    "    This function is defined to calculate the Present value of a annuity due\n",
    "    Params:\n",
    "          r: rate of interest or period rate\n",
    "          c: cash flow\n",
    "          n: number of period\n",
    "          \n",
    "    formula: PVPD = c/r*(1-1/(1+r)**n)*(1+r)\n",
    "    '''\n",
    "    return c/r*(1-1/(1+r)**n)*(1+r)\n",
    "\n",
    "def PresentValue_AnnuityGrowing(c,r,n,g):\n",
    "    '''\n",
    "    This function is defined to calculate the Present value of a growing annuity\n",
    "    Params:\n",
    "          r: rate of interest or period rate\n",
    "          c: cash flow\n",
    "          n: number of period\n",
    "          g: constant growth rate\n",
    "          \n",
    "    formula: PVPG = c/r*(1-(1+g)**n/(1+r)**n)\n",
    "    '''\n",
    "    return c/r*(1-(1+g)**n/(1+r)**n)\n",
    "\n",
    "def FutureValue_Func(pv,r,n):\n",
    "    '''\n",
    "    This function is defined to calculate the Future value of a sum of money\n",
    "    Params:\n",
    "          r: rate of interest or period rate\n",
    "          n: number of period\n",
    "          pv: Present Value\n",
    "          \n",
    "    formula: fv = pv*(1+r)**n\n",
    "    '''\n",
    "    return pv*(1+r)**n"
   ]
  },
  {
   "cell_type": "code",
   "execution_count": 23,
   "metadata": {},
   "outputs": [
    {
     "data": {
      "text/plain": [
       "5000.0"
      ]
     },
     "execution_count": 23,
     "metadata": {},
     "output_type": "execute_result"
    }
   ],
   "source": [
    "# calculate the following quantity\n",
    "PresentValue_Func(8052.550000000003,0.1,5)"
   ]
  },
  {
   "cell_type": "markdown",
   "metadata": {},
   "source": [
    "<div class=\"alert alert-block alert-warning\">\n",
    "<b>Problem Statement:</b> How much should be contributed today to get a <b>perpetuity worth of $5000 per year</b> with annual discount rate of 2.5%"
   ]
  },
  {
   "cell_type": "code",
   "execution_count": 24,
   "metadata": {},
   "outputs": [
    {
     "data": {
      "text/plain": [
       "200000.0"
      ]
     },
     "execution_count": 24,
     "metadata": {},
     "output_type": "execute_result"
    }
   ],
   "source": [
    "# we can apply the formula as PV(perpetuity) = C/R\n",
    "PresentValue_Perpetuity(5000,0.025)"
   ]
  },
  {
   "cell_type": "markdown",
   "metadata": {},
   "source": [
    "<div class=\"alert alert-block alert-warning\">\n",
    "<b>Problem Statement:</b> How much should be contributed today to get a <b>growing perpetuity worth of $5000 per year</b> with annual discount rate of 2.5% and annual inflation rate is 1%"
   ]
  },
  {
   "cell_type": "code",
   "execution_count": 25,
   "metadata": {},
   "outputs": [
    {
     "name": "stdout",
     "output_type": "stream",
     "text": [
      "333333.33\n"
     ]
    }
   ],
   "source": [
    "print(round(PresentValue_PerpetuityGrowing(5000,0.025,0.01),2))"
   ]
  },
  {
   "cell_type": "code",
   "execution_count": 26,
   "metadata": {},
   "outputs": [
    {
     "name": "stdout",
     "output_type": "stream",
     "text": [
      "333333.33\n"
     ]
    }
   ],
   "source": [
    "# This can be verified again\n",
    "pv_ann_growing = 5000/(0.025-0.01)\n",
    "print(round(pv_ann_growing,2))"
   ]
  },
  {
   "cell_type": "code",
   "execution_count": 27,
   "metadata": {},
   "outputs": [
    {
     "data": {
      "text/plain": [
       "19963.550185390442"
      ]
     },
     "execution_count": 27,
     "metadata": {},
     "output_type": "execute_result"
    }
   ],
   "source": [
    "# Lets calculate the present value of an annuity - Cashflow:$5000, annula discount rate:8% and number of period: 5\n",
    "PresentValue_Annuity(5000,0.08,5)"
   ]
  },
  {
   "cell_type": "code",
   "execution_count": 28,
   "metadata": {},
   "outputs": [
    {
     "data": {
      "text/plain": [
       "17793.763749271067"
      ]
     },
     "execution_count": 28,
     "metadata": {},
     "output_type": "execute_result"
    }
   ],
   "source": [
    "# Lets calculate the present value of an annuity - Cashflow:$5000, annula discount rate:8% and number of period: 5, growth rate: 1%\n",
    "PresentValue_AnnuityGrowing(5000,0.08,5,0.01)"
   ]
  },
  {
   "cell_type": "markdown",
   "metadata": {},
   "source": [
    "<div class=\"alert alert-block alert-warning\">\n",
    "<b>Problem Statement:</b> Assume the discount rate is 1% per year, \n",
    "the annual cash flow is $5000 \n",
    "for the next 10 years.\n",
    "\n",
    "The first cash flow will be paid today. What is the PV of those cash flows?\n"
   ]
  },
  {
   "cell_type": "markdown",
   "metadata": {},
   "source": [
    "<img src=\"img/TVM6.png\" title=\"PV & FV calculation of Annuity Due\"/>"
   ]
  },
  {
   "cell_type": "code",
   "execution_count": 29,
   "metadata": {},
   "outputs": [
    {
     "data": {
      "text/plain": [
       "47830.08788004346"
      ]
     },
     "execution_count": 29,
     "metadata": {},
     "output_type": "execute_result"
    }
   ],
   "source": [
    "PresentValue_AnnuityDue(5000,0.01,10)"
   ]
  },
  {
   "cell_type": "code",
   "execution_count": 30,
   "metadata": {},
   "outputs": [
    {
     "data": {
      "text/plain": [
       "8000.0"
      ]
     },
     "execution_count": 30,
     "metadata": {},
     "output_type": "execute_result"
    }
   ],
   "source": [
    "# Lets calculate the future value of sum total of money\n",
    "FutureValue_Func(4967.370584473239,0.1,5)"
   ]
  },
  {
   "cell_type": "code",
   "execution_count": 31,
   "metadata": {},
   "outputs": [
    {
     "data": {
      "text/plain": [
       "4967.370584473239"
      ]
     },
     "execution_count": 31,
     "metadata": {},
     "output_type": "execute_result"
    }
   ],
   "source": [
    "PresentValue_Func(8000,0.1,5)"
   ]
  },
  {
   "cell_type": "markdown",
   "metadata": {},
   "source": [
    "<div class=\"alert alert-block alert-warning\">\n",
    "<b>Problem Statement:</b> How much should be invested today for say next 10 years with annual rate of return 8% , such that you intend to withdraw $7000 at the beginning of each year.\n",
    "\n",
    "And moreover you expect to have $10000 at the end of the investment horizon."
   ]
  },
  {
   "cell_type": "markdown",
   "metadata": {},
   "source": [
    "<img src=\"img/TVM4.png\" title=\"Time Value of Money\"/>"
   ]
  },
  {
   "cell_type": "code",
   "execution_count": 32,
   "metadata": {},
   "outputs": [
    {
     "data": {
      "text/plain": [
       "-55360.15025684419"
      ]
     },
     "execution_count": 32,
     "metadata": {},
     "output_type": "execute_result"
    }
   ],
   "source": [
    "import numpy_financial as npf\n",
    "npf.pv(0.08,10,7000,10000,1)"
   ]
  },
  {
   "cell_type": "markdown",
   "metadata": {},
   "source": [
    "Similarly one can calculate the future value"
   ]
  },
  {
   "cell_type": "markdown",
   "metadata": {},
   "source": [
    "<img src=\"img/TVM5.png\" title=\"Time Value of Money\"/>"
   ]
  },
  {
   "cell_type": "markdown",
   "metadata": {},
   "source": [
    "<div class=\"alert alert-block alert-warning\">\n",
    "<b>Problem Statement:</b> Suppose we invest $5000 for 5 years. \n",
    "\n",
    "In addition, at the end of each year for the next 5 years, we also invest $1000. \n",
    "    \n",
    "If the rate of the return is 8% per year, then what would be the future value of this investment"
   ]
  },
  {
   "cell_type": "code",
   "execution_count": 33,
   "metadata": {},
   "outputs": [
    {
     "data": {
      "text/plain": [
       "-13213.24134400001"
      ]
     },
     "execution_count": 33,
     "metadata": {},
     "output_type": "execute_result"
    }
   ],
   "source": [
    "import numpy_financial as npf\n",
    "npf.fv(0.08,5,1000,5000)"
   ]
  },
  {
   "cell_type": "code",
   "execution_count": 34,
   "metadata": {},
   "outputs": [
    {
     "name": "stdout",
     "output_type": "stream",
     "text": [
      "Future Value of Annuity:  5866.600960000007\n",
      "Future Value of one present value:  7346.640384000003\n",
      "Future Value(total):  13213.24134400001\n"
     ]
    }
   ],
   "source": [
    "# Future value of annuity for 1000\n",
    "# FV(total) = FV(annuity) + FV(one PV)\n",
    "fv_annuity = 1000/0.08*((1+0.08)**5-1)\n",
    "# Future value of one PV = $5000\n",
    "fv_one_PV = 5000*(1+0.08)**5\n",
    "print('Future Value of Annuity: ',fv_annuity)\n",
    "print('Future Value of one present value: ',fv_one_PV)\n",
    "print('Future Value(total): ',fv_annuity+fv_one_PV)"
   ]
  },
  {
   "cell_type": "code",
   "execution_count": 35,
   "metadata": {},
   "outputs": [
    {
     "name": "stdout",
     "output_type": "stream",
     "text": [
      "Present value of Annuity:  3992.7100370780886\n"
     ]
    }
   ],
   "source": [
    "# Let's now check how we can get the Present Value of all the 3 components\n",
    "# PV(total) = PV(annuity) + PV(one FV)\n",
    "# Obviously, the first $5000 is itself the present value. The present value of 5 $1000 could be calculated manually\n",
    "pv_annuity = 1000/0.08*(1-1/(1+0.08)**5)\n",
    "print('Present value of Annuity: ',pv_annuity)"
   ]
  },
  {
   "cell_type": "code",
   "execution_count": 36,
   "metadata": {},
   "outputs": [
    {
     "data": {
      "text/plain": [
       "3992.7100370780886"
      ]
     },
     "execution_count": 36,
     "metadata": {},
     "output_type": "execute_result"
    }
   ],
   "source": [
    "PresentValue_Annuity(1000,0.08,5)"
   ]
  },
  {
   "cell_type": "code",
   "execution_count": 37,
   "metadata": {},
   "outputs": [
    {
     "data": {
      "text/plain": [
       "-3992.7100370780886"
      ]
     },
     "execution_count": 37,
     "metadata": {},
     "output_type": "execute_result"
    }
   ],
   "source": [
    "# Alternative way to calculate the same\n",
    "import numpy_financial as npf\n",
    "npf.pv(0.08,5,1000)"
   ]
  },
  {
   "cell_type": "code",
   "execution_count": 38,
   "metadata": {},
   "outputs": [
    {
     "name": "stdout",
     "output_type": "stream",
     "text": [
      "Total FV:  13213.24134400001\n",
      "Total PV:  8992.710037078088\n"
     ]
    }
   ],
   "source": [
    "# Total FV and Total PV\n",
    "total_FV = fv_annuity+fv_one_PV\n",
    "total_PV = pv_annuity + 5000\n",
    "print('Total FV: ',total_FV)\n",
    "print('Total PV: ',total_PV)"
   ]
  },
  {
   "cell_type": "code",
   "execution_count": 39,
   "metadata": {},
   "outputs": [
    {
     "data": {
      "text/plain": [
       "8992.710037078088"
      ]
     },
     "execution_count": 39,
     "metadata": {},
     "output_type": "execute_result"
    }
   ],
   "source": [
    "# The relationship between FV and PV\n",
    "13213.24134400001/(1+0.08)**5"
   ]
  },
  {
   "cell_type": "markdown",
   "metadata": {},
   "source": [
    "<div class=\"alert alert-block alert-info\">\n",
    "<b><span style=\"font-family:Comic Sans MS\"> NPV(Net Present Value) and NPV Rules</span></b>\n",
    "</div>"
   ]
  },
  {
   "cell_type": "markdown",
   "metadata": {},
   "source": [
    "**NPV is defined as:**\n",
    ">NPV = PV(all benefits) - PV(all cost)"
   ]
  },
  {
   "cell_type": "markdown",
   "metadata": {},
   "source": [
    "<div class=\"alert alert-block alert-warning\">\n",
    "<b>Problem Statement:</b> Suppose the initial investment is $50000.\n",
    "\n",
    "The cashflow for the next 5 years are:[\n",
    "$25000,\n",
    "    \n",
    "$20000,\n",
    "\n",
    "$45000,\n",
    "    \n",
    "$37000,\n",
    "\n",
    "$50000].\n",
    "    \n",
    "The discount rate is:12%\n",
    "\n",
    "What is the NPV of this hypothetical Project?"
   ]
  },
  {
   "cell_type": "code",
   "execution_count": 5,
   "metadata": {},
   "outputs": [
    {
     "name": "stdout",
     "output_type": "stream",
     "text": [
      "72180.93\n"
     ]
    }
   ],
   "source": [
    "import numpy_financial as npf\n",
    "cf = [-50000,25000,20000,45000,37000,50000]\n",
    "rate = 0.12\n",
    "npv = npf.npv(rate,cf)\n",
    "print(round(npv,2))"
   ]
  },
  {
   "cell_type": "markdown",
   "metadata": {},
   "source": [
    "__NPV Rule:__\n",
    "    \n",
    ">{if NPV>0}: accept\n",
    "\n",
    ">{if NPV<0}: reject"
   ]
  },
  {
   "cell_type": "markdown",
   "metadata": {},
   "source": [
    "As per the above formula, we can conclude that the above project is going to be accepted"
   ]
  },
  {
   "cell_type": "markdown",
   "metadata": {},
   "source": [
    "<div class=\"alert alert-block alert-info\">\n",
    "<b><span style=\"font-family:Comic Sans MS\"> IRR(Internal Rate of Return) and IRR Rules</span></b>\n",
    "</div>"
   ]
  },
  {
   "cell_type": "markdown",
   "metadata": {},
   "source": [
    "<div class=\"alert alert-block alert-success\">\n",
    "<b>Background:</b> The <b>Interal rate of return (IRR)</b> is defined as the discount rate that makes the NPV =0\n",
    "</div>"
   ]
  },
  {
   "cell_type": "markdown",
   "metadata": {},
   "source": [
    "<div class=\"alert alert-block alert-warning\">\n",
    "<b>Problem Statement:</b> For the above project detail, calculate the IRR of the project"
   ]
  },
  {
   "cell_type": "code",
   "execution_count": 6,
   "metadata": {},
   "outputs": [
    {
     "name": "stdout",
     "output_type": "stream",
     "text": [
      "0.53\n"
     ]
    }
   ],
   "source": [
    "import numpy_financial as npf\n",
    "cf = [-50000,25000,20000,45000,37000,50000]\n",
    "IRR = npf.irr(cf)\n",
    "print(round(IRR,2))"
   ]
  },
  {
   "cell_type": "markdown",
   "metadata": {},
   "source": [
    "We can also verify if such a high rate makes the NPV =0 or not"
   ]
  },
  {
   "cell_type": "code",
   "execution_count": 8,
   "metadata": {},
   "outputs": [
    {
     "name": "stdout",
     "output_type": "stream",
     "text": [
      "0.53\n",
      "0.0\n"
     ]
    }
   ],
   "source": [
    "rate = npf.irr(cf)\n",
    "npv = npf.npv(rate,cf)\n",
    "print(round(rate,2))\n",
    "print(round(npv,2))"
   ]
  },
  {
   "cell_type": "markdown",
   "metadata": {},
   "source": [
    "So indeed irr rate is making the NPV = 0"
   ]
  },
  {
   "cell_type": "markdown",
   "metadata": {},
   "source": [
    "__IRR Rule:__\n",
    "    \n",
    ">{if IRR> Cost of Capital}: accept\n",
    "\n",
    ">{if IRR< Cost of Capital}: reject"
   ]
  },
  {
   "cell_type": "markdown",
   "metadata": {},
   "source": [
    "<div class=\"alert alert-block alert-warning\">\n",
    "<b>Problem Statement:</b> Let's suppose:\n",
    "The initial investment is \n",
    "    $1000 today and \n",
    "\n",
    "$500 next year.\n",
    "\n",
    "The cash flow for the next 5 years will be say:\n",
    "[$500, \n",
    "\n",
    "$700, \n",
    "    \n",
    "$1000,\n",
    "\n",
    "$900,\n",
    "    \n",
    "$200].\n",
    "\n",
    "Cost of capital: 10%\n",
    "    \n",
    "Should someone consider the project worthy to acquire?\n"
   ]
  },
  {
   "cell_type": "code",
   "execution_count": 9,
   "metadata": {},
   "outputs": [
    {
     "name": "stdout",
     "output_type": "stream",
     "text": [
      "25.949919326073246\n"
     ]
    }
   ],
   "source": [
    "import numpy_financial as npf\n",
    "cf = [-1000,-500,500,700,1000,900,200]\n",
    "print(npf.irr(cf)*100)"
   ]
  },
  {
   "cell_type": "markdown",
   "metadata": {},
   "source": [
    "Since IRR for this project is ~26% > Cost of capital. Based on the IRR rules, one should accept the project based on the IRR rules"
   ]
  },
  {
   "cell_type": "markdown",
   "metadata": {},
   "source": [
    "<div class=\"alert alert-block alert-info\">\n",
    "<b><span style=\"font-family:Comic Sans MS\"> pay-back period and pay-back period Rules</span></b>\n",
    "</div>"
   ]
  },
  {
   "cell_type": "markdown",
   "metadata": {},
   "source": [
    "<div class=\"alert alert-block alert-success\">\n",
    "<b>Background:</b> The discounted payback period is one of several capital budgeting methods used to evaluate capital investments. It gives the number of years required to recover the original investment in a project. The discounted payback period method takes into account the time value of money by discounting the future cash flows at a desired rate of return.\n",
    "</div>"
   ]
  },
  {
   "cell_type": "code",
   "execution_count": 11,
   "metadata": {},
   "outputs": [],
   "source": [
    "# Calculate DPBP(discounted payback period)\n",
    "import numpy_financial as npf\n",
    "import pandas as pd\n",
    "def dis_pb_period(rate, cash_flows=list()):\n",
    "    cashflows_df = pd.DataFrame(cash_flows, columns=['CashFlows'])\n",
    "    cashflows_df.index.name = 'Year'\n",
    "    cashflows_df['Dis_CashFlows'] = npf.pv(rate=rate, pmt=0, \n",
    "                                           nper=cashflows_df.index, \n",
    "                                           fv=-cashflows_df['CashFlows'])\n",
    "    cashflows_df['Cum_Dis_CashFlows'] = np.cumsum(cashflows_df['Dis_CashFlows'])\n",
    "    fin_full_year = cashflows_df[cashflows_df.Cum_Dis_CashFlows < 0].index.values.max()\n",
    "    fractional_yr = -cashflows_df.Cum_Dis_CashFlows[fin_full_year ]/cashflows_df.Dis_CashFlows[fin_full_year + 1]\n",
    "    payback_period = fin_full_year + fractional_yr\n",
    "    return payback_period"
   ]
  },
  {
   "cell_type": "markdown",
   "metadata": {},
   "source": [
    "<div class=\"alert alert-block alert-warning\">\n",
    "<b>Problem Statement:</b> Consider a project with initial outlay of $50K \n",
    "\n",
    "with expected cash flows [$17000,\n",
    "\n",
    "$20000,\n",
    "                                                                                                   \n",
    "$17000,\n",
    "\n",
    "$30000,\n",
    "\n",
    "$12500]\n",
    "\n",
    "The investor desiring atleast 12% return is interested in knowing the number of years it will take to recover his original investment of $50K"
   ]
  },
  {
   "cell_type": "code",
   "execution_count": 12,
   "metadata": {},
   "outputs": [
    {
     "name": "stdout",
     "output_type": "stream",
     "text": [
      "3.3554730666666672\n"
     ]
    }
   ],
   "source": [
    "rate = 0.12\n",
    "cash_flows = [-50000,17000,20000,17000,30000,12500]\n",
    "print(dis_pb_period(rate,cash_flows))"
   ]
  },
  {
   "cell_type": "markdown",
   "metadata": {},
   "source": [
    "As per the above calculation, it will take around a bit more than 3 years to recover the full amount invested"
   ]
  },
  {
   "cell_type": "markdown",
   "metadata": {},
   "source": [
    "__PB Period Rule:__\n",
    "    \n",
    ">{if PBP < Max. number of Years required to recover the initial amount}: accept\n",
    "\n",
    ">{if PBP > Max. number of Years required to recover the initial amount}: reject"
   ]
  },
  {
   "cell_type": "markdown",
   "metadata": {},
   "source": [
    "So in this case, if the max. number of years is 4 and PBP for the project is around 3.3 Years. We have good reason to believe that the project looks worthy."
   ]
  },
  {
   "cell_type": "markdown",
   "metadata": {},
   "source": [
    "<div class=\"alert alert-block alert-info\">\n",
    "<b><span style=\"font-family:Comic Sans MS\"> Issues with IRR</span></b>\n",
    "</div>"
   ]
  },
  {
   "cell_type": "code",
   "execution_count": 40,
   "metadata": {},
   "outputs": [],
   "source": [
    "import numpy_financial as npf\n",
    "import numpy as np\n",
    "# cashflows=[55,-50,-50,-50,100]\n",
    "cashflows=[5000,-4300,-4200,-4500,8500]\n",
    "n=1000\n",
    "n_cashflow=len(cashflows)\n",
    "epsilon=np.abs(np.mean(cashflows))*0.01\n",
    "irr=[-99.00]\n",
    "lag_sign=np.sign(npf.npv(0,cashflows))\n",
    "i=1\n",
    "j=1\n",
    "while(i<=n):\n",
    "    interest=i*0.001\n",
    "    s=np.sign(npf.npv(interest,cashflows))\n",
    "    i=i+1\n",
    "    if s*lag_sign<0:\n",
    "        lag_sign=s\n",
    "        if j==1:\n",
    "            irr=[interest]\n",
    "            j=2\n",
    "        else:\n",
    "            irr.append(interest)"
   ]
  },
  {
   "cell_type": "code",
   "execution_count": 41,
   "metadata": {},
   "outputs": [
    {
     "data": {
      "text/plain": [
       "[0.13, 0.20700000000000002]"
      ]
     },
     "execution_count": 41,
     "metadata": {},
     "output_type": "execute_result"
    }
   ],
   "source": [
    "irr"
   ]
  },
  {
   "cell_type": "code",
   "execution_count": 42,
   "metadata": {},
   "outputs": [
    {
     "data": {
      "image/png": "[encoded data removed]",
      "text/plain": [
       "<Figure size 432x288 with 1 Axes>"
      ]
     },
     "metadata": {
      "needs_background": "light"
     },
     "output_type": "display_data"
    }
   ],
   "source": [
    "import scipy as sp\n",
    "import matplotlib.pyplot as plt\n",
    "%matplotlib inline\n",
    "from matplotlib.pyplot import *\n",
    "import numpy_financial as npf\n",
    "cashflows=[5000,-4300,-4200,-4500,8500]\n",
    "rate=[]\n",
    "npv=[]\n",
    "x=[0,0.3]\n",
    "y=[0,0]\n",
    "for i in range(1,30): \n",
    "    rate.append(0.01*i)\n",
    "    npv.append(npf.npv(0.01*i,cashflows))\n",
    "    \n",
    "plt.plot(x,y),plt.plot(rate,npv)\n",
    "plt.show()"
   ]
  },
  {
   "cell_type": "markdown",
   "metadata": {},
   "source": [
    "<div class=\"alert alert-block alert-success\">\n",
    "<b>Explanation:</b> Since the direction of cash flow changes twice, we might have two IRRs.For abnormal projects or projects with multiple IRRs, we could not apply the IRR rule. When the cash flows change direction more than once, we might have multiple IRRs.\n",
    "</div>"
   ]
  },
  {
   "cell_type": "markdown",
   "metadata": {},
   "source": [
    "<span style=\"color:green\"><b>Congratulations!</b></span>"
   ]
  },
  {
   "cell_type": "code",
   "execution_count": null,
   "metadata": {},
   "outputs": [],
   "source": []
  }
 ],
 "metadata": {
  "kernelspec": {
   "display_name": "Python 3",
   "language": "python",
   "name": "python3"
  },
  "language_info": {
   "codemirror_mode": {
    "name": "ipython",
    "version": 3
   },
   "file_extension": ".py",
   "mimetype": "text/x-python",
   "name": "python",
   "nbconvert_exporter": "python",
   "pygments_lexer": "ipython3",
   "version": "3.8.3"
  }
 },
 "nbformat": 4,
 "nbformat_minor": 4
}
